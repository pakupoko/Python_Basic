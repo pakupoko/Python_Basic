{
 "cells": [
  {
   "cell_type": "markdown",
   "metadata": {},
   "source": [
    "# 집합(set)"
   ]
  },
  {
   "cell_type": "code",
   "execution_count": 1,
   "metadata": {},
   "outputs": [
    {
     "name": "stdout",
     "output_type": "stream",
     "text": [
      "{'값4', '값2', '값3', '값1'}\n"
     ]
    }
   ],
   "source": [
    "세트={'값1','값2','값3', '값4'}\n",
    "print(세트)"
   ]
  },
  {
   "cell_type": "code",
   "execution_count": 2,
   "metadata": {},
   "outputs": [
    {
     "data": {
      "text/plain": [
       "set"
      ]
     },
     "execution_count": 2,
     "metadata": {},
     "output_type": "execute_result"
    }
   ],
   "source": [
    "type(세트)"
   ]
  },
  {
   "cell_type": "code",
   "execution_count": 3,
   "metadata": {},
   "outputs": [
    {
     "data": {
      "text/plain": [
       "{'a', 'i', 'l', 'm', 'n'}"
      ]
     },
     "execution_count": 3,
     "metadata": {},
     "output_type": "execute_result"
    }
   ],
   "source": [
    "a=set(\"animal\")\n",
    "a"
   ]
  },
  {
   "cell_type": "code",
   "execution_count": 6,
   "metadata": {},
   "outputs": [
    {
     "name": "stdout",
     "output_type": "stream",
     "text": [
      "{1, 2, 3, 4, 5}\n",
      "{1, 2, 3, 4, 5}\n"
     ]
    }
   ],
   "source": [
    "a={1,2,3}\n",
    "b={3,4,5}\n",
    "print(a|b)\n",
    "print(set.union(a,b))\n"
   ]
  },
  {
   "cell_type": "code",
   "execution_count": 7,
   "metadata": {},
   "outputs": [
    {
     "data": {
      "text/plain": [
       "{3}"
      ]
     },
     "execution_count": 7,
     "metadata": {},
     "output_type": "execute_result"
    }
   ],
   "source": [
    "a={1,2,3}\n",
    "b={3,4,5}\n",
    "a&b"
   ]
  },
  {
   "cell_type": "code",
   "execution_count": 8,
   "metadata": {},
   "outputs": [
    {
     "data": {
      "text/plain": [
       "{3}"
      ]
     },
     "execution_count": 8,
     "metadata": {},
     "output_type": "execute_result"
    }
   ],
   "source": [
    "set.intersection(a,b)"
   ]
  },
  {
   "cell_type": "code",
   "execution_count": 9,
   "metadata": {},
   "outputs": [
    {
     "data": {
      "text/plain": [
       "{1, 2}"
      ]
     },
     "execution_count": 9,
     "metadata": {},
     "output_type": "execute_result"
    }
   ],
   "source": [
    "a-b"
   ]
  },
  {
   "cell_type": "code",
   "execution_count": 10,
   "metadata": {},
   "outputs": [
    {
     "data": {
      "text/plain": [
       "{1, 2}"
      ]
     },
     "execution_count": 10,
     "metadata": {},
     "output_type": "execute_result"
    }
   ],
   "source": [
    "set.difference(a,b)"
   ]
  },
  {
   "cell_type": "code",
   "execution_count": 11,
   "metadata": {},
   "outputs": [
    {
     "data": {
      "text/plain": [
       "{1, 2, 4, 5}"
      ]
     },
     "execution_count": 11,
     "metadata": {},
     "output_type": "execute_result"
    }
   ],
   "source": [
    "a^b"
   ]
  },
  {
   "cell_type": "code",
   "execution_count": 12,
   "metadata": {},
   "outputs": [
    {
     "data": {
      "text/plain": [
       "{1, 2, 4, 5}"
      ]
     },
     "execution_count": 12,
     "metadata": {},
     "output_type": "execute_result"
    }
   ],
   "source": [
    "set.symmetric_difference(a,b)"
   ]
  },
  {
   "cell_type": "code",
   "execution_count": 2,
   "metadata": {},
   "outputs": [
    {
     "data": {
      "text/plain": [
       "True"
      ]
     },
     "execution_count": 2,
     "metadata": {},
     "output_type": "execute_result"
    }
   ],
   "source": [
    "a={1,2,3,4}\n",
    "a<={1,2,3,4,5}"
   ]
  },
  {
   "cell_type": "code",
   "execution_count": 3,
   "metadata": {},
   "outputs": [
    {
     "data": {
      "text/plain": [
       "True"
      ]
     },
     "execution_count": 3,
     "metadata": {},
     "output_type": "execute_result"
    }
   ],
   "source": [
    "a.issubset({1,2,3,4,5})"
   ]
  },
  {
   "cell_type": "code",
   "execution_count": 4,
   "metadata": {},
   "outputs": [
    {
     "data": {
      "text/plain": [
       "False"
      ]
     },
     "execution_count": 4,
     "metadata": {},
     "output_type": "execute_result"
    }
   ],
   "source": [
    "a<={1,2,3}"
   ]
  },
  {
   "cell_type": "code",
   "execution_count": 5,
   "metadata": {},
   "outputs": [
    {
     "data": {
      "text/plain": [
       "False"
      ]
     },
     "execution_count": 5,
     "metadata": {},
     "output_type": "execute_result"
    }
   ],
   "source": [
    "a.issubset({1,2,3})"
   ]
  },
  {
   "cell_type": "code",
   "execution_count": 6,
   "metadata": {},
   "outputs": [
    {
     "data": {
      "text/plain": [
       "True"
      ]
     },
     "execution_count": 6,
     "metadata": {},
     "output_type": "execute_result"
    }
   ],
   "source": [
    "a>={1,2,3}"
   ]
  },
  {
   "cell_type": "code",
   "execution_count": 7,
   "metadata": {},
   "outputs": [
    {
     "data": {
      "text/plain": [
       "True"
      ]
     },
     "execution_count": 7,
     "metadata": {},
     "output_type": "execute_result"
    }
   ],
   "source": [
    "a.issuperset({1,2,3})"
   ]
  },
  {
   "cell_type": "code",
   "execution_count": 8,
   "metadata": {},
   "outputs": [
    {
     "data": {
      "text/plain": [
       "False"
      ]
     },
     "execution_count": 8,
     "metadata": {},
     "output_type": "execute_result"
    }
   ],
   "source": [
    "a>={1,2,3,4,5}"
   ]
  },
  {
   "cell_type": "code",
   "execution_count": 9,
   "metadata": {},
   "outputs": [
    {
     "data": {
      "text/plain": [
       "True"
      ]
     },
     "execution_count": 9,
     "metadata": {},
     "output_type": "execute_result"
    }
   ],
   "source": [
    "a.isdisjoint({5,6,7,8})"
   ]
  },
  {
   "cell_type": "code",
   "execution_count": 10,
   "metadata": {},
   "outputs": [
    {
     "data": {
      "text/plain": [
       "False"
      ]
     },
     "execution_count": 10,
     "metadata": {},
     "output_type": "execute_result"
    }
   ],
   "source": [
    "a.isdisjoint({2,3,4,5})"
   ]
  },
  {
   "cell_type": "code",
   "execution_count": 11,
   "metadata": {},
   "outputs": [],
   "source": [
    "a.add(5)"
   ]
  },
  {
   "cell_type": "code",
   "execution_count": 12,
   "metadata": {},
   "outputs": [
    {
     "data": {
      "text/plain": [
       "{1, 2, 3, 4, 5}"
      ]
     },
     "execution_count": 12,
     "metadata": {},
     "output_type": "execute_result"
    }
   ],
   "source": [
    "a"
   ]
  },
  {
   "cell_type": "code",
   "execution_count": 13,
   "metadata": {},
   "outputs": [],
   "source": [
    "a.remove(1)"
   ]
  },
  {
   "cell_type": "code",
   "execution_count": 14,
   "metadata": {},
   "outputs": [],
   "source": [
    "a.discard(2)"
   ]
  },
  {
   "cell_type": "code",
   "execution_count": 15,
   "metadata": {},
   "outputs": [
    {
     "data": {
      "text/plain": [
       "{3, 4, 5}"
      ]
     },
     "execution_count": 15,
     "metadata": {},
     "output_type": "execute_result"
    }
   ],
   "source": [
    "a"
   ]
  },
  {
   "cell_type": "code",
   "execution_count": 19,
   "metadata": {},
   "outputs": [
    {
     "name": "stdout",
     "output_type": "stream",
     "text": [
      "숫자 세개 입력하세요(숫자 숫자 숫자) : 101 67 69\n",
      "잘못된 점수가 입력되었습니다.\n"
     ]
    }
   ],
   "source": [
    "#숫자 입력, 변수 선언\n",
    "score=input(\"숫자 세개 입력하세요(숫자 숫자 숫자) : \").split()\n",
    "score_error=0\n",
    "\n",
    "#조건 확인\n",
    "for i in score:    \n",
    "    if int(i)<0 or int(i)>100:\n",
    "        score_error=2\n",
    "        break\n",
    "    elif int(i)<65:\n",
    "        score_error=1\n",
    "        break\n",
    "\n",
    "#결과 출력\n",
    "if(score_error==2):\n",
    "    print(\"잘못된 점수가 입력되었습니다.\")\n",
    "elif(score_error==1):\n",
    "    print(\"불합격\")\n",
    "elif(score_error==0):\n",
    "    print(\"합격\")\n",
    "else:\n",
    "    print(\"오류 발생\")"
   ]
  },
  {
   "cell_type": "code",
   "execution_count": 20,
   "metadata": {},
   "outputs": [
    {
     "name": "stdout",
     "output_type": "stream",
     "text": [
      "30\n",
      "60\n",
      "90\n",
      "200\n",
      "-70\n",
      "50\n",
      "[30, 60, 90, 200, -70, 50]\n"
     ]
    }
   ],
   "source": [
    "x=[3,6,9,20,-7,5]\n",
    "\n",
    "for idx,val in enumerate(x):\n",
    "    x[idx]*=10\n",
    "    print(x[idx])\n",
    "\n",
    "print(x)"
   ]
  },
  {
   "cell_type": "code",
   "execution_count": 21,
   "metadata": {},
   "outputs": [
    {
     "name": "stdout",
     "output_type": "stream",
     "text": [
      "80\n",
      "90\n",
      "30\n",
      "{'math': 80, 'science': 90, 'english': 30}\n"
     ]
    }
   ],
   "source": [
    "y={\"math\":70, \"science\":80, \"english\":20}\n",
    "\n",
    "for i in y:\n",
    "    y[i]+=10\n",
    "    print(y[i])\n",
    "    \n",
    "print(y)"
   ]
  },
  {
   "cell_type": "code",
   "execution_count": 23,
   "metadata": {},
   "outputs": [
    {
     "name": "stdout",
     "output_type": "stream",
     "text": [
      "숫자 입력 : 5\n",
      "5 * 1 = 5\n",
      "5 * 2 = 10\n",
      "5 * 3 = 15\n",
      "5 * 4 = 20\n",
      "5 * 5 = 25\n",
      "5 * 6 = 30\n",
      "5 * 7 = 35\n",
      "5 * 8 = 40\n",
      "5 * 9 = 45\n"
     ]
    }
   ],
   "source": [
    "num=int(input(\"숫자 입력 : \"))\n",
    "\n",
    "for i in range(1, 10):\n",
    "    print(f\"{num} * {i} = {num*i}\")"
   ]
  },
  {
   "cell_type": "code",
   "execution_count": 24,
   "metadata": {},
   "outputs": [
    {
     "name": "stdout",
     "output_type": "stream",
     "text": [
      "['school', 'science', 'mountian']\n"
     ]
    }
   ],
   "source": [
    "word=[\"school\",\"game\",\"piano\",\"science\",\"hotel\",\"mountian\"]\n",
    "new_word=list()\n",
    "\n",
    "for i in word:\n",
    "    if len(i)>=6:\n",
    "        new_word.append(i)\n",
    "        \n",
    "print(new_word)"
   ]
  },
  {
   "cell_type": "code",
   "execution_count": 2,
   "metadata": {},
   "outputs": [
    {
     "name": "stdout",
     "output_type": "stream",
     "text": [
      "1 * 1 = 1\t2 * 1 = 2\t3 * 1 = 3\t\n",
      "1 * 2 = 2\t2 * 2 = 4\t3 * 2 = 6\t\n",
      "1 * 3 = 3\t2 * 3 = 6\t3 * 3 = 9\t\n",
      "1 * 4 = 4\t2 * 4 = 8\t3 * 4 = 12\t\n",
      "1 * 5 = 5\t2 * 5 = 10\t3 * 5 = 15\t\n",
      "1 * 6 = 6\t2 * 6 = 12\t3 * 6 = 18\t\n",
      "1 * 7 = 7\t2 * 7 = 14\t3 * 7 = 21\t\n",
      "1 * 8 = 8\t2 * 8 = 16\t3 * 8 = 24\t\n",
      "1 * 9 = 9\t2 * 9 = 18\t3 * 9 = 27\t\n",
      "--------------------------------------------------------\n",
      "4 * 1 = 4\t5 * 1 = 5\t6 * 1 = 6\t\n",
      "4 * 2 = 8\t5 * 2 = 10\t6 * 2 = 12\t\n",
      "4 * 3 = 12\t5 * 3 = 15\t6 * 3 = 18\t\n",
      "4 * 4 = 16\t5 * 4 = 20\t6 * 4 = 24\t\n",
      "4 * 5 = 20\t5 * 5 = 25\t6 * 5 = 30\t\n",
      "4 * 6 = 24\t5 * 6 = 30\t6 * 6 = 36\t\n",
      "4 * 7 = 28\t5 * 7 = 35\t6 * 7 = 42\t\n",
      "4 * 8 = 32\t5 * 8 = 40\t6 * 8 = 48\t\n",
      "4 * 9 = 36\t5 * 9 = 45\t6 * 9 = 54\t\n",
      "--------------------------------------------------------\n",
      "7 * 1 = 7\t8 * 1 = 8\t9 * 1 = 9\t\n",
      "7 * 2 = 14\t8 * 2 = 16\t9 * 2 = 18\t\n",
      "7 * 3 = 21\t8 * 3 = 24\t9 * 3 = 27\t\n",
      "7 * 4 = 28\t8 * 4 = 32\t9 * 4 = 36\t\n",
      "7 * 5 = 35\t8 * 5 = 40\t9 * 5 = 45\t\n",
      "7 * 6 = 42\t8 * 6 = 48\t9 * 6 = 54\t\n",
      "7 * 7 = 49\t8 * 7 = 56\t9 * 7 = 63\t\n",
      "7 * 8 = 56\t8 * 8 = 64\t9 * 8 = 72\t\n",
      "7 * 9 = 63\t8 * 9 = 72\t9 * 9 = 81\t\n",
      "--------------------------------------------------------\n"
     ]
    }
   ],
   "source": [
    "for i in range(1,10,3):\n",
    "    for j in range(1, 10):\n",
    "        for k in range(i,i+3):\n",
    "            print(f\"{k} * {j} = {k*j}\",end=\"\\t\")\n",
    "        print()\n",
    "    print(\"--------------------------------------------------------\")"
   ]
  },
  {
   "cell_type": "code",
   "execution_count": 5,
   "metadata": {},
   "outputs": [
    {
     "name": "stdout",
     "output_type": "stream",
     "text": [
      "숫자 입력 : 20\n",
      "1\n",
      "2\n",
      "3 3의 배수\n",
      "4\n",
      "5 5의 배수\n",
      "6 3의 배수\n",
      "7\n",
      "8\n",
      "9 3의 배수\n",
      "10 5의 배수\n",
      "11\n",
      "12 3의 배수\n",
      "13\n",
      "14\n",
      "15 3과 5의 공배수\n",
      "16\n",
      "17\n",
      "18 3의 배수\n",
      "19\n",
      "20 5의 배수\n"
     ]
    }
   ],
   "source": [
    "num=int((input(\"숫자 입력 : \")))\n",
    "\n",
    "for i in range(1,num+1):\n",
    "    if i % 3== 0 and i % 5 == 0 :\n",
    "        print(i, \"3과 5의 공배수\")\n",
    "    \n",
    "    elif i % 3 == 0 :\n",
    "        print(i, \"3의 배수\")\n",
    "        \n",
    "    elif i % 5 == 0 :\n",
    "        print(i, \"5의 배수\")\n",
    "        \n",
    "    else :\n",
    "        print(i)"
   ]
  },
  {
   "cell_type": "code",
   "execution_count": null,
   "metadata": {},
   "outputs": [],
   "source": []
  }
 ],
 "metadata": {
  "kernelspec": {
   "display_name": "Python 3",
   "language": "python",
   "name": "python3"
  },
  "language_info": {
   "codemirror_mode": {
    "name": "ipython",
    "version": 3
   },
   "file_extension": ".py",
   "mimetype": "text/x-python",
   "name": "python",
   "nbconvert_exporter": "python",
   "pygments_lexer": "ipython3",
   "version": "3.6.6"
  }
 },
 "nbformat": 4,
 "nbformat_minor": 2
}
