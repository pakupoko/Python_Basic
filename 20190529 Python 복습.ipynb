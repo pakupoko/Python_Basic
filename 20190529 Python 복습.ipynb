{
 "cells": [
  {
   "cell_type": "code",
   "execution_count": 1,
   "metadata": {},
   "outputs": [],
   "source": [
    "def func(a,b):\n",
    "    print(\"함수입니다.\")\n",
    "    return a+b"
   ]
  },
  {
   "cell_type": "code",
   "execution_count": 2,
   "metadata": {},
   "outputs": [
    {
     "name": "stdout",
     "output_type": "stream",
     "text": [
      "함수입니다.\n",
      "3\n"
     ]
    }
   ],
   "source": [
    "func_test=func(1,2)\n",
    "print(func_test)"
   ]
  },
  {
   "cell_type": "code",
   "execution_count": 3,
   "metadata": {},
   "outputs": [
    {
     "name": "stdout",
     "output_type": "stream",
     "text": [
      "함수입니다.\n"
     ]
    },
    {
     "data": {
      "text/plain": [
       "9"
      ]
     },
     "execution_count": 3,
     "metadata": {},
     "output_type": "execute_result"
    }
   ],
   "source": [
    "func(5,4)"
   ]
  },
  {
   "cell_type": "code",
   "execution_count": 4,
   "metadata": {},
   "outputs": [],
   "source": [
    "def hello_world():\n",
    "    print(\"Hello World\")"
   ]
  },
  {
   "cell_type": "code",
   "execution_count": 7,
   "metadata": {},
   "outputs": [
    {
     "name": "stdout",
     "output_type": "stream",
     "text": [
      "Hello World\n"
     ]
    }
   ],
   "source": [
    "a=hello_world()"
   ]
  },
  {
   "cell_type": "code",
   "execution_count": 9,
   "metadata": {},
   "outputs": [
    {
     "name": "stdout",
     "output_type": "stream",
     "text": [
      "None\n"
     ]
    }
   ],
   "source": [
    "print(a)"
   ]
  },
  {
   "cell_type": "code",
   "execution_count": 10,
   "metadata": {},
   "outputs": [
    {
     "data": {
      "text/plain": [
       "NoneType"
      ]
     },
     "execution_count": 10,
     "metadata": {},
     "output_type": "execute_result"
    }
   ],
   "source": [
    "type(a)"
   ]
  },
  {
   "cell_type": "code",
   "execution_count": 11,
   "metadata": {},
   "outputs": [],
   "source": [
    "def hello_name(name):\n",
    "    print(f\"hello {name}\")"
   ]
  },
  {
   "cell_type": "code",
   "execution_count": 12,
   "metadata": {},
   "outputs": [
    {
     "name": "stdout",
     "output_type": "stream",
     "text": [
      "hello 21932139\n"
     ]
    }
   ],
   "source": [
    "my_name=\"21932139\"\n",
    "a=hello_name(my_name)"
   ]
  },
  {
   "cell_type": "code",
   "execution_count": 13,
   "metadata": {},
   "outputs": [
    {
     "name": "stdout",
     "output_type": "stream",
     "text": [
      "None\n"
     ]
    }
   ],
   "source": [
    "print(a)"
   ]
  },
  {
   "cell_type": "code",
   "execution_count": 14,
   "metadata": {},
   "outputs": [],
   "source": [
    "def func_sum(num1, num2):\n",
    "    return num1 + num2"
   ]
  },
  {
   "cell_type": "code",
   "execution_count": 15,
   "metadata": {},
   "outputs": [],
   "source": [
    "a=func_sum(3,5)"
   ]
  },
  {
   "cell_type": "code",
   "execution_count": 16,
   "metadata": {},
   "outputs": [
    {
     "data": {
      "text/plain": [
       "8"
      ]
     },
     "execution_count": 16,
     "metadata": {},
     "output_type": "execute_result"
    }
   ],
   "source": [
    "a"
   ]
  },
  {
   "cell_type": "code",
   "execution_count": 17,
   "metadata": {},
   "outputs": [],
   "source": [
    "import random\n",
    "\n",
    "def make_lotto_numbers():\n",
    "    return [random.randint(1,45) for x in range(6)]"
   ]
  },
  {
   "cell_type": "code",
   "execution_count": 19,
   "metadata": {},
   "outputs": [],
   "source": [
    "lotto=make_lotto_numbers()"
   ]
  },
  {
   "cell_type": "code",
   "execution_count": 20,
   "metadata": {},
   "outputs": [
    {
     "data": {
      "text/plain": [
       "[35, 20, 41, 8, 38, 6]"
      ]
     },
     "execution_count": 20,
     "metadata": {},
     "output_type": "execute_result"
    }
   ],
   "source": [
    "lotto"
   ]
  },
  {
   "cell_type": "code",
   "execution_count": 21,
   "metadata": {},
   "outputs": [],
   "source": [
    "a,b,c=1,2,5"
   ]
  },
  {
   "cell_type": "code",
   "execution_count": 22,
   "metadata": {},
   "outputs": [],
   "source": [
    "def func():\n",
    "    a=3\n",
    "    b=4\n",
    "    print(a,b,c)"
   ]
  },
  {
   "cell_type": "code",
   "execution_count": 24,
   "metadata": {},
   "outputs": [
    {
     "name": "stdout",
     "output_type": "stream",
     "text": [
      "3 4 5\n"
     ]
    }
   ],
   "source": [
    "func()"
   ]
  },
  {
   "cell_type": "code",
   "execution_count": 25,
   "metadata": {},
   "outputs": [
    {
     "name": "stdout",
     "output_type": "stream",
     "text": [
      "1 2\n"
     ]
    }
   ],
   "source": [
    "print(a,b)"
   ]
  },
  {
   "cell_type": "code",
   "execution_count": 28,
   "metadata": {},
   "outputs": [],
   "source": [
    "def func2():\n",
    "    a=5\n",
    "    b=6\n",
    "    \n",
    "    func()\n",
    "    \n",
    "    print(a,b)"
   ]
  },
  {
   "cell_type": "code",
   "execution_count": 29,
   "metadata": {},
   "outputs": [
    {
     "name": "stdout",
     "output_type": "stream",
     "text": [
      "3 4 5\n",
      "5 6\n"
     ]
    }
   ],
   "source": [
    "func2()"
   ]
  },
  {
   "cell_type": "code",
   "execution_count": 30,
   "metadata": {},
   "outputs": [
    {
     "name": "stdout",
     "output_type": "stream",
     "text": [
      "1 2\n"
     ]
    }
   ],
   "source": [
    "print(a,b)"
   ]
  },
  {
   "cell_type": "code",
   "execution_count": 31,
   "metadata": {},
   "outputs": [],
   "source": [
    "def func2():\n",
    "    global a\n",
    "    a=50\n",
    "    print(a)"
   ]
  },
  {
   "cell_type": "code",
   "execution_count": 32,
   "metadata": {},
   "outputs": [
    {
     "name": "stdout",
     "output_type": "stream",
     "text": [
      "50\n"
     ]
    }
   ],
   "source": [
    "func2()"
   ]
  },
  {
   "cell_type": "code",
   "execution_count": 33,
   "metadata": {},
   "outputs": [
    {
     "data": {
      "text/plain": [
       "50"
      ]
     },
     "execution_count": 33,
     "metadata": {},
     "output_type": "execute_result"
    }
   ],
   "source": [
    "a"
   ]
  },
  {
   "cell_type": "code",
   "execution_count": 34,
   "metadata": {},
   "outputs": [],
   "source": [
    "def calc(a, b):\n",
    "    print(f\"덧셈: {a+b}, 뺄셈: {a-b}, 곱셈: {a*b}, 나눗셈: {a/b}\")"
   ]
  },
  {
   "cell_type": "code",
   "execution_count": 35,
   "metadata": {},
   "outputs": [
    {
     "name": "stdout",
     "output_type": "stream",
     "text": [
      "덧셈: 11, 뺄셈: -1, 곱셈: 30, 나눗셈: 0.8333333333333334\n"
     ]
    }
   ],
   "source": [
    "calc(5,6)"
   ]
  },
  {
   "cell_type": "code",
   "execution_count": 36,
   "metadata": {},
   "outputs": [],
   "source": [
    "def allindex(lis, num):\n",
    "    index_list=list()\n",
    "    \n",
    "    for idx, val in enumerate(lis):\n",
    "        if val==num :\n",
    "            index_list.append(idx)\n",
    "    \n",
    "    return index_list\n",
    "        \n"
   ]
  },
  {
   "cell_type": "code",
   "execution_count": 37,
   "metadata": {},
   "outputs": [
    {
     "name": "stdout",
     "output_type": "stream",
     "text": [
      "[1, 5]\n"
     ]
    }
   ],
   "source": [
    "lis = [1,5,2,3,4,5,6,7]\n",
    "print(allindex(lis,5))"
   ]
  },
  {
   "cell_type": "code",
   "execution_count": 39,
   "metadata": {},
   "outputs": [],
   "source": [
    "import math\n",
    "\n",
    "def euclidean_distance(pos1, pos2):\n",
    "    \n",
    "    if type(pos1) != type(pos2) != type(list()):\n",
    "        print(\"Error\")\n",
    "        return None\n",
    "    \n",
    "    total = 0\n",
    "    for p1, q1 in zip(pos1, pos2):\n",
    "        total += (p1-q1)**2\n",
    "        \n",
    "    return math.sqrt(total)"
   ]
  },
  {
   "cell_type": "code",
   "execution_count": 40,
   "metadata": {},
   "outputs": [
    {
     "data": {
      "text/plain": [
       "5.0"
      ]
     },
     "execution_count": 40,
     "metadata": {},
     "output_type": "execute_result"
    }
   ],
   "source": [
    "pos1, pos2=[0,0],[3,4]\n",
    "euclidean_distance(pos1,pos2)"
   ]
  },
  {
   "cell_type": "code",
   "execution_count": 41,
   "metadata": {},
   "outputs": [
    {
     "data": {
      "text/plain": [
       "9"
      ]
     },
     "execution_count": 41,
     "metadata": {},
     "output_type": "execute_result"
    }
   ],
   "source": [
    "(lambda x : x**2)(3)"
   ]
  },
  {
   "cell_type": "code",
   "execution_count": 42,
   "metadata": {},
   "outputs": [
    {
     "data": {
      "text/plain": [
       "27"
      ]
     },
     "execution_count": 42,
     "metadata": {},
     "output_type": "execute_result"
    }
   ],
   "source": [
    "temp_func=lambda x,y : x*y\n",
    "temp_func(3,9)"
   ]
  },
  {
   "cell_type": "code",
   "execution_count": 44,
   "metadata": {},
   "outputs": [
    {
     "name": "stdout",
     "output_type": "stream",
     "text": [
      "나의 이름은: 알ㅇㄴ머ㅏ러ㅏㄹ\n"
     ]
    }
   ],
   "source": [
    "(lambda name : print(f\"나의 이름은: {name}\"))(\"알ㅇㄴ머ㅏ러ㅏㄹ\")"
   ]
  },
  {
   "cell_type": "code",
   "execution_count": 45,
   "metadata": {},
   "outputs": [
    {
     "name": "stdout",
     "output_type": "stream",
     "text": [
      "1 2 3\n"
     ]
    }
   ],
   "source": [
    "def func(a,b,c):\n",
    "    print(a,b,c)\n",
    "x=[1,2,3]\n",
    "func(*x)"
   ]
  },
  {
   "cell_type": "code",
   "execution_count": 46,
   "metadata": {},
   "outputs": [],
   "source": [
    "def func1(a,b,c):\n",
    "    print(f\"a: {a}, b:{b}, c:{c}\")\n",
    "    return a+b+c"
   ]
  },
  {
   "cell_type": "code",
   "execution_count": 47,
   "metadata": {},
   "outputs": [
    {
     "name": "stdout",
     "output_type": "stream",
     "text": [
      "a: 5, b:7, c:8\n"
     ]
    },
    {
     "data": {
      "text/plain": [
       "20"
      ]
     },
     "execution_count": 47,
     "metadata": {},
     "output_type": "execute_result"
    }
   ],
   "source": [
    "func1(*[5,7,8])"
   ]
  },
  {
   "cell_type": "code",
   "execution_count": 48,
   "metadata": {},
   "outputs": [],
   "source": [
    "def func2(*args):\n",
    "    print(type(args))\n",
    "    \n",
    "    print (\"-\"*10)\n",
    "    \n",
    "    for arg in args:\n",
    "        print(arg)\n",
    "        \n",
    "    return sum(args)"
   ]
  },
  {
   "cell_type": "code",
   "execution_count": 51,
   "metadata": {},
   "outputs": [
    {
     "name": "stdout",
     "output_type": "stream",
     "text": [
      "<class 'tuple'>\n",
      "----------\n",
      "1\n",
      "2\n",
      "3\n",
      "4\n"
     ]
    },
    {
     "data": {
      "text/plain": [
       "10"
      ]
     },
     "execution_count": 51,
     "metadata": {},
     "output_type": "execute_result"
    }
   ],
   "source": [
    "func2(1,2,3,4)"
   ]
  },
  {
   "cell_type": "code",
   "execution_count": 52,
   "metadata": {},
   "outputs": [
    {
     "name": "stdout",
     "output_type": "stream",
     "text": [
      "<class 'tuple'>\n",
      "----------\n",
      "1\n",
      "2\n",
      "3\n",
      "4\n"
     ]
    },
    {
     "data": {
      "text/plain": [
       "10"
      ]
     },
     "execution_count": 52,
     "metadata": {},
     "output_type": "execute_result"
    }
   ],
   "source": [
    "func2(*[1,2,3,4])"
   ]
  },
  {
   "cell_type": "code",
   "execution_count": 53,
   "metadata": {},
   "outputs": [],
   "source": [
    "def func3(a,b, *args):\n",
    "    print(f\"a: {a}, b: {b}\")\n",
    "    print(\"-\"*10)\n",
    "    \n",
    "    for arg in args:\n",
    "        print(arg)\n",
    "        \n",
    "    return sum(args+(a,b))"
   ]
  },
  {
   "cell_type": "code",
   "execution_count": 54,
   "metadata": {},
   "outputs": [
    {
     "name": "stdout",
     "output_type": "stream",
     "text": [
      "a: 1, b: 2\n",
      "----------\n",
      "1\n",
      "2\n",
      "3\n",
      "4\n"
     ]
    },
    {
     "data": {
      "text/plain": [
       "13"
      ]
     },
     "execution_count": 54,
     "metadata": {},
     "output_type": "execute_result"
    }
   ],
   "source": [
    "func3(1,2,1,2,3,4)"
   ]
  },
  {
   "cell_type": "code",
   "execution_count": 55,
   "metadata": {},
   "outputs": [],
   "source": [
    "def func(email, name):\n",
    "    print(\"이메일 : \", email)\n",
    "    print(\"이름 : \", name)"
   ]
  },
  {
   "cell_type": "code",
   "execution_count": 56,
   "metadata": {},
   "outputs": [
    {
     "name": "stdout",
     "output_type": "stream",
     "text": [
      "이메일 :  dfa\n",
      "이름 :  ttt\n"
     ]
    }
   ],
   "source": [
    "func(email = \"dfa\", name = \"ttt\")"
   ]
  },
  {
   "cell_type": "code",
   "execution_count": 64,
   "metadata": {},
   "outputs": [
    {
     "name": "stdout",
     "output_type": "stream",
     "text": [
      "이메일 :  tdf\n",
      "이름 :  tom\n"
     ]
    }
   ],
   "source": [
    "x={\"email\" : \"tdf\", \"name\":\"tom\"}\n",
    "func(**x)"
   ]
  },
  {
   "cell_type": "code",
   "execution_count": 60,
   "metadata": {},
   "outputs": [
    {
     "name": "stdout",
     "output_type": "stream",
     "text": [
      "이메일 :  dfa\n",
      "이름 :  dfa\n"
     ]
    }
   ],
   "source": [
    "func(\"dfa\",\"dfa\")"
   ]
  },
  {
   "cell_type": "code",
   "execution_count": 61,
   "metadata": {},
   "outputs": [
    {
     "name": "stdout",
     "output_type": "stream",
     "text": [
      "이메일 :  daf\n",
      "이름 :  fdsaf\n"
     ]
    }
   ],
   "source": [
    "func(\"daf\",name=\"fdsaf\")"
   ]
  },
  {
   "cell_type": "code",
   "execution_count": 62,
   "metadata": {},
   "outputs": [
    {
     "ename": "SyntaxError",
     "evalue": "positional argument follows keyword argument (<ipython-input-62-601241eb94d6>, line 1)",
     "output_type": "error",
     "traceback": [
      "\u001b[1;36m  File \u001b[1;32m\"<ipython-input-62-601241eb94d6>\"\u001b[1;36m, line \u001b[1;32m1\u001b[0m\n\u001b[1;33m    func(e=\"fads\", \"dfa\")\u001b[0m\n\u001b[1;37m                  ^\u001b[0m\n\u001b[1;31mSyntaxError\u001b[0m\u001b[1;31m:\u001b[0m positional argument follows keyword argument\n"
     ]
    }
   ],
   "source": [
    "func(e=\"fads\", \"dfa\")"
   ]
  },
  {
   "cell_type": "code",
   "execution_count": 66,
   "metadata": {},
   "outputs": [],
   "source": [
    "def func1(a,b):\n",
    "    print(a,b)"
   ]
  },
  {
   "cell_type": "code",
   "execution_count": 70,
   "metadata": {},
   "outputs": [
    {
     "ename": "TypeError",
     "evalue": "func1() keywords must be strings",
     "output_type": "error",
     "traceback": [
      "\u001b[1;31m---------------------------------------------------------------------------\u001b[0m",
      "\u001b[1;31mTypeError\u001b[0m                                 Traceback (most recent call last)",
      "\u001b[1;32m<ipython-input-70-67ca1633e6e5>\u001b[0m in \u001b[0;36m<module>\u001b[1;34m()\u001b[0m\n\u001b[0;32m      1\u001b[0m \u001b[0mx\u001b[0m\u001b[1;33m=\u001b[0m\u001b[1;33m{\u001b[0m\u001b[1;36m1\u001b[0m\u001b[1;33m:\u001b[0m\u001b[1;34m\"b\"\u001b[0m \u001b[1;33m,\u001b[0m \u001b[1;36m2\u001b[0m\u001b[1;33m:\u001b[0m\u001b[1;34m\"c\"\u001b[0m\u001b[1;33m}\u001b[0m\u001b[1;33m\u001b[0m\u001b[0m\n\u001b[1;32m----> 2\u001b[1;33m \u001b[0mfunc1\u001b[0m\u001b[1;33m(\u001b[0m\u001b[1;33m**\u001b[0m\u001b[0mx\u001b[0m\u001b[1;33m)\u001b[0m\u001b[1;33m\u001b[0m\u001b[0m\n\u001b[0m",
      "\u001b[1;31mTypeError\u001b[0m: func1() keywords must be strings"
     ]
    }
   ],
   "source": [
    "x={1:\"b\" , 2:\"c\"}\n",
    "func1(**x)"
   ]
  },
  {
   "cell_type": "code",
   "execution_count": 73,
   "metadata": {},
   "outputs": [],
   "source": [
    "def func5(**kwargs):\n",
    "    print(type(kwargs))\n",
    "    print(\"-\" * 10)\n",
    "    \n",
    "    print(kwargs)\n",
    "    \n",
    "    print(\"이메일: \", kwargs['email'])\n",
    "    print(\"이름: \", kwargs.get('name'))"
   ]
  },
  {
   "cell_type": "code",
   "execution_count": 74,
   "metadata": {},
   "outputs": [
    {
     "name": "stdout",
     "output_type": "stream",
     "text": [
      "<class 'dict'>\n",
      "----------\n",
      "{'name': '이동재', 'email': 'hello'}\n",
      "이메일:  hello\n",
      "이름:  이동재\n"
     ]
    }
   ],
   "source": [
    "func5(name=\"이동재\", email=\"hello\")"
   ]
  },
  {
   "cell_type": "code",
   "execution_count": 75,
   "metadata": {},
   "outputs": [],
   "source": [
    "def last_func(name, email, address=None , age=20, *args, **kwargs):\n",
    "    print(\"name: \", name)\n",
    "    print(\"email: \", email)\n",
    "    print(\"age: \", age)\n",
    "    \n",
    "    if address is None:\n",
    "        address = \"서울\"\n",
    "        \n",
    "    print(\"address: \", address)\n",
    "    \n",
    "    print(\"-\"*10, \"args start\")\n",
    "    for arg in args:\n",
    "        print(arg)\n",
    "        \n",
    "    print(\"-\"*10, \"kwargs start\")\n",
    "    for key in kwargs:\n",
    "        print(key, kwargs[key])"
   ]
  },
  {
   "cell_type": "code",
   "execution_count": 76,
   "metadata": {},
   "outputs": [
    {
     "name": "stdout",
     "output_type": "stream",
     "text": [
      "name:  ddsfad\n",
      "email:  tad@daf.com\n",
      "age:  28\n",
      "address:  seoul\n",
      "---------- args start\n",
      "3\n",
      "4\n",
      "5\n",
      "6\n",
      "---------- kwargs start\n",
      "is_korean False\n",
      "birth 1119\n"
     ]
    }
   ],
   "source": [
    "last_func(\"ddsfad\", \"tad@daf.com\", \"seoul\", \"28\", 3,4,5,6,is_korean=False, birth=\"1119\")"
   ]
  },
  {
   "cell_type": "code",
   "execution_count": 89,
   "metadata": {},
   "outputs": [],
   "source": [
    "def calc(calc_sign, *args):\n",
    "    first_num=args[0]\n",
    "    if calc_sign == \"+\" :\n",
    "        return sum(args)\n",
    "    elif calc_sign == \"-\":\n",
    "        return first_num-(sum(args[1:]))\n",
    "    elif calc_sign == \"*\":\n",
    "        for i in args[1:]:\n",
    "            first_num*=i\n",
    "            \n",
    "        return first_num\n",
    "    else:\n",
    "        print(\"Error\")\n",
    "        return None"
   ]
  },
  {
   "cell_type": "code",
   "execution_count": 86,
   "metadata": {},
   "outputs": [
    {
     "data": {
      "text/plain": [
       "25"
      ]
     },
     "execution_count": 86,
     "metadata": {},
     "output_type": "execute_result"
    }
   ],
   "source": [
    "calc(\"+\",3,4,5,2,3,4,4)"
   ]
  },
  {
   "cell_type": "code",
   "execution_count": 87,
   "metadata": {},
   "outputs": [
    {
     "data": {
      "text/plain": [
       "81"
      ]
     },
     "execution_count": 87,
     "metadata": {},
     "output_type": "execute_result"
    }
   ],
   "source": [
    "calc(\"-\",100,2,3,4,5,5)"
   ]
  },
  {
   "cell_type": "code",
   "execution_count": 90,
   "metadata": {},
   "outputs": [
    {
     "data": {
      "text/plain": [
       "720"
      ]
     },
     "execution_count": 90,
     "metadata": {},
     "output_type": "execute_result"
    }
   ],
   "source": [
    "calc(\"*\",2,3,4,5,6)"
   ]
  },
  {
   "cell_type": "code",
   "execution_count": 91,
   "metadata": {},
   "outputs": [
    {
     "name": "stdout",
     "output_type": "stream",
     "text": [
      "Error\n"
     ]
    }
   ],
   "source": [
    "calc(1,2,3,4,5)"
   ]
  },
  {
   "cell_type": "code",
   "execution_count": 92,
   "metadata": {},
   "outputs": [],
   "source": [
    "def calc(*args):\n",
    "    print(f\"최대값 : {max(args)}, 최소값 : {min(args)}, 평균값 : {sum(args)/len(args)}\")"
   ]
  },
  {
   "cell_type": "code",
   "execution_count": 93,
   "metadata": {},
   "outputs": [
    {
     "name": "stdout",
     "output_type": "stream",
     "text": [
      "최대값 : 6, 최소값 : 1, 평균값 : 3.857142857142857\n"
     ]
    }
   ],
   "source": [
    "calc(1,2,3,4,5,6,6)"
   ]
  },
  {
   "cell_type": "code",
   "execution_count": 94,
   "metadata": {},
   "outputs": [],
   "source": [
    "class Dog:\n",
    "    \n",
    "    def __init__(self, name, color):\n",
    "        self.name=name\n",
    "        self.color = color\n",
    "        self.hungry = 0\n",
    "        \n",
    "    def eat(self):\n",
    "        self.hungry -= 10\n",
    "        print(\"밥먹음\", self.hungry)\n",
    "        \n",
    "    def walk(self):\n",
    "        self.hungry += 10\n",
    "        print(\"산책\", self.hungry)"
   ]
  },
  {
   "cell_type": "code",
   "execution_count": 95,
   "metadata": {},
   "outputs": [
    {
     "name": "stdout",
     "output_type": "stream",
     "text": [
      "산책 10\n",
      "산책 20\n",
      "kk :  20\n",
      "jj :  0\n"
     ]
    }
   ],
   "source": [
    "kk=Dog(\"kk\",\"black\")\n",
    "jj=Dog(\"jj\",\"white\")\n",
    "\n",
    "kk.walk()\n",
    "kk.walk()\n",
    "jj.eat\n",
    "\n",
    "print(\"kk : \", kk.hungry)\n",
    "print(\"jj : \", jj.hungry)"
   ]
  },
  {
   "cell_type": "code",
   "execution_count": 100,
   "metadata": {},
   "outputs": [],
   "source": [
    "class Dog:\n",
    "    \n",
    "    def __init__(self, name, color):\n",
    "        self.name=name\n",
    "        self.color = color\n",
    "        self.__hungry = 0\n",
    "        \n",
    "    def eat(self):\n",
    "        if self.__hungry >=0:\n",
    "            self.__hungry -= 10\n",
    "            print(\"밥먹음\", self.__hungry)\n",
    "        \n",
    "        else:\n",
    "            print(\"배부름\")\n",
    "        \n",
    "    def walk(self):\n",
    "        self.__hungry += 10\n",
    "        print(\"산책\", self.__hungry)\n",
    "        \n",
    "    def condition(self):\n",
    "        print(f\"{self.name} 배고픔 : {self.__hungry}\")"
   ]
  },
  {
   "cell_type": "code",
   "execution_count": 101,
   "metadata": {},
   "outputs": [
    {
     "name": "stdout",
     "output_type": "stream",
     "text": [
      "밥먹음 -10\n",
      "배부름\n",
      "배부름\n",
      "배부름\n",
      "배부름\n",
      "배부름\n",
      "배부름\n",
      "배부름\n",
      "배부름\n",
      "배부름\n",
      "산책 0\n",
      "산책 10\n",
      "산책 20\n",
      "산책 30\n",
      "산책 40\n",
      "산책 50\n",
      "산책 60\n",
      "산책 70\n",
      "산책 80\n",
      "산책 90\n",
      "산책 100\n",
      "산책 110\n",
      "산책 120\n",
      "산책 130\n",
      "산책 140\n",
      "산책 150\n",
      "산책 160\n",
      "산책 170\n",
      "산책 180\n",
      "산책 190\n",
      "k 배고픔 : 190\n"
     ]
    }
   ],
   "source": [
    "k=Dog(\"k\",\"dd\")\n",
    "j=Dog(\"j\",\"bb\")\n",
    "\n",
    "for i in range(10):\n",
    "    k.eat()\n",
    "\n",
    "for i in range(20):\n",
    "    k.walk()\n",
    "\n",
    "k.condition()\n"
   ]
  },
  {
   "cell_type": "code",
   "execution_count": 108,
   "metadata": {},
   "outputs": [],
   "source": [
    "class Dog:\n",
    "    \n",
    "    dog_count=0\n",
    "    \n",
    "    def __init__(self, name, color):\n",
    "        self.name=name\n",
    "        self.color = color\n",
    "        self.__hungry = 0\n",
    "        \n",
    "        Dog.dog_count+=1\n",
    "        \n",
    "    def eat(self):\n",
    "        if self.__hungry >=0:\n",
    "            self.__hungry -= 10\n",
    "            print(\"밥먹음\", self.__hungry)\n",
    "        \n",
    "        else:\n",
    "            print(\"배부름\")\n",
    "        \n",
    "    def walk(self):\n",
    "        self.__hungry += 10\n",
    "        print(\"산책\", self.__hungry)\n",
    "        \n",
    "    def condition(self):\n",
    "        print(f\"{self.name} 배고픔 : {self.__hungry}\")\n",
    "        \n",
    "    def dogCount(self):\n",
    "        print(\"총 강아지는 : \", Dog.dog_count)"
   ]
  },
  {
   "cell_type": "code",
   "execution_count": 113,
   "metadata": {},
   "outputs": [
    {
     "name": "stdout",
     "output_type": "stream",
     "text": [
      "총 강아지는 :  24\n",
      "총 강아지는 :  24\n"
     ]
    }
   ],
   "source": [
    "k=Dog(\"1\",\"2\")\n",
    "d=Dog(\"1\",\"2\")\n",
    "f=Dog(\"1\",\"2\")\n",
    "g=Dog(\"1\",\"2\")\n",
    "h=Dog(\"1\",\"2\")\n",
    "\n",
    "h.dogCount()\n",
    "d.dogCount()"
   ]
  },
  {
   "cell_type": "code",
   "execution_count": 136,
   "metadata": {},
   "outputs": [],
   "source": [
    "class Calc:\n",
    "    \n",
    "    def add():\n",
    "        return \"hi\"\n",
    "    \n",
    "    @staticmethod\n",
    "    def sm():\n",
    "        print(\"정적 메소드 입니당\")\n",
    "        pass\n",
    "    \n",
    "    def temp():\n",
    "        pass\n",
    "    \n",
    "    "
   ]
  },
  {
   "cell_type": "code",
   "execution_count": 138,
   "metadata": {},
   "outputs": [
    {
     "data": {
      "text/plain": [
       "['__class__',\n",
       " '__delattr__',\n",
       " '__dict__',\n",
       " '__dir__',\n",
       " '__doc__',\n",
       " '__eq__',\n",
       " '__format__',\n",
       " '__ge__',\n",
       " '__getattribute__',\n",
       " '__gt__',\n",
       " '__hash__',\n",
       " '__init__',\n",
       " '__init_subclass__',\n",
       " '__le__',\n",
       " '__lt__',\n",
       " '__module__',\n",
       " '__ne__',\n",
       " '__new__',\n",
       " '__reduce__',\n",
       " '__reduce_ex__',\n",
       " '__repr__',\n",
       " '__setattr__',\n",
       " '__sizeof__',\n",
       " '__str__',\n",
       " '__subclasshook__',\n",
       " '__weakref__',\n",
       " 'add',\n",
       " 'sm',\n",
       " 'temp']"
      ]
     },
     "execution_count": 138,
     "metadata": {},
     "output_type": "execute_result"
    }
   ],
   "source": [
    "dir(Calc)"
   ]
  },
  {
   "cell_type": "code",
   "execution_count": 139,
   "metadata": {},
   "outputs": [
    {
     "data": {
      "text/plain": [
       "'hi'"
      ]
     },
     "execution_count": 139,
     "metadata": {},
     "output_type": "execute_result"
    }
   ],
   "source": [
    "Calc.add()"
   ]
  },
  {
   "cell_type": "code",
   "execution_count": 140,
   "metadata": {},
   "outputs": [],
   "source": [
    "a=Calc()"
   ]
  },
  {
   "cell_type": "code",
   "execution_count": 158,
   "metadata": {},
   "outputs": [],
   "source": [
    "#Car 클래스 생성\n",
    "class Car:\n",
    "    \n",
    "    car_count = 0\n",
    "    \n",
    "    #Car 생성자 (차이름, 배기량, 생산년도), 직접 변경하지 못함\n",
    "    def __init__(self, model, displacement, year):\n",
    "        self.__model = model\n",
    "        self.__displacement=displacement\n",
    "        self.__year = year\n",
    "    #객체 생성시 차량 갯수 등록\n",
    "        Car.car_count +=1\n",
    "    #차 이름 변경\n",
    "    def modify_name(self, name):\n",
    "        print(f\"{self.__model} -> {name} 변경 완료\")\n",
    "        self.__model=name\n",
    "        \n",
    "    #배기량 구분\n",
    "    def classify_displacement(self):\n",
    "        if self.__displacement<=1000:\n",
    "            print(\"소형\")\n",
    "        elif self.__displacement>1000 and self.__displacement<=2000:\n",
    "            print(\"중형\")\n",
    "        elif self.__displacement>2000:\n",
    "            print(\"대형\")\n",
    "    #차량 갯수 출력(클래스 함수)\n",
    "    @classmethod\n",
    "    def carCount(cls):\n",
    "        print(cls.car_count)"
   ]
  },
  {
   "cell_type": "code",
   "execution_count": 159,
   "metadata": {},
   "outputs": [],
   "source": [
    "a=Car(\"to\",1000,2019)"
   ]
  },
  {
   "cell_type": "code",
   "execution_count": 160,
   "metadata": {},
   "outputs": [
    {
     "name": "stdout",
     "output_type": "stream",
     "text": [
      "to -> ttt 변경 완료\n"
     ]
    }
   ],
   "source": [
    "a.modify_name(\"ttt\")"
   ]
  },
  {
   "cell_type": "code",
   "execution_count": 161,
   "metadata": {},
   "outputs": [
    {
     "name": "stdout",
     "output_type": "stream",
     "text": [
      "1\n"
     ]
    }
   ],
   "source": [
    "Car.carCount()"
   ]
  },
  {
   "cell_type": "code",
   "execution_count": 162,
   "metadata": {},
   "outputs": [
    {
     "name": "stdout",
     "output_type": "stream",
     "text": [
      "소형\n"
     ]
    }
   ],
   "source": [
    "a.classify_displacement()"
   ]
  },
  {
   "cell_type": "code",
   "execution_count": 163,
   "metadata": {},
   "outputs": [],
   "source": [
    "b=Car(\"too\",2500,2019)"
   ]
  },
  {
   "cell_type": "code",
   "execution_count": 164,
   "metadata": {},
   "outputs": [
    {
     "name": "stdout",
     "output_type": "stream",
     "text": [
      "대형\n"
     ]
    }
   ],
   "source": [
    "b.classify_displacement()"
   ]
  },
  {
   "cell_type": "code",
   "execution_count": 179,
   "metadata": {},
   "outputs": [],
   "source": [
    "class MyCar(Car):\n",
    "    \n",
    "    def seater_check():\n",
    "        print(\"4 인승 입니다.\")\n",
    "        "
   ]
  },
  {
   "cell_type": "code",
   "execution_count": 180,
   "metadata": {},
   "outputs": [],
   "source": [
    "aa=MyCar(\"tttt\",2000,2019)"
   ]
  },
  {
   "cell_type": "code",
   "execution_count": 181,
   "metadata": {},
   "outputs": [
    {
     "name": "stdout",
     "output_type": "stream",
     "text": [
      "4\n"
     ]
    }
   ],
   "source": [
    "MyCar.carCount()"
   ]
  },
  {
   "cell_type": "code",
   "execution_count": 182,
   "metadata": {},
   "outputs": [
    {
     "name": "stdout",
     "output_type": "stream",
     "text": [
      "4 인승 입니다.\n"
     ]
    }
   ],
   "source": [
    "MyCar.seater_check()"
   ]
  },
  {
   "cell_type": "code",
   "execution_count": null,
   "metadata": {},
   "outputs": [],
   "source": []
  }
 ],
 "metadata": {
  "kernelspec": {
   "display_name": "Python 3",
   "language": "python",
   "name": "python3"
  },
  "language_info": {
   "codemirror_mode": {
    "name": "ipython",
    "version": 3
   },
   "file_extension": ".py",
   "mimetype": "text/x-python",
   "name": "python",
   "nbconvert_exporter": "python",
   "pygments_lexer": "ipython3",
   "version": "3.6.6"
  }
 },
 "nbformat": 4,
 "nbformat_minor": 2
}
