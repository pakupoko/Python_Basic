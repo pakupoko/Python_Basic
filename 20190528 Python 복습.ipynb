{
 "cells": [
  {
   "cell_type": "markdown",
   "metadata": {},
   "source": [
    "# 연습문제 1"
   ]
  },
  {
   "cell_type": "code",
   "execution_count": 3,
   "metadata": {},
   "outputs": [
    {
     "name": "stdout",
     "output_type": "stream",
     "text": [
      "숫자 1 : -2030\n",
      "숫자 2 : 67\n",
      "숫자 3 : 68\n",
      "잘못된 점수가 입력되었습니다.\n"
     ]
    }
   ],
   "source": [
    "num1=int(input(\"숫자 1 : \"))\n",
    "num2=int(input(\"숫자 2 : \"))\n",
    "num3=int(input(\"숫자 3 : \"))\n",
    "\n",
    "if (not num1 in range(0,101)) or (not num2 in range(0,101)) or (not num3 in range(0,101)) :\n",
    "    print(\"잘못된 점수가 입력되었습니다.\")\n",
    "    \n",
    "else:\n",
    "    if num1>65 and num2>65 and num3 > 65:\n",
    "        print(\"합격\")\n",
    "        \n",
    "    else:\n",
    "        print(\"불합격\")"
   ]
  },
  {
   "cell_type": "markdown",
   "metadata": {},
   "source": [
    "# 연습문제 2"
   ]
  },
  {
   "cell_type": "code",
   "execution_count": 4,
   "metadata": {},
   "outputs": [
    {
     "name": "stdout",
     "output_type": "stream",
     "text": [
      "30\n",
      "60\n",
      "90\n",
      "200\n",
      "-70\n",
      "50\n",
      "[30, 60, 90, 200, -70, 50]\n"
     ]
    }
   ],
   "source": [
    "x=[3,6,9,20,-7,5]\n",
    "\n",
    "for idx, val in enumerate(x):\n",
    "    x[idx]*=10\n",
    "    print(x[idx])\n",
    "    \n",
    "print(x)\n",
    "    "
   ]
  },
  {
   "cell_type": "code",
   "execution_count": 5,
   "metadata": {},
   "outputs": [
    {
     "name": "stdout",
     "output_type": "stream",
     "text": [
      "80\n",
      "90\n",
      "30\n",
      "{'math': 80, 'science': 90, 'english': 30}\n"
     ]
    }
   ],
   "source": [
    "y={\"math\":70, \"science\":80, \"english\":20}\n",
    "\n",
    "for i in y:\n",
    "    y[i] +=10\n",
    "    print(y[i])\n",
    "\n",
    "print(y)"
   ]
  },
  {
   "cell_type": "code",
   "execution_count": 6,
   "metadata": {},
   "outputs": [
    {
     "name": "stdout",
     "output_type": "stream",
     "text": [
      "숫자 : 9\n",
      "9 * 1 = 9\n",
      "9 * 2 = 18\n",
      "9 * 3 = 27\n",
      "9 * 4 = 36\n",
      "9 * 5 = 45\n",
      "9 * 6 = 54\n",
      "9 * 7 = 63\n",
      "9 * 8 = 72\n",
      "9 * 9 = 81\n"
     ]
    }
   ],
   "source": [
    "num=int(input(\"숫자 : \"))\n",
    "\n",
    "for i in range(1,10):\n",
    "    print(f\"{num} * {i} = {num * i}\")"
   ]
  },
  {
   "cell_type": "markdown",
   "metadata": {},
   "source": [
    "# 연습문제3"
   ]
  },
  {
   "cell_type": "code",
   "execution_count": 10,
   "metadata": {},
   "outputs": [
    {
     "name": "stdout",
     "output_type": "stream",
     "text": [
      "['school', 'science', 'mountian']\n"
     ]
    }
   ],
   "source": [
    "word=[\"school\", \"game\",\"piano\",\"science\",\"hotel\",\"mountian\"]\n",
    "new_word=[]\n",
    "\n",
    "for i in word:\n",
    "    if len(i)>=6:\n",
    "        new_word.append(i)\n",
    "\n",
    "print(new_word)"
   ]
  },
  {
   "cell_type": "code",
   "execution_count": 12,
   "metadata": {},
   "outputs": [
    {
     "name": "stdout",
     "output_type": "stream",
     "text": [
      "--------2단---------\n",
      "2 * 1 = 2\n",
      "2 * 2 = 4\n",
      "2 * 3 = 6\n",
      "2 * 4 = 8\n",
      "2 * 5 = 10\n",
      "2 * 6 = 12\n",
      "2 * 7 = 14\n",
      "2 * 8 = 16\n",
      "2 * 9 = 18\n",
      "2 * 10 = 20\n",
      "--------3단---------\n",
      "3 * 1 = 3\n",
      "3 * 2 = 6\n",
      "3 * 3 = 9\n",
      "3 * 4 = 12\n",
      "3 * 5 = 15\n",
      "3 * 6 = 18\n",
      "3 * 7 = 21\n",
      "3 * 8 = 24\n",
      "3 * 9 = 27\n",
      "3 * 10 = 30\n",
      "--------4단---------\n",
      "4 * 1 = 4\n",
      "4 * 2 = 8\n",
      "4 * 3 = 12\n",
      "4 * 4 = 16\n",
      "4 * 5 = 20\n",
      "4 * 6 = 24\n",
      "4 * 7 = 28\n",
      "4 * 8 = 32\n",
      "4 * 9 = 36\n",
      "4 * 10 = 40\n",
      "--------5단---------\n",
      "5 * 1 = 5\n",
      "5 * 2 = 10\n",
      "5 * 3 = 15\n",
      "5 * 4 = 20\n",
      "5 * 5 = 25\n",
      "5 * 6 = 30\n",
      "5 * 7 = 35\n",
      "5 * 8 = 40\n",
      "5 * 9 = 45\n",
      "5 * 10 = 50\n",
      "--------6단---------\n",
      "6 * 1 = 6\n",
      "6 * 2 = 12\n",
      "6 * 3 = 18\n",
      "6 * 4 = 24\n",
      "6 * 5 = 30\n",
      "6 * 6 = 36\n",
      "6 * 7 = 42\n",
      "6 * 8 = 48\n",
      "6 * 9 = 54\n",
      "6 * 10 = 60\n",
      "--------7단---------\n",
      "7 * 1 = 7\n",
      "7 * 2 = 14\n",
      "7 * 3 = 21\n",
      "7 * 4 = 28\n",
      "7 * 5 = 35\n",
      "7 * 6 = 42\n",
      "7 * 7 = 49\n",
      "7 * 8 = 56\n",
      "7 * 9 = 63\n",
      "7 * 10 = 70\n",
      "--------8단---------\n",
      "8 * 1 = 8\n",
      "8 * 2 = 16\n",
      "8 * 3 = 24\n",
      "8 * 4 = 32\n",
      "8 * 5 = 40\n",
      "8 * 6 = 48\n",
      "8 * 7 = 56\n",
      "8 * 8 = 64\n",
      "8 * 9 = 72\n",
      "8 * 10 = 80\n",
      "--------9단---------\n",
      "9 * 1 = 9\n",
      "9 * 2 = 18\n",
      "9 * 3 = 27\n",
      "9 * 4 = 36\n",
      "9 * 5 = 45\n",
      "9 * 6 = 54\n",
      "9 * 7 = 63\n",
      "9 * 8 = 72\n",
      "9 * 9 = 81\n",
      "9 * 10 = 90\n"
     ]
    }
   ],
   "source": [
    "for i in range(2,10):\n",
    "    print(f\"--------{i}단---------\")\n",
    "    for j in range(1,11):\n",
    "        print(f\"{i} * {j} = {i*j}\")\n",
    "    "
   ]
  },
  {
   "cell_type": "code",
   "execution_count": 14,
   "metadata": {},
   "outputs": [
    {
     "name": "stdout",
     "output_type": "stream",
     "text": [
      "숫자 입력 : 30\n",
      "1\n",
      "2\n",
      "3 3의 배수\n",
      "4\n",
      "5 5의 배수\n",
      "6 3의 배수\n",
      "7\n",
      "8\n",
      "9 3의 배수\n",
      "10 5의 배수\n",
      "11\n",
      "12 3의 배수\n",
      "13\n",
      "14\n",
      "15 3과 5의 공배수\n",
      "16\n",
      "17\n",
      "18 3의 배수\n",
      "19\n",
      "20 5의 배수\n",
      "21 3의 배수\n",
      "22\n",
      "23\n",
      "24 3의 배수\n",
      "25 5의 배수\n",
      "26\n",
      "27 3의 배수\n",
      "28\n",
      "29\n",
      "30 3과 5의 공배수\n"
     ]
    }
   ],
   "source": [
    "num=int(input(\"숫자 입력 : \"))\n",
    "\n",
    "for i in range(1,num+1):\n",
    "    if i % 3== 0 and i % 5==0 :\n",
    "        print(i,\"3과 5의 공배수\")\n",
    "    elif i % 3 == 0 :\n",
    "        print(i, \"3의 배수\")\n",
    "    elif i % 5 == 0 :\n",
    "        print(i, \"5의 배수\")\n",
    "    else:\n",
    "        print(i)"
   ]
  },
  {
   "cell_type": "markdown",
   "metadata": {},
   "source": [
    "# 연습문제 4"
   ]
  },
  {
   "cell_type": "code",
   "execution_count": 15,
   "metadata": {},
   "outputs": [
    {
     "name": "stdout",
     "output_type": "stream",
     "text": [
      "값을 입력해 주세요. : 10\n",
      "값을 입력해 주세요. : 20\n",
      "값을 입력해 주세요. : 30\n",
      "값을 입력해 주세요. : 20\n",
      "값을 입력해 주세요. : s\n",
      "합계는? 80\n"
     ]
    }
   ],
   "source": [
    "tot_sum = 0\n",
    "num =\"\"\n",
    "while not num in ['s', 'S']:\n",
    "    num=input(\"값을 입력해 주세요. : \")\n",
    "    if not num in ['s', 'S'] :\n",
    "        tot_sum += int(num)\n",
    "\n",
    "print(\"합계는?\", tot_sum)"
   ]
  },
  {
   "cell_type": "markdown",
   "metadata": {},
   "source": [
    "# 연습문제 6"
   ]
  },
  {
   "cell_type": "code",
   "execution_count": 5,
   "metadata": {},
   "outputs": [
    {
     "name": "stdout",
     "output_type": "stream",
     "text": [
      "298\n"
     ]
    }
   ],
   "source": [
    "import random\n",
    "\n",
    "rand_list=list()\n",
    "\n",
    "for i in range(100):\n",
    "    rand_list.append(random.randint(1,300))\n",
    "    \n",
    "print(max(rand_list))"
   ]
  },
  {
   "cell_type": "markdown",
   "metadata": {},
   "source": [
    "# 연습문제 7"
   ]
  },
  {
   "cell_type": "code",
   "execution_count": 6,
   "metadata": {},
   "outputs": [
    {
     "name": "stdout",
     "output_type": "stream",
     "text": [
      "15811\n"
     ]
    }
   ],
   "source": [
    "import random\n",
    "\n",
    "rand_list=list()\n",
    "\n",
    "for i in range(100):\n",
    "    rand_list.append(random.randint(1,300))\n",
    "    \n",
    "print(sum(rand_list))"
   ]
  },
  {
   "cell_type": "code",
   "execution_count": 8,
   "metadata": {},
   "outputs": [
    {
     "name": "stdout",
     "output_type": "stream",
     "text": [
      "['school', 'science', 'mountian']\n"
     ]
    }
   ],
   "source": [
    "word=[\"school\", \"game\", \"piano\", \"science\", \"hotel\",\"mountian\"]\n",
    "\n",
    "new_word=[i for i in word if len(i)>=6]\n",
    "print(new_word)"
   ]
  },
  {
   "cell_type": "code",
   "execution_count": 9,
   "metadata": {},
   "outputs": [
    {
     "name": "stdout",
     "output_type": "stream",
     "text": [
      "[6, 4, 5, 7, 5, 8]\n"
     ]
    }
   ],
   "source": [
    "word=[\"school\", \"game\", \"piano\", \"science\", \"hotel\",\"mountian\"]\n",
    "\n",
    "spell_count=[len(i) for i in word]\n",
    "print(spell_count)"
   ]
  },
  {
   "cell_type": "markdown",
   "metadata": {},
   "source": [
    "# 연습문제 9"
   ]
  },
  {
   "cell_type": "code",
   "execution_count": 10,
   "metadata": {},
   "outputs": [
    {
     "name": "stdout",
     "output_type": "stream",
     "text": [
      "a숫자 두개 : 10 20\n",
      "b숫자 두개 : 30 40\n",
      "a숫자 두개 : 30 40\n",
      "b숫자 두개 : 3 5\n",
      "a숫자 두개 : 50 60\n",
      "b숫자 두개 : 1 5\n",
      "[[300, 800], [90, 200], [50, 300]]\n"
     ]
    }
   ],
   "source": [
    "a=list()\n",
    "b=list()\n",
    "c=list()\n",
    "\n",
    "for i in range(3):\n",
    "    a.append(input(\"a숫자 두개 : \").split())\n",
    "    b.append(input(\"b숫자 두개 : \").split())\n",
    "    \n",
    "for i in range(len(a)):\n",
    "    temp=list()\n",
    "    for j in range(len(a[i])):\n",
    "        temp.append(int(a[i][j]) * int(b[i][j]))\n",
    "    c.append(temp)\n",
    "    \n",
    "print(c)\n",
    "        "
   ]
  },
  {
   "cell_type": "markdown",
   "metadata": {},
   "source": [
    "# 연습문제 10"
   ]
  },
  {
   "cell_type": "code",
   "execution_count": 11,
   "metadata": {},
   "outputs": [
    {
     "name": "stdout",
     "output_type": "stream",
     "text": [
      "[[1, 2], [3, 4], [5, 6]]\n"
     ]
    }
   ],
   "source": [
    "a=[]\n",
    "for i in range(3):\n",
    "    line = []\n",
    "    for j in range(2):\n",
    "        line.append((j+1)+(i*2))\n",
    "    a.append(line)\n",
    "    \n",
    "print(a)"
   ]
  },
  {
   "cell_type": "code",
   "execution_count": 13,
   "metadata": {},
   "outputs": [
    {
     "name": "stdout",
     "output_type": "stream",
     "text": [
      "숫자 입력 : 10\n",
      "안녕\n",
      "안녕\n",
      "안녕\n",
      "안녕\n",
      "안녕\n",
      "안녕\n",
      "안녕\n",
      "안녕\n",
      "안녕\n",
      "안녕\n"
     ]
    }
   ],
   "source": [
    "i=0\n",
    "\n",
    "num=int(input(\"숫자 입력 : \"))\n",
    "\n",
    "while True:\n",
    "    if i==num :\n",
    "        break\n",
    "        \n",
    "    i+=1\n",
    "    print(\"안녕\")"
   ]
  },
  {
   "cell_type": "code",
   "execution_count": 15,
   "metadata": {},
   "outputs": [
    {
     "name": "stdout",
     "output_type": "stream",
     "text": [
      "숫자 입력 : 10\n",
      "2\n",
      "4\n",
      "6\n",
      "8\n",
      "10\n"
     ]
    }
   ],
   "source": [
    "num=int(input(\"숫자 입력 : \"))\n",
    "\n",
    "for i in range(1, num+1):\n",
    "    if i % 2 == 1:\n",
    "        continue\n",
    "        \n",
    "    print(i)"
   ]
  },
  {
   "cell_type": "code",
   "execution_count": null,
   "metadata": {},
   "outputs": [],
   "source": []
  }
 ],
 "metadata": {
  "kernelspec": {
   "display_name": "Python 3",
   "language": "python",
   "name": "python3"
  },
  "language_info": {
   "codemirror_mode": {
    "name": "ipython",
    "version": 3
   },
   "file_extension": ".py",
   "mimetype": "text/x-python",
   "name": "python",
   "nbconvert_exporter": "python",
   "pygments_lexer": "ipython3",
   "version": "3.6.6"
  }
 },
 "nbformat": 4,
 "nbformat_minor": 2
}
