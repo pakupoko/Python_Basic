{
 "cells": [
  {
   "cell_type": "code",
   "execution_count": 9,
   "metadata": {},
   "outputs": [
    {
     "name": "stdout",
     "output_type": "stream",
     "text": [
      "100\n",
      "100 200 300\n"
     ]
    }
   ],
   "source": [
    "x=100\n",
    "a,b,c=100,200,300\n",
    "\n",
    "print(x)\n",
    "print(a,b,c)"
   ]
  },
  {
   "cell_type": "code",
   "execution_count": 10,
   "metadata": {},
   "outputs": [
    {
     "data": {
      "text/plain": [
       "300"
      ]
     },
     "execution_count": 10,
     "metadata": {},
     "output_type": "execute_result"
    }
   ],
   "source": [
    "a+b"
   ]
  },
  {
   "cell_type": "code",
   "execution_count": 13,
   "metadata": {},
   "outputs": [
    {
     "data": {
      "text/plain": [
       "8"
      ]
     },
     "execution_count": 13,
     "metadata": {},
     "output_type": "execute_result"
    }
   ],
   "source": [
    "a=2\n",
    "b=3\n",
    "a**b"
   ]
  },
  {
   "cell_type": "code",
   "execution_count": 14,
   "metadata": {},
   "outputs": [
    {
     "data": {
      "text/plain": [
       "9.0"
      ]
     },
     "execution_count": 14,
     "metadata": {},
     "output_type": "execute_result"
    }
   ],
   "source": [
    "3*3.0"
   ]
  },
  {
   "cell_type": "code",
   "execution_count": 15,
   "metadata": {},
   "outputs": [
    {
     "data": {
      "text/plain": [
       "6.0"
      ]
     },
     "execution_count": 15,
     "metadata": {},
     "output_type": "execute_result"
    }
   ],
   "source": [
    "3+3.0"
   ]
  },
  {
   "cell_type": "code",
   "execution_count": 17,
   "metadata": {},
   "outputs": [
    {
     "name": "stdout",
     "output_type": "stream",
     "text": [
      "2.0 1.0 343.0\n"
     ]
    }
   ],
   "source": [
    "a,b=7,3.0\n",
    "c=a//b\n",
    "d=a%b\n",
    "\n",
    "e=a**b\n",
    "\n",
    "print(c,d,e)"
   ]
  },
  {
   "cell_type": "code",
   "execution_count": 22,
   "metadata": {},
   "outputs": [
    {
     "data": {
      "text/plain": [
       "85"
      ]
     },
     "execution_count": 22,
     "metadata": {},
     "output_type": "execute_result"
    }
   ],
   "source": [
    "mike=80\n",
    "judy=75\n",
    "sara=100\n",
    "\n",
    "int((mike+judy+sara)/3)\n"
   ]
  },
  {
   "cell_type": "code",
   "execution_count": 23,
   "metadata": {},
   "outputs": [
    {
     "data": {
      "text/plain": [
       "False"
      ]
     },
     "execution_count": 23,
     "metadata": {},
     "output_type": "execute_result"
    }
   ],
   "source": [
    "1>=2"
   ]
  },
  {
   "cell_type": "code",
   "execution_count": 24,
   "metadata": {},
   "outputs": [
    {
     "data": {
      "text/plain": [
       "True"
      ]
     },
     "execution_count": 24,
     "metadata": {},
     "output_type": "execute_result"
    }
   ],
   "source": [
    "2>=1"
   ]
  },
  {
   "cell_type": "code",
   "execution_count": 25,
   "metadata": {},
   "outputs": [
    {
     "data": {
      "text/plain": [
       "True"
      ]
     },
     "execution_count": 25,
     "metadata": {},
     "output_type": "execute_result"
    }
   ],
   "source": [
    "1==1"
   ]
  },
  {
   "cell_type": "code",
   "execution_count": 26,
   "metadata": {},
   "outputs": [
    {
     "data": {
      "text/plain": [
       "True"
      ]
     },
     "execution_count": 26,
     "metadata": {},
     "output_type": "execute_result"
    }
   ],
   "source": [
    "'a'=='a'"
   ]
  },
  {
   "cell_type": "code",
   "execution_count": 27,
   "metadata": {},
   "outputs": [
    {
     "data": {
      "text/plain": [
       "False"
      ]
     },
     "execution_count": 27,
     "metadata": {},
     "output_type": "execute_result"
    }
   ],
   "source": [
    "'a'=='b'"
   ]
  },
  {
   "cell_type": "code",
   "execution_count": 28,
   "metadata": {},
   "outputs": [
    {
     "data": {
      "text/plain": [
       "False"
      ]
     },
     "execution_count": 28,
     "metadata": {},
     "output_type": "execute_result"
    }
   ],
   "source": [
    "1=='1'"
   ]
  },
  {
   "cell_type": "code",
   "execution_count": 29,
   "metadata": {},
   "outputs": [
    {
     "data": {
      "text/plain": [
       "True"
      ]
     },
     "execution_count": 29,
     "metadata": {},
     "output_type": "execute_result"
    }
   ],
   "source": [
    "1==int('1')"
   ]
  },
  {
   "cell_type": "code",
   "execution_count": 31,
   "metadata": {},
   "outputs": [
    {
     "data": {
      "text/plain": [
       "True"
      ]
     },
     "execution_count": 31,
     "metadata": {},
     "output_type": "execute_result"
    }
   ],
   "source": [
    "True and True"
   ]
  },
  {
   "cell_type": "code",
   "execution_count": 32,
   "metadata": {},
   "outputs": [
    {
     "data": {
      "text/plain": [
       "True"
      ]
     },
     "execution_count": 32,
     "metadata": {},
     "output_type": "execute_result"
    }
   ],
   "source": [
    "True or False"
   ]
  },
  {
   "cell_type": "code",
   "execution_count": 33,
   "metadata": {},
   "outputs": [
    {
     "data": {
      "text/plain": [
       "False"
      ]
     },
     "execution_count": 33,
     "metadata": {},
     "output_type": "execute_result"
    }
   ],
   "source": [
    "(1>2) and (2>-1)"
   ]
  },
  {
   "cell_type": "code",
   "execution_count": 34,
   "metadata": {},
   "outputs": [
    {
     "data": {
      "text/plain": [
       "False"
      ]
     },
     "execution_count": 34,
     "metadata": {},
     "output_type": "execute_result"
    }
   ],
   "source": [
    "not True"
   ]
  },
  {
   "cell_type": "code",
   "execution_count": 39,
   "metadata": {},
   "outputs": [
    {
     "name": "stdout",
     "output_type": "stream",
     "text": [
      "False\n",
      "True\n"
     ]
    }
   ],
   "source": [
    "a,b=0,10\n",
    "print(bool(a))\n",
    "print(bool(b))"
   ]
  },
  {
   "cell_type": "code",
   "execution_count": 45,
   "metadata": {},
   "outputs": [
    {
     "name": "stdout",
     "output_type": "stream",
     "text": [
      "입력1: 10\n",
      "입력2: 80\n",
      "입력3: 90\n"
     ]
    },
    {
     "data": {
      "text/plain": [
       "False"
      ]
     },
     "execution_count": 45,
     "metadata": {},
     "output_type": "execute_result"
    }
   ],
   "source": [
    "num1=int(input(\"입력1: \"))\n",
    "num2=int(input(\"입력2: \"))\n",
    "num3=int(input(\"입력3: \"))\n",
    "\n",
    "num1>65 and num2>65 and num3>65"
   ]
  },
  {
   "cell_type": "code",
   "execution_count": 47,
   "metadata": {},
   "outputs": [
    {
     "name": "stdout",
     "output_type": "stream",
     "text": [
      "None\n"
     ]
    },
    {
     "data": {
      "text/plain": [
       "NoneType"
      ]
     },
     "execution_count": 47,
     "metadata": {},
     "output_type": "execute_result"
    }
   ],
   "source": [
    "x=None\n",
    "print(x)\n",
    "type(x)"
   ]
  },
  {
   "cell_type": "code",
   "execution_count": 53,
   "metadata": {},
   "outputs": [
    {
     "name": "stdout",
     "output_type": "stream",
     "text": [
      "Hello, World,\n",
      "Hello, Python\n",
      "Hello, World\n",
      "<class 'str'>\n",
      "Hello, WorldHello, World,\n",
      "Hello, Python\n",
      "Hello, WorldHello, WorldHello, World\n"
     ]
    }
   ],
   "source": [
    "first=\"Hello, World\"\n",
    "multi=\"\"\"Hello, World,\n",
    "Hello, Python\"\"\"\n",
    "print(multi)\n",
    "print(first)\n",
    "print(type(first))\n",
    "print(first+multi)\n",
    "print(first*3)"
   ]
  },
  {
   "cell_type": "code",
   "execution_count": 54,
   "metadata": {},
   "outputs": [
    {
     "name": "stdout",
     "output_type": "stream",
     "text": [
      "helelel\n",
      "ejfjfjfj\n"
     ]
    }
   ],
   "source": [
    "multi2='''helelel\n",
    "ejfjfjfj'''\n",
    "print(multi2)"
   ]
  },
  {
   "cell_type": "code",
   "execution_count": 59,
   "metadata": {},
   "outputs": [
    {
     "name": "stdout",
     "output_type": "stream",
     "text": [
      "hello \"friend\n"
     ]
    }
   ],
   "source": [
    "print(\"hello \\\"friend\")"
   ]
  },
  {
   "cell_type": "code",
   "execution_count": 66,
   "metadata": {},
   "outputs": [
    {
     "name": "stdout",
     "output_type": "stream",
     "text": [
      "l\n",
      "hello \n",
      "world\n",
      "hlowrd\n",
      "eo\n",
      "d\n",
      "hello worl\n"
     ]
    }
   ],
   "source": [
    "s=\"hello world\"\n",
    "print(s[2])\n",
    "print(s[:6])\n",
    "print(s[6:])\n",
    "print(s[::2])\n",
    "print(s[1:6:3])\n",
    "print(s[-1])\n",
    "print(s[:-1])"
   ]
  },
  {
   "cell_type": "code",
   "execution_count": 88,
   "metadata": {},
   "outputs": [
    {
     "name": "stdout",
     "output_type": "stream",
     "text": [
      "나는 아르아러홍너아!\n",
      "안녕 나는 아르아러홍너아!\n",
      "나는    아르아러홍너아!\n",
      "나는 아르아러홍너아   !\n",
      "나는              아르아러홍너아!\n",
      "나는 아르아러홍너아!\n",
      "나는 %20s!아르아러홍너아\n"
     ]
    }
   ],
   "source": [
    "name =\"아르아러홍너아\"\n",
    "print(\"나는 \"+name+\"!\")\n",
    "print(\"안녕 나는 %s!\" % name)\n",
    "print(\"나는 %10s!\" %name)\n",
    "print(\"나는 %-10s!\"%name)\n",
    "intro=\"나는 %20s!\"\n",
    "intro2=\"나는 %s!\" %name\n",
    "print(intro % name)\n",
    "print(intro2)\n",
    "print(\"%s%s\"%(intro,name))"
   ]
  },
  {
   "cell_type": "code",
   "execution_count": 87,
   "metadata": {},
   "outputs": [
    {
     "name": "stdout",
     "output_type": "stream",
     "text": [
      "내 점수는 80\n",
      "내 점수는 80.666666\n",
      "내 점수는 80.666666\n",
      "내 점수는 80.667\n"
     ]
    }
   ],
   "source": [
    "score=80.666666\n",
    "print(\"내 점수는 %d\"%score)\n",
    "#자동 형변환\n",
    "print(\"내 점수는 %s\"%score) #문자형\n",
    "print(\"내 점수는 %f\"%score) #실수형\n",
    "print(\"내 점수는 %.3f\"%score) #소수점 자릿수"
   ]
  },
  {
   "cell_type": "code",
   "execution_count": 90,
   "metadata": {},
   "outputs": [
    {
     "name": "stdout",
     "output_type": "stream",
     "text": [
      "아저씨\n"
     ]
    }
   ],
   "source": [
    "print(\"%s%s%s\"%('아','저','씨'))"
   ]
  },
  {
   "cell_type": "code",
   "execution_count": 95,
   "metadata": {},
   "outputs": [
    {
     "data": {
      "text/plain": [
       "'답은 답이 아니다'"
      ]
     },
     "execution_count": 95,
     "metadata": {},
     "output_type": "execute_result"
    }
   ],
   "source": [
    "\"{0}{1}{2}\".format('아','줌','마')\n",
    "quote=\"{1}은 {1}이 아니다\".format(\"안경\",\"답\")\n",
    "quote"
   ]
  },
  {
   "cell_type": "code",
   "execution_count": 98,
   "metadata": {},
   "outputs": [
    {
     "name": "stdout",
     "output_type": "stream",
     "text": [
      "....  으아!\n",
      "....으아  !\n"
     ]
    }
   ],
   "source": [
    "print(\"....{0:>4}!\".format(\"으아\"))\n",
    "print(\"....{0:<4}!\".format(\"으아\"))"
   ]
  },
  {
   "cell_type": "code",
   "execution_count": 99,
   "metadata": {},
   "outputs": [
    {
     "data": {
      "text/plain": [
       "'저는 라들거다비애차더이고, 서울에서 삽니다.'"
      ]
     },
     "execution_count": 99,
     "metadata": {},
     "output_type": "execute_result"
    }
   ],
   "source": [
    "name=\"라들거다비애차더\"\n",
    "city=\"서울\"\n",
    "intro=f\"저는 {name}이고, {city}에서 삽니다.\"\n",
    "intro"
   ]
  },
  {
   "cell_type": "code",
   "execution_count": 102,
   "metadata": {},
   "outputs": [
    {
     "name": "stdout",
     "output_type": "stream",
     "text": [
      "2019, 0505, chicken, 19000\n"
     ]
    }
   ],
   "source": [
    "a=\"20190505chicken19000\"\n",
    "\n",
    "#code 작성\n",
    "year=a[:4]\n",
    "day=a[4:8]\n",
    "menu=a[8:15]\n",
    "money=a[15:]\n",
    "print(year, day, menu, money,sep=\", \")\n",
    "\n",
    "#code 종료"
   ]
  },
  {
   "cell_type": "code",
   "execution_count": 107,
   "metadata": {},
   "outputs": [
    {
     "name": "stdout",
     "output_type": "stream",
     "text": [
      "66.667\n"
     ]
    }
   ],
   "source": [
    "a=\"90:30:80\"\n",
    "\n",
    "#code\n",
    "math=int(a[:2])\n",
    "english=int(a[3:5])\n",
    "science=int(a[6:8])\n",
    "\n",
    "average=(math+english+science)/3\n",
    "print(\"%.3f\"%average)\n",
    "#code end"
   ]
  },
  {
   "cell_type": "code",
   "execution_count": 112,
   "metadata": {},
   "outputs": [
    {
     "name": "stdout",
     "output_type": "stream",
     "text": [
      "30\n",
      "14\n",
      "DKDJROWDHCNKDSAFLXZLXZVJASADFA\n",
      "dkdjrowdhcnkdsaflxzlxzvjasadfa\n",
      "zkzjrowzhcnkzsaflxzlxzvjasazfa\n"
     ]
    }
   ],
   "source": [
    "a=\"dkdjrowdhcnkdsaflxzlxzvjasadfa\"\n",
    "print(len(a))\n",
    "print(a.index('a'))\n",
    "print(a.upper())\n",
    "print(a.lower())\n",
    "print(a.replace(\"d\",\"z\"))"
   ]
  },
  {
   "cell_type": "code",
   "execution_count": 124,
   "metadata": {
    "scrolled": false
   },
   "outputs": [
    {
     "name": "stdout",
     "output_type": "stream",
     "text": [
      "4\n",
      "oae hangulun munzayuel insik mote? \n",
      " oae hangulun munzayuel insik mote?\n",
      "oae hangulun munzayuel insik mote?\n",
      "['', 'oae', 'hangulun', 'munzayuel', 'insik', 'mote?', '']\n",
      "<class 'list'>\n",
      "7\n",
      ",oae,hangulun,munzayuel,insik,mote?,\n"
     ]
    }
   ],
   "source": [
    "b=\" oae hangulun munzayuel insik mote? \"\n",
    "print(b.count(\"u\"))\n",
    "print(b.lstrip())\n",
    "print(b.rstrip())\n",
    "print(b.strip())\n",
    "bb=b.split(\" \")\n",
    "print(b.split(\" \"))\n",
    "print(type(bb))\n",
    "print(len(bb))\n",
    "print(\",\".join(bb))"
   ]
  },
  {
   "cell_type": "code",
   "execution_count": 125,
   "metadata": {},
   "outputs": [
    {
     "name": "stdout",
     "output_type": "stream",
     "text": [
      "66.66666666666667\n"
     ]
    }
   ],
   "source": [
    "a=\" 90:30:80 \"\n",
    "\n",
    "#code\n",
    "math,english,science=a.strip().split(\":\")\n",
    "\n",
    "average=(int(math)+int(english)+int(science))/3\n",
    "\n",
    "print(average)\n",
    "#code end"
   ]
  },
  {
   "cell_type": "code",
   "execution_count": 133,
   "metadata": {},
   "outputs": [
    {
     "data": {
      "text/plain": [
       "list"
      ]
     },
     "execution_count": 133,
     "metadata": {},
     "output_type": "execute_result"
    }
   ],
   "source": [
    "a=[10,20,30]\n",
    "type(a)"
   ]
  },
  {
   "cell_type": "code",
   "execution_count": 129,
   "metadata": {},
   "outputs": [
    {
     "data": {
      "text/plain": [
       "(1, 2, 3, 'a', 'b', 'c')"
      ]
     },
     "execution_count": 129,
     "metadata": {},
     "output_type": "execute_result"
    }
   ],
   "source": [
    "tuple_a=(1,2,3,'a','b','c')\n",
    "tuple_a"
   ]
  },
  {
   "cell_type": "code",
   "execution_count": 130,
   "metadata": {},
   "outputs": [
    {
     "data": {
      "text/plain": [
       "tuple"
      ]
     },
     "execution_count": 130,
     "metadata": {},
     "output_type": "execute_result"
    }
   ],
   "source": [
    "type(tuple_a)"
   ]
  },
  {
   "cell_type": "code",
   "execution_count": 134,
   "metadata": {},
   "outputs": [
    {
     "data": {
      "text/plain": [
       "[0, 20, 30]"
      ]
     },
     "execution_count": 134,
     "metadata": {},
     "output_type": "execute_result"
    }
   ],
   "source": [
    "a[0]=0\n",
    "a"
   ]
  },
  {
   "cell_type": "code",
   "execution_count": 136,
   "metadata": {},
   "outputs": [
    {
     "ename": "TypeError",
     "evalue": "'tuple' object does not support item assignment",
     "output_type": "error",
     "traceback": [
      "\u001b[1;31m---------------------------------------------------------------------------\u001b[0m",
      "\u001b[1;31mTypeError\u001b[0m                                 Traceback (most recent call last)",
      "\u001b[1;32m<ipython-input-136-0c0247cda071>\u001b[0m in \u001b[0;36m<module>\u001b[1;34m()\u001b[0m\n\u001b[1;32m----> 1\u001b[1;33m \u001b[0mtuple_a\u001b[0m\u001b[1;33m[\u001b[0m\u001b[1;36m0\u001b[0m\u001b[1;33m]\u001b[0m\u001b[1;33m=\u001b[0m\u001b[1;36m5\u001b[0m\u001b[1;33m\u001b[0m\u001b[0m\n\u001b[0m\u001b[0;32m      2\u001b[0m \u001b[0mtuple_a\u001b[0m\u001b[1;33m\u001b[0m\u001b[0m\n",
      "\u001b[1;31mTypeError\u001b[0m: 'tuple' object does not support item assignment"
     ]
    }
   ],
   "source": [
    "tuple_a[0]=5\n",
    "tuple_a"
   ]
  },
  {
   "cell_type": "code",
   "execution_count": 144,
   "metadata": {},
   "outputs": [
    {
     "data": {
      "text/plain": [
       "{'name': '아아아', 'height': 120, 'address': '부산'}"
      ]
     },
     "execution_count": 144,
     "metadata": {},
     "output_type": "execute_result"
    }
   ],
   "source": [
    "dict_me={\n",
    "    'name':'아아아',\n",
    "    'height':120,\n",
    "    'address':'부산'\n",
    "}\n",
    "dict_me"
   ]
  },
  {
   "cell_type": "code",
   "execution_count": 138,
   "metadata": {},
   "outputs": [
    {
     "data": {
      "text/plain": [
       "dict"
      ]
     },
     "execution_count": 138,
     "metadata": {},
     "output_type": "execute_result"
    }
   ],
   "source": [
    "type(dict_me)"
   ]
  },
  {
   "cell_type": "code",
   "execution_count": 139,
   "metadata": {},
   "outputs": [
    {
     "data": {
      "text/plain": [
       "'아아아'"
      ]
     },
     "execution_count": 139,
     "metadata": {},
     "output_type": "execute_result"
    }
   ],
   "source": [
    "dict_me['name']"
   ]
  },
  {
   "cell_type": "code",
   "execution_count": 143,
   "metadata": {},
   "outputs": [
    {
     "data": {
      "text/plain": [
       "120"
      ]
     },
     "execution_count": 143,
     "metadata": {},
     "output_type": "execute_result"
    }
   ],
   "source": [
    "dict_me['height']"
   ]
  },
  {
   "cell_type": "code",
   "execution_count": 152,
   "metadata": {},
   "outputs": [
    {
     "data": {
      "text/plain": [
       "' world'"
      ]
     },
     "execution_count": 152,
     "metadata": {},
     "output_type": "execute_result"
    }
   ],
   "source": [
    "a=\"hello world\"\n",
    "a[5::]"
   ]
  },
  {
   "cell_type": "code",
   "execution_count": 1,
   "metadata": {},
   "outputs": [
    {
     "data": {
      "text/plain": [
       "range(0, 10)"
      ]
     },
     "execution_count": 1,
     "metadata": {},
     "output_type": "execute_result"
    }
   ],
   "source": [
    "range(10)"
   ]
  },
  {
   "cell_type": "code",
   "execution_count": 2,
   "metadata": {},
   "outputs": [
    {
     "data": {
      "text/plain": [
       "[0, 1, 2, 3, 4, 5, 6, 7, 8, 9]"
      ]
     },
     "execution_count": 2,
     "metadata": {},
     "output_type": "execute_result"
    }
   ],
   "source": [
    "list(range(10))"
   ]
  },
  {
   "cell_type": "code",
   "execution_count": 11,
   "metadata": {},
   "outputs": [
    {
     "name": "stdout",
     "output_type": "stream",
     "text": [
      "[5, 4, 3, 2, 1]\n"
     ]
    }
   ],
   "source": [
    "a=list(range(5,0,-1))\n",
    "print(a)"
   ]
  },
  {
   "cell_type": "code",
   "execution_count": 25,
   "metadata": {},
   "outputs": [
    {
     "data": {
      "text/plain": [
       "[2, 4, 6]"
      ]
     },
     "execution_count": 25,
     "metadata": {},
     "output_type": "execute_result"
    }
   ],
   "source": [
    "a=list(range(10))\n",
    "a[2:7:2]"
   ]
  },
  {
   "cell_type": "code",
   "execution_count": 26,
   "metadata": {},
   "outputs": [
    {
     "data": {
      "text/plain": [
       "[0, 11, 22, 3, 4, 5, 6, 7, 8, 9]"
      ]
     },
     "execution_count": 26,
     "metadata": {},
     "output_type": "execute_result"
    }
   ],
   "source": [
    "a[1:3]=[11,22]\n",
    "a"
   ]
  },
  {
   "cell_type": "code",
   "execution_count": 27,
   "metadata": {},
   "outputs": [
    {
     "data": {
      "text/plain": [
       "[0, 11, 3, 4, 5, 6, 7, 8, 9]"
      ]
     },
     "execution_count": 27,
     "metadata": {},
     "output_type": "execute_result"
    }
   ],
   "source": [
    "del a[2]\n",
    "a"
   ]
  },
  {
   "cell_type": "code",
   "execution_count": 28,
   "metadata": {},
   "outputs": [
    {
     "data": {
      "text/plain": [
       "[1, 2, 3, 1, 2, 3, 1, 2, 3]"
      ]
     },
     "execution_count": 28,
     "metadata": {},
     "output_type": "execute_result"
    }
   ],
   "source": [
    "a=[1,2,3]\n",
    "a*3"
   ]
  },
  {
   "cell_type": "code",
   "execution_count": 29,
   "metadata": {},
   "outputs": [
    {
     "data": {
      "text/plain": [
       "(1, 2, 3, 1, 2, 3, 1, 2, 3)"
      ]
     },
     "execution_count": 29,
     "metadata": {},
     "output_type": "execute_result"
    }
   ],
   "source": [
    "b=(1,2,3)\n",
    "b*3"
   ]
  },
  {
   "cell_type": "code",
   "execution_count": 30,
   "metadata": {},
   "outputs": [],
   "source": [
    "b=['d','e','f']"
   ]
  },
  {
   "cell_type": "code",
   "execution_count": 31,
   "metadata": {},
   "outputs": [
    {
     "data": {
      "text/plain": [
       "[1, 2, 3, 'd', 'e', 'f']"
      ]
     },
     "execution_count": 31,
     "metadata": {},
     "output_type": "execute_result"
    }
   ],
   "source": [
    "a+b"
   ]
  },
  {
   "cell_type": "code",
   "execution_count": 32,
   "metadata": {},
   "outputs": [
    {
     "data": {
      "text/plain": [
       "6"
      ]
     },
     "execution_count": 32,
     "metadata": {},
     "output_type": "execute_result"
    }
   ],
   "source": [
    "len(a+b)"
   ]
  },
  {
   "cell_type": "code",
   "execution_count": 35,
   "metadata": {},
   "outputs": [
    {
     "data": {
      "text/plain": [
       "True"
      ]
     },
     "execution_count": 35,
     "metadata": {},
     "output_type": "execute_result"
    }
   ],
   "source": [
    "'d' in b"
   ]
  },
  {
   "cell_type": "code",
   "execution_count": 36,
   "metadata": {},
   "outputs": [
    {
     "data": {
      "text/plain": [
       "True"
      ]
     },
     "execution_count": 36,
     "metadata": {},
     "output_type": "execute_result"
    }
   ],
   "source": [
    "1 in a+b"
   ]
  },
  {
   "cell_type": "code",
   "execution_count": 43,
   "metadata": {},
   "outputs": [
    {
     "name": "stdout",
     "output_type": "stream",
     "text": [
      "[1204]\n",
      "[1204, 4032, 5968]\n",
      "[1204, 4032, 2222, 5968]\n",
      "[1204, 2222, 5968]\n",
      "[1204, 5968]\n"
     ]
    }
   ],
   "source": [
    "empty_list=[]\n",
    "empty_list.append(1204)\n",
    "print(empty_list)\n",
    "empty_list.extend([4032,5968])\n",
    "print(empty_list)\n",
    "empty_list.insert(2,2222)\n",
    "print(empty_list)\n",
    "empty_list.pop(1)\n",
    "print(empty_list)\n",
    "empty_list.remove(2222)\n",
    "print(empty_list)"
   ]
  },
  {
   "cell_type": "code",
   "execution_count": 76,
   "metadata": {},
   "outputs": [
    {
     "name": "stdout",
     "output_type": "stream",
     "text": [
      "3\n",
      "2\n",
      "[1, 2, 3, 4, 5, 9, 8, 7, 6, 5, 4, 3, 2, 1, 0]\n",
      "[0, 1, 1, 2, 2, 3, 3, 4, 4, 5, 5, 6, 7, 8, 9]\n",
      "[9, 8, 7, 6, 5, 5, 4, 4, 3, 3, 2, 2, 1, 1, 0]\n"
     ]
    }
   ],
   "source": [
    "a=list(range(10))\n",
    "b=list(range(5,0,-1))\n",
    "d=[1,2,3]\n",
    "c=a+b\n",
    "print(a.index(3))\n",
    "print(c.count(3))\n",
    "c.reverse()\n",
    "print(c)\n",
    "c.sort()\n",
    "print(c)\n",
    "c.sort(reverse=True)\n",
    "print(c)"
   ]
  },
  {
   "cell_type": "code",
   "execution_count": 64,
   "metadata": {},
   "outputs": [
    {
     "data": {
      "text/plain": [
       "[3, 2, 1]"
      ]
     },
     "execution_count": 64,
     "metadata": {},
     "output_type": "execute_result"
    }
   ],
   "source": [
    "a=[1,2,3]\n",
    "a.reverse()\n",
    "a"
   ]
  },
  {
   "cell_type": "code",
   "execution_count": 73,
   "metadata": {},
   "outputs": [
    {
     "data": {
      "text/plain": [
       "[0, 1, 2, 3, 5, 5, 7]"
      ]
     },
     "execution_count": 73,
     "metadata": {},
     "output_type": "execute_result"
    }
   ],
   "source": [
    "a=[3,1,5,7,2,0,5]\n",
    "a.sort(reverse=False)\n",
    "a"
   ]
  },
  {
   "cell_type": "code",
   "execution_count": 77,
   "metadata": {},
   "outputs": [
    {
     "data": {
      "text/plain": [
       "[1, 2, 3, 4]"
      ]
     },
     "execution_count": 77,
     "metadata": {},
     "output_type": "execute_result"
    }
   ],
   "source": [
    "list_a=[1,2,3,4]\n",
    "list_b=list_a\n",
    "list_b"
   ]
  },
  {
   "cell_type": "code",
   "execution_count": 78,
   "metadata": {},
   "outputs": [
    {
     "data": {
      "text/plain": [
       "True"
      ]
     },
     "execution_count": 78,
     "metadata": {},
     "output_type": "execute_result"
    }
   ],
   "source": [
    "list_a is list_b"
   ]
  },
  {
   "cell_type": "code",
   "execution_count": 79,
   "metadata": {},
   "outputs": [
    {
     "data": {
      "text/plain": [
       "[1000, 2, 3, 4]"
      ]
     },
     "execution_count": 79,
     "metadata": {},
     "output_type": "execute_result"
    }
   ],
   "source": [
    "list_b[0]=1000\n",
    "list_a"
   ]
  },
  {
   "cell_type": "code",
   "execution_count": 80,
   "metadata": {},
   "outputs": [
    {
     "data": {
      "text/plain": [
       "False"
      ]
     },
     "execution_count": 80,
     "metadata": {},
     "output_type": "execute_result"
    }
   ],
   "source": [
    "list_a=[1,2,3,4]\n",
    "list_b=list_a.copy()\n",
    "list_a is list_b"
   ]
  },
  {
   "cell_type": "code",
   "execution_count": 81,
   "metadata": {},
   "outputs": [
    {
     "name": "stdout",
     "output_type": "stream",
     "text": [
      "[1, 2, 3, 4]\n",
      "[10000, 2, 3, 4]\n"
     ]
    }
   ],
   "source": [
    "list_b[0]=10000\n",
    "print(list_a)\n",
    "print(list_b)"
   ]
  },
  {
   "cell_type": "code",
   "execution_count": 83,
   "metadata": {},
   "outputs": [
    {
     "data": {
      "text/plain": [
       "[[1, 1], [2, 2], [3, 3]]"
      ]
     },
     "execution_count": 83,
     "metadata": {},
     "output_type": "execute_result"
    }
   ],
   "source": [
    "a=[[1,1],[2,2],[3,3]]\n",
    "a"
   ]
  },
  {
   "cell_type": "code",
   "execution_count": 84,
   "metadata": {},
   "outputs": [
    {
     "data": {
      "text/plain": [
       "((1, 1), (2, 2), (3, 3))"
      ]
     },
     "execution_count": 84,
     "metadata": {},
     "output_type": "execute_result"
    }
   ],
   "source": [
    "b=((1,1),(2,2),(3,3))\n",
    "b"
   ]
  },
  {
   "cell_type": "code",
   "execution_count": 92,
   "metadata": {},
   "outputs": [
    {
     "name": "stdout",
     "output_type": "stream",
     "text": [
      "[[1000, 2], [3, 4], [5, 6]]\n",
      "[[1000, 2], [3, 4], [5, 6]]\n"
     ]
    }
   ],
   "source": [
    "c=a.copy()\n",
    "a[0][0]=1000\n",
    "print(a)\n",
    "print(c)"
   ]
  },
  {
   "cell_type": "code",
   "execution_count": 93,
   "metadata": {},
   "outputs": [
    {
     "name": "stdout",
     "output_type": "stream",
     "text": [
      "[[1, 2], [3, 4], [5, 6]]\n",
      "[[239494, 2], [3, 4], [5, 6]]\n"
     ]
    }
   ],
   "source": [
    "import copy\n",
    "a=[[1,2],[3,4],[5,6]]\n",
    "b=copy.deepcopy(a)\n",
    "b[0][0]=239494\n",
    "print(a)\n",
    "print(b)"
   ]
  },
  {
   "cell_type": "code",
   "execution_count": 96,
   "metadata": {},
   "outputs": [
    {
     "name": "stdout",
     "output_type": "stream",
     "text": [
      "[10, 2, 3, 4]\n",
      "(1, 2, 3, 4)\n"
     ]
    }
   ],
   "source": [
    "a=(1,2,3,4)\n",
    "b=list(a)\n",
    "b[0]=10\n",
    "print(b)\n",
    "print(a)"
   ]
  },
  {
   "cell_type": "code",
   "execution_count": 99,
   "metadata": {},
   "outputs": [
    {
     "data": {
      "text/plain": [
       "20"
      ]
     },
     "execution_count": 99,
     "metadata": {},
     "output_type": "execute_result"
    }
   ],
   "source": [
    "score=dict(name=\"aoao\",math=20,english=999)\n",
    "score[\"math\"]"
   ]
  },
  {
   "cell_type": "code",
   "execution_count": 100,
   "metadata": {},
   "outputs": [
    {
     "data": {
      "text/plain": [
       "dict"
      ]
     },
     "execution_count": 100,
     "metadata": {},
     "output_type": "execute_result"
    }
   ],
   "source": [
    "score=dict()\n",
    "type(score)"
   ]
  },
  {
   "cell_type": "code",
   "execution_count": 101,
   "metadata": {},
   "outputs": [
    {
     "data": {
      "text/plain": [
       "True"
      ]
     },
     "execution_count": 101,
     "metadata": {},
     "output_type": "execute_result"
    }
   ],
   "source": [
    "score={1:5,2:100,3:1000}\n",
    "1 in score"
   ]
  },
  {
   "cell_type": "code",
   "execution_count": 102,
   "metadata": {},
   "outputs": [
    {
     "data": {
      "text/plain": [
       "False"
      ]
     },
     "execution_count": 102,
     "metadata": {},
     "output_type": "execute_result"
    }
   ],
   "source": [
    "100 in score"
   ]
  },
  {
   "cell_type": "code",
   "execution_count": 103,
   "metadata": {},
   "outputs": [
    {
     "data": {
      "text/plain": [
       "3"
      ]
     },
     "execution_count": 103,
     "metadata": {},
     "output_type": "execute_result"
    }
   ],
   "source": [
    "len(score)"
   ]
  },
  {
   "cell_type": "code",
   "execution_count": 104,
   "metadata": {},
   "outputs": [
    {
     "data": {
      "text/plain": [
       "9999"
      ]
     },
     "execution_count": 104,
     "metadata": {},
     "output_type": "execute_result"
    }
   ],
   "source": [
    "score.setdefault(4,9999)"
   ]
  },
  {
   "cell_type": "code",
   "execution_count": 105,
   "metadata": {},
   "outputs": [
    {
     "data": {
      "text/plain": [
       "{1: 5, 2: 100, 3: 1000, 4: 9999}"
      ]
     },
     "execution_count": 105,
     "metadata": {},
     "output_type": "execute_result"
    }
   ],
   "source": [
    "score"
   ]
  },
  {
   "cell_type": "code",
   "execution_count": 108,
   "metadata": {},
   "outputs": [
    {
     "data": {
      "text/plain": [
       "{1: 2929, 2: 100, 3: 1000, 4: 9999}"
      ]
     },
     "execution_count": 108,
     "metadata": {},
     "output_type": "execute_result"
    }
   ],
   "source": [
    "score.update({1:2929})\n",
    "score"
   ]
  },
  {
   "cell_type": "code",
   "execution_count": 109,
   "metadata": {},
   "outputs": [
    {
     "data": {
      "text/plain": [
       "{2: 100, 3: 1000, 4: 9999}"
      ]
     },
     "execution_count": 109,
     "metadata": {},
     "output_type": "execute_result"
    }
   ],
   "source": [
    "score.pop(1)\n",
    "score"
   ]
  },
  {
   "cell_type": "code",
   "execution_count": 111,
   "metadata": {},
   "outputs": [
    {
     "data": {
      "text/plain": [
       "{2: 100, 3: 1000, 4: 9999}"
      ]
     },
     "execution_count": 111,
     "metadata": {},
     "output_type": "execute_result"
    }
   ],
   "source": [
    "score.pop(5,0)\n",
    "score"
   ]
  },
  {
   "cell_type": "code",
   "execution_count": 112,
   "metadata": {},
   "outputs": [
    {
     "data": {
      "text/plain": [
       "{}"
      ]
     },
     "execution_count": 112,
     "metadata": {},
     "output_type": "execute_result"
    }
   ],
   "source": [
    "score.clear()\n",
    "score"
   ]
  },
  {
   "cell_type": "code",
   "execution_count": 114,
   "metadata": {},
   "outputs": [
    {
     "data": {
      "text/plain": [
       "{1: 1, 2: 2, 3: 3, 4: 4}"
      ]
     },
     "execution_count": 114,
     "metadata": {},
     "output_type": "execute_result"
    }
   ],
   "source": [
    "score.update({1:1,2:2,3:3,4:4})\n",
    "score"
   ]
  },
  {
   "cell_type": "code",
   "execution_count": 116,
   "metadata": {},
   "outputs": [
    {
     "data": {
      "text/plain": [
       "{1: 2222, 2: 3333, 3: 4444, 4: 9282}"
      ]
     },
     "execution_count": 116,
     "metadata": {},
     "output_type": "execute_result"
    }
   ],
   "source": [
    "score.update({1:2222,2:3333,3:4444,4:9282})\n",
    "score"
   ]
  },
  {
   "cell_type": "code",
   "execution_count": 118,
   "metadata": {},
   "outputs": [
    {
     "data": {
      "text/plain": [
       "dict_keys([1, 2, 3, 4])"
      ]
     },
     "execution_count": 118,
     "metadata": {},
     "output_type": "execute_result"
    }
   ],
   "source": [
    "score.keys()"
   ]
  },
  {
   "cell_type": "code",
   "execution_count": 119,
   "metadata": {},
   "outputs": [
    {
     "data": {
      "text/plain": [
       "dict_values([2222, 3333, 4444, 9282])"
      ]
     },
     "execution_count": 119,
     "metadata": {},
     "output_type": "execute_result"
    }
   ],
   "source": [
    "score.values()"
   ]
  },
  {
   "cell_type": "code",
   "execution_count": 120,
   "metadata": {},
   "outputs": [
    {
     "data": {
      "text/plain": [
       "dict_items([(1, 2222), (2, 3333), (3, 4444), (4, 9282)])"
      ]
     },
     "execution_count": 120,
     "metadata": {},
     "output_type": "execute_result"
    }
   ],
   "source": [
    "\n",
    "score.items()"
   ]
  },
  {
   "cell_type": "code",
   "execution_count": 121,
   "metadata": {},
   "outputs": [
    {
     "data": {
      "text/plain": [
       "dict_keys([1, 2])"
      ]
     },
     "execution_count": 121,
     "metadata": {},
     "output_type": "execute_result"
    }
   ],
   "source": [
    "a={1:2929,2:{22:2222,23:3333}}\n",
    "a.keys()"
   ]
  },
  {
   "cell_type": "code",
   "execution_count": 122,
   "metadata": {},
   "outputs": [
    {
     "data": {
      "text/plain": [
       "dict_values([2929, {22: 2222, 23: 3333}])"
      ]
     },
     "execution_count": 122,
     "metadata": {},
     "output_type": "execute_result"
    }
   ],
   "source": [
    "a.values()"
   ]
  },
  {
   "cell_type": "code",
   "execution_count": 123,
   "metadata": {},
   "outputs": [
    {
     "data": {
      "text/plain": [
       "3333"
      ]
     },
     "execution_count": 123,
     "metadata": {},
     "output_type": "execute_result"
    }
   ],
   "source": [
    "a[2][23]"
   ]
  },
  {
   "cell_type": "code",
   "execution_count": 135,
   "metadata": {},
   "outputs": [
    {
     "name": "stdout",
     "output_type": "stream",
     "text": [
      "{1: 111, 2: 222, 3: 333}\n",
      "{1: 111, 2: 222, 3: 333}\n",
      "{1: 111, 2: 222, 3: 333, 4: {44: 1144, 45: 4455}}\n",
      "{1: 111, 2: 222, 3: 333, 4: {44: 1144, 45: 4455}, 5: {55: 1155, 56: 5566}}\n",
      "{1: 111, 2: 222, 3: 333}\n",
      "{1: 111, 2: 222, 3: 333}\n",
      "{1: 111, 2: 222, 3: 333, 4: {44: 1144, 45: 4455}}\n",
      "{1: 111, 2: 222, 3: 333, 4: {44: 1144, 45: 4455}, 5: {55: 1155, 56: 5566}, 6: 1}\n",
      "{1: 111, 2: 222, 3: 333, 4: {44: 1144, 45: 4455}, 5: {55: 1155, 56: 5566}}\n",
      "{1: 111, 2: 222, 3: 333, 4: {44: 1144, 45: 4455}, 5: {55: 1155, 56: 5566}}\n"
     ]
    }
   ],
   "source": [
    "import copy\n",
    "a={1:111,2:222}\n",
    "b=a\n",
    "b.setdefault(3,333)\n",
    "print(a)\n",
    "c=b.copy()\n",
    "c.setdefault(4,{44:1144,45:4455})\n",
    "print(b)\n",
    "d=c.copy()\n",
    "d.setdefault(5,{55:1155,56:5566})\n",
    "print(c)\n",
    "print(d)\n",
    "e=copy.deepcopy(d)\n",
    "f=d.copy()\n",
    "d.setdefault(6,1)\n",
    "print(a)\n",
    "print(b)\n",
    "print(c)\n",
    "print(d)\n",
    "print(e)\n",
    "print(f)"
   ]
  },
  {
   "cell_type": "code",
   "execution_count": 2,
   "metadata": {},
   "outputs": [
    {
     "data": {
      "text/plain": [
       "set"
      ]
     },
     "execution_count": 2,
     "metadata": {},
     "output_type": "execute_result"
    }
   ],
   "source": [
    "animal={\"dog\",\"cat\",\"monkey\",\"horse\"}\n",
    "type(animal)"
   ]
  },
  {
   "cell_type": "code",
   "execution_count": 3,
   "metadata": {},
   "outputs": [
    {
     "data": {
      "text/plain": [
       "True"
      ]
     },
     "execution_count": 3,
     "metadata": {},
     "output_type": "execute_result"
    }
   ],
   "source": [
    "\"cat\" in animal"
   ]
  },
  {
   "cell_type": "code",
   "execution_count": 4,
   "metadata": {},
   "outputs": [
    {
     "data": {
      "text/plain": [
       "{'a', 'i', 'l', 'm', 'n'}"
      ]
     },
     "execution_count": 4,
     "metadata": {},
     "output_type": "execute_result"
    }
   ],
   "source": [
    "a=set(\"animal\")\n",
    "a"
   ]
  },
  {
   "cell_type": "code",
   "execution_count": 5,
   "metadata": {},
   "outputs": [
    {
     "data": {
      "text/plain": [
       "{0, 1, 2, 3, 4}"
      ]
     },
     "execution_count": 5,
     "metadata": {},
     "output_type": "execute_result"
    }
   ],
   "source": [
    "b=set(range(5))\n",
    "b"
   ]
  },
  {
   "cell_type": "code",
   "execution_count": 7,
   "metadata": {},
   "outputs": [
    {
     "data": {
      "text/plain": [
       "{0, 1, 2, 3, 4}"
      ]
     },
     "execution_count": 7,
     "metadata": {},
     "output_type": "execute_result"
    }
   ],
   "source": [
    "a={1,2,3}\n",
    "a|b"
   ]
  },
  {
   "cell_type": "code",
   "execution_count": 9,
   "metadata": {},
   "outputs": [
    {
     "data": {
      "text/plain": [
       "{1, 2, 3, 4, 5}"
      ]
     },
     "execution_count": 9,
     "metadata": {},
     "output_type": "execute_result"
    }
   ],
   "source": [
    "a={1,2,3}\n",
    "b={3,4,5}\n",
    "a|b"
   ]
  },
  {
   "cell_type": "code",
   "execution_count": 10,
   "metadata": {},
   "outputs": [
    {
     "data": {
      "text/plain": [
       "{1, 2, 3, 4, 5}"
      ]
     },
     "execution_count": 10,
     "metadata": {},
     "output_type": "execute_result"
    }
   ],
   "source": [
    "set.union(a|b)"
   ]
  },
  {
   "cell_type": "code",
   "execution_count": 11,
   "metadata": {},
   "outputs": [
    {
     "data": {
      "text/plain": [
       "{3}"
      ]
     },
     "execution_count": 11,
     "metadata": {},
     "output_type": "execute_result"
    }
   ],
   "source": [
    "a&b"
   ]
  },
  {
   "cell_type": "code",
   "execution_count": 12,
   "metadata": {},
   "outputs": [
    {
     "data": {
      "text/plain": [
       "{3}"
      ]
     },
     "execution_count": 12,
     "metadata": {},
     "output_type": "execute_result"
    }
   ],
   "source": [
    "set.intersection(a,b)"
   ]
  },
  {
   "cell_type": "code",
   "execution_count": 13,
   "metadata": {},
   "outputs": [
    {
     "data": {
      "text/plain": [
       "{1, 2}"
      ]
     },
     "execution_count": 13,
     "metadata": {},
     "output_type": "execute_result"
    }
   ],
   "source": [
    "a-b"
   ]
  },
  {
   "cell_type": "code",
   "execution_count": 14,
   "metadata": {},
   "outputs": [
    {
     "data": {
      "text/plain": [
       "{1, 2}"
      ]
     },
     "execution_count": 14,
     "metadata": {},
     "output_type": "execute_result"
    }
   ],
   "source": [
    "set.difference(a,b)"
   ]
  },
  {
   "cell_type": "code",
   "execution_count": 15,
   "metadata": {},
   "outputs": [
    {
     "data": {
      "text/plain": [
       "{1, 2, 4, 5}"
      ]
     },
     "execution_count": 15,
     "metadata": {},
     "output_type": "execute_result"
    }
   ],
   "source": [
    "a^b"
   ]
  },
  {
   "cell_type": "code",
   "execution_count": 16,
   "metadata": {},
   "outputs": [
    {
     "data": {
      "text/plain": [
       "{1, 2, 4, 5}"
      ]
     },
     "execution_count": 16,
     "metadata": {},
     "output_type": "execute_result"
    }
   ],
   "source": [
    "set.symmetric_difference(a,b)"
   ]
  },
  {
   "cell_type": "code",
   "execution_count": 17,
   "metadata": {},
   "outputs": [
    {
     "data": {
      "text/plain": [
       "True"
      ]
     },
     "execution_count": 17,
     "metadata": {},
     "output_type": "execute_result"
    }
   ],
   "source": [
    "a<={1,2,3,4,5}"
   ]
  },
  {
   "cell_type": "code",
   "execution_count": 18,
   "metadata": {},
   "outputs": [
    {
     "data": {
      "text/plain": [
       "True"
      ]
     },
     "execution_count": 18,
     "metadata": {},
     "output_type": "execute_result"
    }
   ],
   "source": [
    "a.issubset({1,2,3,4,5})"
   ]
  },
  {
   "cell_type": "code",
   "execution_count": 19,
   "metadata": {},
   "outputs": [
    {
     "data": {
      "text/plain": [
       "True"
      ]
     },
     "execution_count": 19,
     "metadata": {},
     "output_type": "execute_result"
    }
   ],
   "source": [
    "a<={1,2,3}"
   ]
  },
  {
   "cell_type": "code",
   "execution_count": 20,
   "metadata": {},
   "outputs": [
    {
     "data": {
      "text/plain": [
       "True"
      ]
     },
     "execution_count": 20,
     "metadata": {},
     "output_type": "execute_result"
    }
   ],
   "source": [
    "a.issubset({1,2,3})"
   ]
  },
  {
   "cell_type": "code",
   "execution_count": 21,
   "metadata": {},
   "outputs": [
    {
     "data": {
      "text/plain": [
       "{1, 2, 3}"
      ]
     },
     "execution_count": 21,
     "metadata": {},
     "output_type": "execute_result"
    }
   ],
   "source": [
    "a"
   ]
  },
  {
   "cell_type": "code",
   "execution_count": 22,
   "metadata": {},
   "outputs": [
    {
     "data": {
      "text/plain": [
       "False"
      ]
     },
     "execution_count": 22,
     "metadata": {},
     "output_type": "execute_result"
    }
   ],
   "source": [
    "a.issubset({3,4,5})"
   ]
  },
  {
   "cell_type": "code",
   "execution_count": 23,
   "metadata": {},
   "outputs": [
    {
     "data": {
      "text/plain": [
       "True"
      ]
     },
     "execution_count": 23,
     "metadata": {},
     "output_type": "execute_result"
    }
   ],
   "source": [
    "a>={1,2}"
   ]
  },
  {
   "cell_type": "code",
   "execution_count": 24,
   "metadata": {},
   "outputs": [
    {
     "data": {
      "text/plain": [
       "True"
      ]
     },
     "execution_count": 24,
     "metadata": {},
     "output_type": "execute_result"
    }
   ],
   "source": [
    "a.issuperset({1,2})"
   ]
  },
  {
   "cell_type": "code",
   "execution_count": 25,
   "metadata": {},
   "outputs": [
    {
     "data": {
      "text/plain": [
       "True"
      ]
     },
     "execution_count": 25,
     "metadata": {},
     "output_type": "execute_result"
    }
   ],
   "source": [
    "a>={1,2}"
   ]
  },
  {
   "cell_type": "code",
   "execution_count": 26,
   "metadata": {},
   "outputs": [
    {
     "data": {
      "text/plain": [
       "False"
      ]
     },
     "execution_count": 26,
     "metadata": {},
     "output_type": "execute_result"
    }
   ],
   "source": [
    "a>={1,2,3,4}"
   ]
  },
  {
   "cell_type": "code",
   "execution_count": 27,
   "metadata": {},
   "outputs": [
    {
     "data": {
      "text/plain": [
       "True"
      ]
     },
     "execution_count": 27,
     "metadata": {},
     "output_type": "execute_result"
    }
   ],
   "source": [
    "a.isdisjoint({5,6,7,8})"
   ]
  },
  {
   "cell_type": "code",
   "execution_count": 28,
   "metadata": {},
   "outputs": [
    {
     "data": {
      "text/plain": [
       "False"
      ]
     },
     "execution_count": 28,
     "metadata": {},
     "output_type": "execute_result"
    }
   ],
   "source": [
    "a.isdisjoint({2,7,8,9})"
   ]
  },
  {
   "cell_type": "code",
   "execution_count": 29,
   "metadata": {},
   "outputs": [
    {
     "data": {
      "text/plain": [
       "{1, 2, 3, 10}"
      ]
     },
     "execution_count": 29,
     "metadata": {},
     "output_type": "execute_result"
    }
   ],
   "source": [
    "a.add(10)\n",
    "a"
   ]
  },
  {
   "cell_type": "code",
   "execution_count": 30,
   "metadata": {},
   "outputs": [
    {
     "data": {
      "text/plain": [
       "{2, 3, 10}"
      ]
     },
     "execution_count": 30,
     "metadata": {},
     "output_type": "execute_result"
    }
   ],
   "source": [
    "a.remove(1)\n",
    "a"
   ]
  },
  {
   "cell_type": "code",
   "execution_count": 31,
   "metadata": {},
   "outputs": [
    {
     "data": {
      "text/plain": [
       "{2, 3}"
      ]
     },
     "execution_count": 31,
     "metadata": {},
     "output_type": "execute_result"
    }
   ],
   "source": [
    "a.discard(10)\n",
    "a"
   ]
  },
  {
   "cell_type": "code",
   "execution_count": 32,
   "metadata": {},
   "outputs": [],
   "source": [
    "multi='''hello\n",
    "heehehehehe\n",
    "hahahahah'''"
   ]
  },
  {
   "cell_type": "code",
   "execution_count": 33,
   "metadata": {},
   "outputs": [
    {
     "data": {
      "text/plain": [
       "'hello\\nheehehehehe\\nhahahahah'"
      ]
     },
     "execution_count": 33,
     "metadata": {},
     "output_type": "execute_result"
    }
   ],
   "source": [
    "multi"
   ]
  },
  {
   "cell_type": "code",
   "execution_count": 34,
   "metadata": {},
   "outputs": [
    {
     "name": "stdout",
     "output_type": "stream",
     "text": [
      "x가 10 입니다\n"
     ]
    }
   ],
   "source": [
    "x=10\n",
    "if x==10:\n",
    "    print(\"x가 10 입니다\")"
   ]
  },
  {
   "cell_type": "code",
   "execution_count": 35,
   "metadata": {},
   "outputs": [],
   "source": [
    "x=10\n",
    "if x==10:\n",
    "    pass"
   ]
  },
  {
   "cell_type": "code",
   "execution_count": 37,
   "metadata": {},
   "outputs": [
    {
     "name": "stdout",
     "output_type": "stream",
     "text": [
      "10\n",
      "!12\n",
      "10\n"
     ]
    }
   ],
   "source": [
    "x=10\n",
    "if x==10:\n",
    "    print(\"10\")\n",
    "    print(\"!12\")\n",
    "print(\"10\")"
   ]
  },
  {
   "cell_type": "code",
   "execution_count": 41,
   "metadata": {},
   "outputs": [
    {
     "name": "stdout",
     "output_type": "stream",
     "text": [
      "x>3\n",
      "0<x<20\n"
     ]
    }
   ],
   "source": [
    "if x>3:\n",
    "    print(\"x>3\")\n",
    "    \n",
    "if x>2 and x<10 :\n",
    "    print(\"x>2, x<10\")\n",
    "    \n",
    "if 0<x<20:\n",
    "    print(\"0<x<20\")\n",
    "    "
   ]
  },
  {
   "cell_type": "code",
   "execution_count": 42,
   "metadata": {},
   "outputs": [
    {
     "name": "stdout",
     "output_type": "stream",
     "text": [
      "10<=x<=20\n"
     ]
    }
   ],
   "source": [
    "if x>=10:\n",
    "    if x<=20:\n",
    "        print(\"10<=x<=20\")\n",
    "    elif x<=30:\n",
    "        print(\"20<x<=30\")"
   ]
  },
  {
   "cell_type": "code",
   "execution_count": 44,
   "metadata": {},
   "outputs": [
    {
     "name": "stdout",
     "output_type": "stream",
     "text": [
      "x !A,B,C\n"
     ]
    }
   ],
   "source": [
    "if x=='A':\n",
    "    print(\"x==A\")\n",
    "    \n",
    "elif x=='B':\n",
    "    print(\"x==B\")\n",
    "\n",
    "elif x=='C':\n",
    "    print(\"X==C\")\n",
    "    \n",
    "else:\n",
    "    print(\"x !A,B,C\")"
   ]
  },
  {
   "cell_type": "code",
   "execution_count": 55,
   "metadata": {},
   "outputs": [
    {
     "name": "stdout",
     "output_type": "stream",
     "text": [
      "점수1 : 100\n",
      "점수2 : 100\n",
      "점수3 : 100\n",
      "합격\n"
     ]
    }
   ],
   "source": [
    "num1=int(input(\"점수1 : \"))\n",
    "num2=int(input(\"점수2 : \"))\n",
    "num3=int(input(\"점수3 : \"))\n",
    "if 0>num1 or num1>100 or 0>num2 or num2>100 or 0>num3 or num3>100:\n",
    "    print(\"잘못된 점수가 입력되었습니다.\")\n",
    "elif num1>65 and num2>65 and num3>65:\n",
    "    print(\"합격\")\n",
    "else:\n",
    "    print(\"불합격\")"
   ]
  },
  {
   "cell_type": "code",
   "execution_count": 51,
   "metadata": {},
   "outputs": [
    {
     "data": {
      "text/plain": [
       "tuple"
      ]
     },
     "execution_count": 51,
     "metadata": {},
     "output_type": "execute_result"
    }
   ],
   "source": [
    "my_tuple=(1,2,3,4,5)\n",
    "type(my_tuple)"
   ]
  },
  {
   "cell_type": "code",
   "execution_count": 47,
   "metadata": {},
   "outputs": [
    {
     "data": {
      "text/plain": [
       "int"
      ]
     },
     "execution_count": 47,
     "metadata": {},
     "output_type": "execute_result"
    }
   ],
   "source": [
    "my_tuple=(1)\n",
    "type(my_tuple)"
   ]
  },
  {
   "cell_type": "code",
   "execution_count": 56,
   "metadata": {},
   "outputs": [
    {
     "data": {
      "text/plain": [
       "tuple"
      ]
     },
     "execution_count": 56,
     "metadata": {},
     "output_type": "execute_result"
    }
   ],
   "source": [
    "my_tuple=(1,)\n",
    "type(my_tuple)"
   ]
  },
  {
   "cell_type": "code",
   "execution_count": 58,
   "metadata": {},
   "outputs": [
    {
     "name": "stdout",
     "output_type": "stream",
     "text": [
      "0\n",
      "1\n",
      "2\n",
      "3\n",
      "4\n",
      "5\n",
      "6\n",
      "7\n",
      "8\n",
      "9\n"
     ]
    }
   ],
   "source": [
    "for i in range(0,10):\n",
    "    print(i)"
   ]
  },
  {
   "cell_type": "code",
   "execution_count": 59,
   "metadata": {},
   "outputs": [
    {
     "name": "stdout",
     "output_type": "stream",
     "text": [
      "0\n",
      "2\n",
      "4\n",
      "6\n",
      "8\n"
     ]
    }
   ],
   "source": [
    "for i in range(0,10,2):\n",
    "    print(i)"
   ]
  },
  {
   "cell_type": "code",
   "execution_count": 60,
   "metadata": {},
   "outputs": [
    {
     "name": "stdout",
     "output_type": "stream",
     "text": [
      "10\n",
      "9\n",
      "8\n",
      "7\n",
      "6\n",
      "5\n",
      "4\n",
      "3\n",
      "2\n",
      "1\n"
     ]
    }
   ],
   "source": [
    "for i in range(10,0,-1):\n",
    "    print(i)"
   ]
  },
  {
   "cell_type": "code",
   "execution_count": 61,
   "metadata": {},
   "outputs": [
    {
     "name": "stdout",
     "output_type": "stream",
     "text": [
      "1\n",
      "2\n",
      "3\n",
      "4\n",
      "5\n",
      "6\n",
      "7\n"
     ]
    }
   ],
   "source": [
    "a=[1,2,3,4,5,6,7]\n",
    "for i in a:\n",
    "    print(i)"
   ]
  },
  {
   "cell_type": "code",
   "execution_count": 63,
   "metadata": {},
   "outputs": [
    {
     "name": "stdout",
     "output_type": "stream",
     "text": [
      "Orange"
     ]
    }
   ],
   "source": [
    "for i in \"Orange\":\n",
    "    print(i, end=\"\")"
   ]
  },
  {
   "cell_type": "code",
   "execution_count": 64,
   "metadata": {},
   "outputs": [
    {
     "name": "stdout",
     "output_type": "stream",
     "text": [
      "[1, 2, 3, 4, 5, 6, 4, 3, 3, 2, 3, 4, 5, 6, 6, 5, 1, 2, 3, 4, 5, 6, 4, 3, 3, 2, 3, 4, 5, 6, 6, 5, 1, 2, 3, 4, 5, 6, 4, 3, 3, 2, 3, 4, 5, 6, 6, 5, 1, 2, 3, 4, 5, 6, 4, 3, 3, 2, 3, 4, 5, 6, 6, 5]\n"
     ]
    }
   ],
   "source": [
    "a=[1,2,3,4,5,6,4,3,3,2,3,4,5,6,6,5,1,2,3,4,5,6,4,3,3,2,3,4,5,6,6,5,1,2,3,4,5,6,4,3,3,2,3,4,5,6,6,5,1,2,3,4,5,6,4,3,3,2,3,4,5,6,6,5]\n",
    "print(a)"
   ]
  },
  {
   "cell_type": "code",
   "execution_count": 65,
   "metadata": {},
   "outputs": [
    {
     "data": {
      "text/plain": [
       "[1,\n",
       " 2,\n",
       " 3,\n",
       " 4,\n",
       " 5,\n",
       " 6,\n",
       " 4,\n",
       " 3,\n",
       " 3,\n",
       " 2,\n",
       " 3,\n",
       " 4,\n",
       " 5,\n",
       " 6,\n",
       " 6,\n",
       " 5,\n",
       " 1,\n",
       " 2,\n",
       " 3,\n",
       " 4,\n",
       " 5,\n",
       " 6,\n",
       " 4,\n",
       " 3,\n",
       " 3,\n",
       " 2,\n",
       " 3,\n",
       " 4,\n",
       " 5,\n",
       " 6,\n",
       " 6,\n",
       " 5,\n",
       " 1,\n",
       " 2,\n",
       " 3,\n",
       " 4,\n",
       " 5,\n",
       " 6,\n",
       " 4,\n",
       " 3,\n",
       " 3,\n",
       " 2,\n",
       " 3,\n",
       " 4,\n",
       " 5,\n",
       " 6,\n",
       " 6,\n",
       " 5,\n",
       " 1,\n",
       " 2,\n",
       " 3,\n",
       " 4,\n",
       " 5,\n",
       " 6,\n",
       " 4,\n",
       " 3,\n",
       " 3,\n",
       " 2,\n",
       " 3,\n",
       " 4,\n",
       " 5,\n",
       " 6,\n",
       " 6,\n",
       " 5]"
      ]
     },
     "execution_count": 65,
     "metadata": {},
     "output_type": "execute_result"
    }
   ],
   "source": [
    "a"
   ]
  },
  {
   "cell_type": "code",
   "execution_count": 66,
   "metadata": {},
   "outputs": [
    {
     "name": "stdout",
     "output_type": "stream",
     "text": [
      "[1,\n",
      " 2,\n",
      " 3,\n",
      " 4,\n",
      " 5,\n",
      " 6,\n",
      " 4,\n",
      " 3,\n",
      " 3,\n",
      " 2,\n",
      " 3,\n",
      " 4,\n",
      " 5,\n",
      " 6,\n",
      " 6,\n",
      " 5,\n",
      " 1,\n",
      " 2,\n",
      " 3,\n",
      " 4,\n",
      " 5,\n",
      " 6,\n",
      " 4,\n",
      " 3,\n",
      " 3,\n",
      " 2,\n",
      " 3,\n",
      " 4,\n",
      " 5,\n",
      " 6,\n",
      " 6,\n",
      " 5,\n",
      " 1,\n",
      " 2,\n",
      " 3,\n",
      " 4,\n",
      " 5,\n",
      " 6,\n",
      " 4,\n",
      " 3,\n",
      " 3,\n",
      " 2,\n",
      " 3,\n",
      " 4,\n",
      " 5,\n",
      " 6,\n",
      " 6,\n",
      " 5,\n",
      " 1,\n",
      " 2,\n",
      " 3,\n",
      " 4,\n",
      " 5,\n",
      " 6,\n",
      " 4,\n",
      " 3,\n",
      " 3,\n",
      " 2,\n",
      " 3,\n",
      " 4,\n",
      " 5,\n",
      " 6,\n",
      " 6,\n",
      " 5]\n"
     ]
    }
   ],
   "source": [
    "from pprint import pprint\n",
    "pprint(a)"
   ]
  },
  {
   "cell_type": "code",
   "execution_count": 75,
   "metadata": {},
   "outputs": [
    {
     "name": "stdout",
     "output_type": "stream",
     "text": [
      "name  TJ\n",
      "math  999\n",
      "english  10239\n"
     ]
    }
   ],
   "source": [
    "a={\n",
    "    \"name\":\"TJ\",\n",
    "    \"math\":999,\n",
    "    \"english\":10239\n",
    "}\n",
    "for i in a:\n",
    "    print(i,\" \", end=\"\")\n",
    "    print(a[i])"
   ]
  },
  {
   "cell_type": "code",
   "execution_count": 71,
   "metadata": {},
   "outputs": [
    {
     "name": "stdout",
     "output_type": "stream",
     "text": [
      "<class 'list'>\n",
      "<class 'tuple'>\n",
      "<class 'tuple'>\n"
     ]
    }
   ],
   "source": [
    "my_list = [1,2,3,4,5]\n",
    "print(type(my_list))\n",
    "my_tuple=tuple(my_list)\n",
    "print(type(my_tuple))\n",
    "print(type(tuple(my_list)))"
   ]
  },
  {
   "cell_type": "code",
   "execution_count": 72,
   "metadata": {},
   "outputs": [
    {
     "name": "stdout",
     "output_type": "stream",
     "text": [
      "숫자 입력: 3\n",
      "Hello 0\n",
      "Hello 1\n",
      "Hello 2\n"
     ]
    }
   ],
   "source": [
    "count=int(input(\"숫자 입력: \"))\n",
    "for i in range(count):\n",
    "    print(\"Hello\",i)"
   ]
  },
  {
   "cell_type": "code",
   "execution_count": 77,
   "metadata": {},
   "outputs": [
    {
     "name": "stdout",
     "output_type": "stream",
     "text": [
      "0,a\n",
      "1,b\n",
      "2,c\n",
      "3,d\n",
      "4,e\n"
     ]
    }
   ],
   "source": [
    "a=['a','b','c','d','e']\n",
    "for b,c in enumerate(a):\n",
    "    print(b,c,sep=\",\")"
   ]
  },
  {
   "cell_type": "code",
   "execution_count": 85,
   "metadata": {},
   "outputs": [
    {
     "name": "stdout",
     "output_type": "stream",
     "text": [
      "30\n",
      "60\n",
      "90\n",
      "200\n",
      "-70\n",
      "50\n",
      "[30, 60, 90, 200, -70, 50]\n"
     ]
    }
   ],
   "source": [
    "x=[3,6,9,20,-7,5]\n",
    "for i in range(0,len(x)):\n",
    "    x[i]*=10\n",
    "    print(x[i])\n",
    "    \n",
    "print(x)"
   ]
  },
  {
   "cell_type": "code",
   "execution_count": 92,
   "metadata": {},
   "outputs": [
    {
     "name": "stdout",
     "output_type": "stream",
     "text": [
      "80\n",
      "90\n",
      "30\n",
      "{'math': 80, 'science': 90, 'english': 30}\n"
     ]
    }
   ],
   "source": [
    "y={\n",
    "    \"math\":70,\n",
    "    \"science\":80,\n",
    "    \"english\":20\n",
    "}\n",
    "\n",
    "for i in y:\n",
    "    y[i]+=10\n",
    "    print(y[i])\n",
    "    \n",
    "print(y)"
   ]
  },
  {
   "cell_type": "code",
   "execution_count": 98,
   "metadata": {},
   "outputs": [
    {
     "name": "stdout",
     "output_type": "stream",
     "text": [
      "숫자?: 5\n",
      "5 * 1 = 5\n",
      "\n",
      "5 * 2 = 10\n",
      "\n",
      "5 * 3 = 15\n",
      "\n",
      "5 * 4 = 20\n",
      "\n",
      "5 * 5 = 25\n",
      "\n",
      "5 * 6 = 30\n",
      "\n",
      "5 * 7 = 35\n",
      "\n",
      "5 * 8 = 40\n",
      "\n",
      "5 * 9 = 45\n",
      "\n"
     ]
    }
   ],
   "source": [
    "num=int(input(\"숫자?: \"))\n",
    "\n",
    "for i in range(1,10):\n",
    "    print(f\"{num} * {i} = {num*i}\\n\")\n"
   ]
  },
  {
   "cell_type": "code",
   "execution_count": 99,
   "metadata": {},
   "outputs": [
    {
     "name": "stdout",
     "output_type": "stream",
     "text": [
      "['school', 'science', 'mountian']\n"
     ]
    }
   ],
   "source": [
    "word=[\"school\",\"game\",\"piano\",\"science\",\"hotel\",\"mountian\"]\n",
    "new_word=[]\n",
    "for i in word:\n",
    "    if(len(i)>=6):\n",
    "        new_word.append(i)\n",
    "\n",
    "print(new_word)"
   ]
  },
  {
   "cell_type": "code",
   "execution_count": 101,
   "metadata": {},
   "outputs": [
    {
     "name": "stdout",
     "output_type": "stream",
     "text": [
      "1 * 1 = 1\n",
      "1 * 2 = 2\n",
      "1 * 3 = 3\n",
      "1 * 4 = 4\n",
      "1 * 5 = 5\n",
      "1 * 6 = 6\n",
      "1 * 7 = 7\n",
      "1 * 8 = 8\n",
      "1 * 9 = 9\n",
      "\n",
      "\n",
      "2 * 1 = 2\n",
      "2 * 2 = 4\n",
      "2 * 3 = 6\n",
      "2 * 4 = 8\n",
      "2 * 5 = 10\n",
      "2 * 6 = 12\n",
      "2 * 7 = 14\n",
      "2 * 8 = 16\n",
      "2 * 9 = 18\n",
      "\n",
      "\n",
      "3 * 1 = 3\n",
      "3 * 2 = 6\n",
      "3 * 3 = 9\n",
      "3 * 4 = 12\n",
      "3 * 5 = 15\n",
      "3 * 6 = 18\n",
      "3 * 7 = 21\n",
      "3 * 8 = 24\n",
      "3 * 9 = 27\n",
      "\n",
      "\n",
      "4 * 1 = 4\n",
      "4 * 2 = 8\n",
      "4 * 3 = 12\n",
      "4 * 4 = 16\n",
      "4 * 5 = 20\n",
      "4 * 6 = 24\n",
      "4 * 7 = 28\n",
      "4 * 8 = 32\n",
      "4 * 9 = 36\n",
      "\n",
      "\n",
      "5 * 1 = 5\n",
      "5 * 2 = 10\n",
      "5 * 3 = 15\n",
      "5 * 4 = 20\n",
      "5 * 5 = 25\n",
      "5 * 6 = 30\n",
      "5 * 7 = 35\n",
      "5 * 8 = 40\n",
      "5 * 9 = 45\n",
      "\n",
      "\n",
      "6 * 1 = 6\n",
      "6 * 2 = 12\n",
      "6 * 3 = 18\n",
      "6 * 4 = 24\n",
      "6 * 5 = 30\n",
      "6 * 6 = 36\n",
      "6 * 7 = 42\n",
      "6 * 8 = 48\n",
      "6 * 9 = 54\n",
      "\n",
      "\n",
      "7 * 1 = 7\n",
      "7 * 2 = 14\n",
      "7 * 3 = 21\n",
      "7 * 4 = 28\n",
      "7 * 5 = 35\n",
      "7 * 6 = 42\n",
      "7 * 7 = 49\n",
      "7 * 8 = 56\n",
      "7 * 9 = 63\n",
      "\n",
      "\n",
      "8 * 1 = 8\n",
      "8 * 2 = 16\n",
      "8 * 3 = 24\n",
      "8 * 4 = 32\n",
      "8 * 5 = 40\n",
      "8 * 6 = 48\n",
      "8 * 7 = 56\n",
      "8 * 8 = 64\n",
      "8 * 9 = 72\n",
      "\n",
      "\n",
      "9 * 1 = 9\n",
      "9 * 2 = 18\n",
      "9 * 3 = 27\n",
      "9 * 4 = 36\n",
      "9 * 5 = 45\n",
      "9 * 6 = 54\n",
      "9 * 7 = 63\n",
      "9 * 8 = 72\n",
      "9 * 9 = 81\n",
      "\n",
      "\n"
     ]
    }
   ],
   "source": [
    "for i in range(1, 10):\n",
    "    for j in range(1, 10):\n",
    "        print(f\"{i} * {j} = {i*j}\")\n",
    "        pass\n",
    "    print(\"\\n\")"
   ]
  },
  {
   "cell_type": "code",
   "execution_count": 102,
   "metadata": {},
   "outputs": [
    {
     "data": {
      "text/plain": [
       "set"
      ]
     },
     "execution_count": 102,
     "metadata": {},
     "output_type": "execute_result"
    }
   ],
   "source": [
    "m=set()\n",
    "type(m)"
   ]
  },
  {
   "cell_type": "code",
   "execution_count": 103,
   "metadata": {},
   "outputs": [
    {
     "data": {
      "text/plain": [
       "dict"
      ]
     },
     "execution_count": 103,
     "metadata": {},
     "output_type": "execute_result"
    }
   ],
   "source": [
    "m=dict()\n",
    "type(m)"
   ]
  },
  {
   "cell_type": "code",
   "execution_count": 104,
   "metadata": {},
   "outputs": [
    {
     "data": {
      "text/plain": [
       "dict"
      ]
     },
     "execution_count": 104,
     "metadata": {},
     "output_type": "execute_result"
    }
   ],
   "source": [
    "m={}\n",
    "type(m)"
   ]
  },
  {
   "cell_type": "code",
   "execution_count": 106,
   "metadata": {},
   "outputs": [
    {
     "name": "stdout",
     "output_type": "stream",
     "text": [
      "숫자?: 20\n",
      "1\n",
      "2\n",
      "3, 3의 배수\n",
      "4\n",
      "5, 5의 배수\n",
      "6, 3의 배수\n",
      "7\n",
      "8\n",
      "9, 3의 배수\n",
      "10, 5의 배수\n",
      "11\n",
      "12, 3의 배수\n",
      "13\n",
      "14\n",
      "15, 3과 5의 공배수\n",
      "16\n",
      "17\n",
      "18, 3의 배수\n",
      "19\n",
      "20, 5의 배수\n"
     ]
    }
   ],
   "source": [
    "num=int(input(\"숫자?: \"))\n",
    "\n",
    "for i in range(1, num+1):\n",
    "    if(i % 3 == 0 and i % 5== 0):\n",
    "        print(f\"{i}, 3과 5의 공배수\")\n",
    "    \n",
    "    elif(i % 3== 0):\n",
    "        print(f\"{i}, 3의 배수\")\n",
    "        \n",
    "    elif(i % 5 == 0):\n",
    "        print(f\"{i}, 5의 배수\")\n",
    "        \n",
    "    else :\n",
    "        print(i)"
   ]
  },
  {
   "cell_type": "code",
   "execution_count": 111,
   "metadata": {},
   "outputs": [
    {
     "name": "stdout",
     "output_type": "stream",
     "text": [
      "현재값 :  0\n",
      "현재값 :  1\n",
      "현재값 :  2\n",
      "현재값 :  3\n",
      "현재값 :  4\n",
      "현재값 :  5\n",
      "현재값 :  6\n",
      "현재값 :  7\n",
      "현재값 :  8\n",
      "현재값 :  9\n"
     ]
    }
   ],
   "source": [
    "i=0\n",
    "while i<10:\n",
    "    print(\"현재값 : \",i)\n",
    "    i+=1"
   ]
  },
  {
   "cell_type": "code",
   "execution_count": 112,
   "metadata": {},
   "outputs": [
    {
     "name": "stdout",
     "output_type": "stream",
     "text": [
      "반복횟수?: 3\n",
      "입력한 횟수만큼 반복\n",
      "입력한 횟수만큼 반복\n",
      "입력한 횟수만큼 반복\n"
     ]
    }
   ],
   "source": [
    "count = int(input(\"반복횟수?: \"))\n",
    "i=0\n",
    "while i<count:\n",
    "    print(\"입력한 횟수만큼 반복\")\n",
    "    i+=1"
   ]
  },
  {
   "cell_type": "code",
   "execution_count": 113,
   "metadata": {},
   "outputs": [
    {
     "name": "stdout",
     "output_type": "stream",
     "text": [
      "5를 입력하면 반복이 중단됩니다.3\n",
      "5를 입력하면 반복이 중단됩니다.2\n",
      "5를 입력하면 반복이 중단됩니다.3\n",
      "5를 입력하면 반복이 중단됩니다.1\n",
      "5를 입력하면 반복이 중단됩니다.2\n",
      "5를 입력하면 반복이 중단됩니다.3\n",
      "5를 입력하면 반복이 중단됩니다.55\n",
      "5를 입력하면 반복이 중단됩니다.5\n",
      "중단!\n"
     ]
    }
   ],
   "source": [
    "i = 0\n",
    "while i != 5:\n",
    "    i=int(input(\"5를 입력하면 반복이 중단됩니다.\"))\n",
    "    \n",
    "print(\"중단!\")"
   ]
  },
  {
   "cell_type": "code",
   "execution_count": 5,
   "metadata": {},
   "outputs": [
    {
     "name": "stdout",
     "output_type": "stream",
     "text": [
      "값을 입력해주세요. 11\n",
      "값을 입력해주세요. 22\n",
      "값을 입력해주세요. S\n",
      "합계는 ?  33\n"
     ]
    }
   ],
   "source": [
    "num=0\n",
    "i=0\n",
    "while i !='s' and i !='S' :\n",
    "    i=input(\"값을 입력해주세요. \")\n",
    "    if(i != 's' and i !='S'):\n",
    "        num+=int(i)\n",
    "\n",
    "print(\"합계는 ? \",num)\n",
    "    "
   ]
  },
  {
   "cell_type": "code",
   "execution_count": 8,
   "metadata": {},
   "outputs": [
    {
     "data": {
      "text/plain": [
       "0.5780861247849627"
      ]
     },
     "execution_count": 8,
     "metadata": {},
     "output_type": "execute_result"
    }
   ],
   "source": [
    "import random\n",
    "random.random()"
   ]
  },
  {
   "cell_type": "code",
   "execution_count": 14,
   "metadata": {},
   "outputs": [
    {
     "data": {
      "text/plain": [
       "1"
      ]
     },
     "execution_count": 14,
     "metadata": {},
     "output_type": "execute_result"
    }
   ],
   "source": [
    "random.randint(1,3)"
   ]
  },
  {
   "cell_type": "code",
   "execution_count": 51,
   "metadata": {},
   "outputs": [
    {
     "name": "stdout",
     "output_type": "stream",
     "text": [
      "가위(1), 바위(2), 보(3)를 입력해주세요!: 1\n",
      "유저 : 가위, 컴퓨터 : 보\n",
      "가위(1), 바위(2), 보(3)를 입력해주세요!: 1\n",
      "유저 : 가위, 컴퓨터 : 가위\n",
      "가위(1), 바위(2), 보(3)를 입력해주세요!: 1\n",
      "유저 : 가위, 컴퓨터 : 보\n",
      "가위(1), 바위(2), 보(3)를 입력해주세요!: 1\n",
      "유저 : 가위, 컴퓨터 : 가위\n",
      "가위(1), 바위(2), 보(3)를 입력해주세요!: 1\n",
      "유저 : 가위, 컴퓨터 : 가위\n",
      "가위(1), 바위(2), 보(3)를 입력해주세요!: 1\n",
      "유저 : 가위, 컴퓨터 : 바위\n",
      "가위(1), 바위(2), 보(3)를 입력해주세요!: 1\n",
      "유저 : 가위, 컴퓨터 : 가위\n",
      "가위(1), 바위(2), 보(3)를 입력해주세요!: 1\n",
      "유저 : 가위, 컴퓨터 : 보\n",
      "가위(1), 바위(2), 보(3)를 입력해주세요!: 1\n",
      "유저 : 가위, 컴퓨터 : 보\n",
      "가위(1), 바위(2), 보(3)를 입력해주세요!: 1\n",
      "유저 : 가위, 컴퓨터 : 보\n",
      "가위(1), 바위(2), 보(3)를 입력해주세요!: 1\n",
      "유저 : 가위, 컴퓨터 : 보\n",
      "가위(1), 바위(2), 보(3)를 입력해주세요!: 1\n",
      "유저 : 가위, 컴퓨터 : 가위\n",
      "가위(1), 바위(2), 보(3)를 입력해주세요!: 1\n",
      "유저 : 가위, 컴퓨터 : 가위\n",
      "가위(1), 바위(2), 보(3)를 입력해주세요!: 1\n",
      "유저 : 가위, 컴퓨터 : 바위\n",
      "가위(1), 바위(2), 보(3)를 입력해주세요!: 1\n",
      "유저 : 가위, 컴퓨터 : 보\n",
      "가위(1), 바위(2), 보(3)를 입력해주세요!: 1\n",
      "유저 : 가위, 컴퓨터 : 바위\n",
      "가위(1), 바위(2), 보(3)를 입력해주세요!: 1\n",
      "유저 : 가위, 컴퓨터 : 가위\n",
      "가위(1), 바위(2), 보(3)를 입력해주세요!: 1\n",
      "유저 : 가위, 컴퓨터 : 보\n",
      "가위(1), 바위(2), 보(3)를 입력해주세요!: 1\n",
      "유저 : 가위, 컴퓨터 : 보\n",
      "가위(1), 바위(2), 보(3)를 입력해주세요!: 1\n",
      "유저 : 가위, 컴퓨터 : 바위\n",
      "가위(1), 바위(2), 보(3)를 입력해주세요!: 1\n",
      "유저 : 가위, 컴퓨터 : 가위\n",
      "가위(1), 바위(2), 보(3)를 입력해주세요!: 1\n",
      "유저 : 가위, 컴퓨터 : 바위\n",
      "가위(1), 바위(2), 보(3)를 입력해주세요!: 1\n",
      "유저 : 가위, 컴퓨터 : 보\n",
      "가위(1), 바위(2), 보(3)를 입력해주세요!: 1\n",
      "유저 : 가위, 컴퓨터 : 바위\n",
      "가위(1), 바위(2), 보(3)를 입력해주세요!: 1\n",
      "유저 : 가위, 컴퓨터 : 보\n",
      "가위(1), 바위(2), 보(3)를 입력해주세요!: 1\n",
      "유저 : 가위, 컴퓨터 : 바위\n",
      "가위(1), 바위(2), 보(3)를 입력해주세요!: 1\n",
      "유저 : 가위, 컴퓨터 : 바위\n",
      "가위(1), 바위(2), 보(3)를 입력해주세요!: 1\n",
      "유저 : 가위, 컴퓨터 : 가위\n",
      "가위(1), 바위(2), 보(3)를 입력해주세요!: 1\n",
      "유저 : 가위, 컴퓨터 : 가위\n",
      "가위(1), 바위(2), 보(3)를 입력해주세요!: 1\n",
      "유저 : 가위, 컴퓨터 : 가위\n",
      "가위(1), 바위(2), 보(3)를 입력해주세요!: 1\n",
      "유저 : 가위, 컴퓨터 : 바위\n",
      "가위(1), 바위(2), 보(3)를 입력해주세요!: 1\n",
      "유저 : 가위, 컴퓨터 : 보\n",
      "가위(1), 바위(2), 보(3)를 입력해주세요!: 1\n",
      "유저 : 가위, 컴퓨터 : 가위\n",
      "가위(1), 바위(2), 보(3)를 입력해주세요!: 1\n",
      "유저 : 가위, 컴퓨터 : 가위\n",
      "가위(1), 바위(2), 보(3)를 입력해주세요!: 1\n",
      "유저 : 가위, 컴퓨터 : 바위\n",
      "가위(1), 바위(2), 보(3)를 입력해주세요!: 1\n",
      "유저 : 가위, 컴퓨터 : 바위\n",
      "가위(1), 바위(2), 보(3)를 입력해주세요!: 1\n",
      "유저 : 가위, 컴퓨터 : 바위\n",
      "가위(1), 바위(2), 보(3)를 입력해주세요!: 1\n",
      "유저 : 가위, 컴퓨터 : 보\n",
      "가위(1), 바위(2), 보(3)를 입력해주세요!: 1\n",
      "유저 : 가위, 컴퓨터 : 보\n",
      "가위(1), 바위(2), 보(3)를 입력해주세요!: 1\n",
      "유저 : 가위, 컴퓨터 : 바위\n",
      "가위(1), 바위(2), 보(3)를 입력해주세요!: 1\n",
      "유저 : 가위, 컴퓨터 : 보\n",
      "가위(1), 바위(2), 보(3)를 입력해주세요!: 1\n",
      "유저 : 가위, 컴퓨터 : 바위\n",
      "가위(1), 바위(2), 보(3)를 입력해주세요!: 4\n",
      "게임종료(전체:42, 승리:15, 비김:13)\n"
     ]
    }
   ],
   "source": [
    "import random\n",
    "\n",
    "#변수 선언\n",
    "i=0\n",
    "com_i=0\n",
    "play_count=0\n",
    "win_count=0\n",
    "lose_count=0\n",
    "draw_count=0\n",
    "\n",
    "while i !=4 :\n",
    "    com_i=random.randint(1,3) #컴퓨터 가위 바위 보 생성\n",
    "    i=int(input(\"가위(1), 바위(2), 보(3)를 입력해주세요!: \")) #유저 가위 바위 보 입력\n",
    "    \n",
    "    #유저가 가위를 냈을 경우\n",
    "    if i == 1:\n",
    "        play_count+=1\n",
    "        if(com_i == 1):\n",
    "            print(\"유저 : 가위, 컴퓨터 : 가위\")\n",
    "            draw_count+=1\n",
    "        elif(com_i == 2):\n",
    "            print(\"유저 : 가위, 컴퓨터 : 바위\")\n",
    "            lose_count += 1\n",
    "        elif(com_i == 3):\n",
    "            print(\"유저 : 가위, 컴퓨터 : 보\")\n",
    "            win_count +=1\n",
    "            \n",
    "     #유저가 바위를 냈을 경우\n",
    "    elif i == 2:\n",
    "        play_count+=1\n",
    "        if(com_i == 1):\n",
    "            print(\"유저 : 바위, 컴퓨터 : 가위\")\n",
    "            win_count+=1\n",
    "        elif(com_i == 2):\n",
    "            print(\"유저 : 바위, 컴퓨터 : 바위\")\n",
    "            draw_count += 1\n",
    "        elif(com_i == 3):\n",
    "            print(\"유저 : 바위, 컴퓨터 : 보\")\n",
    "            lose_count +=1\n",
    "            \n",
    "    #유저가 보를 냈을 경우\n",
    "    elif i == 3:\n",
    "        play_count+=1\n",
    "        if(com_i == 1):\n",
    "            print(\"유저 : 보, 컴퓨터 : 가위\")\n",
    "            lose_count+=1\n",
    "        elif(com_i == 2):\n",
    "            print(\"유저 : 보, 컴퓨터 : 바위\")\n",
    "            win_count += 1\n",
    "        elif(com_i == 3):\n",
    "            print(\"유저 : 보, 컴퓨터 : 보\")\n",
    "            draw_count +=1\n",
    "\n",
    "#결과 출력\n",
    "print(f\"게임종료(전체:{play_count}, 승리:{win_count}, 비김:{draw_count})\")"
   ]
  },
  {
   "cell_type": "code",
   "execution_count": 53,
   "metadata": {},
   "outputs": [
    {
     "name": "stdout",
     "output_type": "stream",
     "text": [
      "점수1 : 100\n",
      "점수2 : 101\n",
      "점수3 : 100\n",
      "합격\n"
     ]
    }
   ],
   "source": [
    "a=int(input(\"점수1 : \"))\n",
    "b=int(input(\"점수2 : \"))\n",
    "c=int(input(\"점수3 : \"))\n",
    "\n",
    "if a not in range(0, 101) or b not in range(0, 101) or c not in range(0, 101):\n",
    "    print(\"잘못된 점수가 입력되었습니다.\")\n",
    "    \n",
    "elif a<65 or b<65 or c<65:\n",
    "    print(\"불합격\")\n",
    "    \n",
    "else:\n",
    "    print(\"합격\")"
   ]
  },
  {
   "cell_type": "code",
   "execution_count": 28,
   "metadata": {},
   "outputs": [
    {
     "name": "stdout",
     "output_type": "stream",
     "text": [
      "200\n",
      "300\n",
      "400\n",
      "와!\n"
     ]
    }
   ],
   "source": [
    "a=int(input())\n",
    "b=int(input())\n",
    "c=int(input())\n",
    "\n",
    "if(a and b and c) > 100:\n",
    "    print(\"와!\")\n",
    "\n",
    "else:\n",
    "    print(\"어?\")"
   ]
  },
  {
   "cell_type": "code",
   "execution_count": 47,
   "metadata": {},
   "outputs": [
    {
     "name": "stdout",
     "output_type": "stream",
     "text": [
      "정수를 입력해주세요: 2103\n",
      "입력하신 2103은 홀수 입니다.\n"
     ]
    }
   ],
   "source": [
    "a=int(input(\"정수를 입력해주세요: \"))\n",
    "\n",
    "#코드 작성\n",
    "if a == 0 :\n",
    "    print(\"0은 애매합니다.\")\n",
    "\n",
    "elif a % 2 == 0:\n",
    "    if a % 10 == 0 or a % 10 == 6 or a % 10 == 8: #은, 는 구별\n",
    "        print(f\"입력하신 {a}은 짝수 입니다.\")\n",
    "    else:\n",
    "        print(f\"입력하신 {a}는 짝수 입니다.\")\n",
    "\n",
    "else:\n",
    "    if a % 10 == 1 or a % 10 == 3 or a % 10 == 7: #은, 는 구별\n",
    "        print(f\"입력하신 {a}은 홀수 입니다.\")\n",
    "    else:\n",
    "        print(f\"입력하신 {a}는 홀수 입니다.\")"
   ]
  },
  {
   "cell_type": "code",
   "execution_count": 34,
   "metadata": {},
   "outputs": [
    {
     "data": {
      "text/plain": [
       "0"
      ]
     },
     "execution_count": 34,
     "metadata": {},
     "output_type": "execute_result"
    }
   ],
   "source": [
    "10 % 10"
   ]
  },
  {
   "cell_type": "code",
   "execution_count": 38,
   "metadata": {},
   "outputs": [
    {
     "data": {
      "text/plain": [
       "8"
      ]
     },
     "execution_count": 38,
     "metadata": {},
     "output_type": "execute_result"
    }
   ],
   "source": [
    "8 % 10"
   ]
  },
  {
   "cell_type": "code",
   "execution_count": 75,
   "metadata": {},
   "outputs": [
    {
     "name": "stdout",
     "output_type": "stream",
     "text": [
      "296\n",
      "6\n"
     ]
    }
   ],
   "source": [
    "import random\n",
    " \n",
    "#변수 생성\n",
    "a=list()\n",
    "\n",
    "#리스트 생성\n",
    "for i in range(0,100):\n",
    "    a.append(random.randint(1,300))\n",
    "    \n",
    "print(max(a))\n",
    "print(min(a))"
   ]
  },
  {
   "cell_type": "code",
   "execution_count": 77,
   "metadata": {},
   "outputs": [
    {
     "name": "stdout",
     "output_type": "stream",
     "text": [
      "296\n"
     ]
    }
   ],
   "source": [
    "large=a[0]\n",
    "\n",
    "for i in a:\n",
    "    if i>large:\n",
    "        large=i\n",
    "\n",
    "print(large)"
   ]
  },
  {
   "cell_type": "code",
   "execution_count": 88,
   "metadata": {},
   "outputs": [
    {
     "name": "stdout",
     "output_type": "stream",
     "text": [
      "15786\n"
     ]
    }
   ],
   "source": [
    "import random\n",
    "\n",
    "#변수 생성\n",
    "a=list()\n",
    "sum=0\n",
    "\n",
    "for i in range(0,100):\n",
    "    a.append(random.randint(1,300))\n",
    "    sum+=a[i]\n",
    "    \n",
    "print(sum)"
   ]
  },
  {
   "cell_type": "code",
   "execution_count": 93,
   "metadata": {},
   "outputs": [
    {
     "name": "stdout",
     "output_type": "stream",
     "text": [
      "정수를 입력하세요 : 10\n",
      "안녕\n",
      "안녕\n",
      "안녕\n",
      "안녕\n",
      "안녕\n",
      "안녕\n",
      "안녕\n",
      "안녕\n",
      "안녕\n",
      "안녕\n"
     ]
    }
   ],
   "source": [
    "a=int(input(\"정수를 입력하세요 : \"))\n",
    "\n",
    "for i in range(a):\n",
    "    print(\"안녕\")"
   ]
  },
  {
   "cell_type": "code",
   "execution_count": 90,
   "metadata": {},
   "outputs": [
    {
     "data": {
      "text/plain": [
       "[0, 1, 2, 3, 4, 5, 6, 7, 8, 9]"
      ]
     },
     "execution_count": 90,
     "metadata": {},
     "output_type": "execute_result"
    }
   ],
   "source": [
    "a=[i for i in range(10)]\n",
    "a"
   ]
  },
  {
   "cell_type": "code",
   "execution_count": 91,
   "metadata": {},
   "outputs": [
    {
     "data": {
      "text/plain": [
       "[5, 6, 7, 8, 9, 10, 11, 12, 13, 14]"
      ]
     },
     "execution_count": 91,
     "metadata": {},
     "output_type": "execute_result"
    }
   ],
   "source": [
    "a=[i+5 for i in range(10)]\n",
    "a"
   ]
  },
  {
   "cell_type": "code",
   "execution_count": 92,
   "metadata": {},
   "outputs": [
    {
     "data": {
      "text/plain": [
       "[0, 3, 6, 9, 12, 15, 18, 21, 24, 27]"
      ]
     },
     "execution_count": 92,
     "metadata": {},
     "output_type": "execute_result"
    }
   ],
   "source": [
    "a=[i*3 for i in range(10)]\n",
    "a"
   ]
  },
  {
   "cell_type": "code",
   "execution_count": 98,
   "metadata": {},
   "outputs": [
    {
     "name": "stdout",
     "output_type": "stream",
     "text": [
      "*\n",
      "**\n",
      "***\n",
      "****\n",
      "*****\n"
     ]
    }
   ],
   "source": [
    "a=''\n",
    "for i in range(1,6):\n",
    "    for j in range(i):\n",
    "        a+='*'\n",
    "    print(a)\n",
    "    a=''"
   ]
  },
  {
   "cell_type": "code",
   "execution_count": 99,
   "metadata": {},
   "outputs": [
    {
     "data": {
      "text/plain": [
       "[0, 2, 4, 6, 8]"
      ]
     },
     "execution_count": 99,
     "metadata": {},
     "output_type": "execute_result"
    }
   ],
   "source": [
    "a=[i for i in range(10) if i % 2 == 0]\n",
    "a"
   ]
  },
  {
   "cell_type": "code",
   "execution_count": 100,
   "metadata": {},
   "outputs": [
    {
     "data": {
      "text/plain": [
       "[1, 3, 5, 7, 9]"
      ]
     },
     "execution_count": 100,
     "metadata": {},
     "output_type": "execute_result"
    }
   ],
   "source": [
    "a=[i for i in range(10) if i % 2 ==1]\n",
    "a"
   ]
  },
  {
   "cell_type": "code",
   "execution_count": 101,
   "metadata": {},
   "outputs": [
    {
     "data": {
      "text/plain": [
       "[2,\n",
       " 4,\n",
       " 6,\n",
       " 8,\n",
       " 10,\n",
       " 12,\n",
       " 14,\n",
       " 16,\n",
       " 18,\n",
       " 3,\n",
       " 6,\n",
       " 9,\n",
       " 12,\n",
       " 15,\n",
       " 18,\n",
       " 21,\n",
       " 24,\n",
       " 27,\n",
       " 4,\n",
       " 8,\n",
       " 12,\n",
       " 16,\n",
       " 20,\n",
       " 24,\n",
       " 28,\n",
       " 32,\n",
       " 36,\n",
       " 5,\n",
       " 10,\n",
       " 15,\n",
       " 20,\n",
       " 25,\n",
       " 30,\n",
       " 35,\n",
       " 40,\n",
       " 45,\n",
       " 6,\n",
       " 12,\n",
       " 18,\n",
       " 24,\n",
       " 30,\n",
       " 36,\n",
       " 42,\n",
       " 48,\n",
       " 54,\n",
       " 7,\n",
       " 14,\n",
       " 21,\n",
       " 28,\n",
       " 35,\n",
       " 42,\n",
       " 49,\n",
       " 56,\n",
       " 63,\n",
       " 8,\n",
       " 16,\n",
       " 24,\n",
       " 32,\n",
       " 40,\n",
       " 48,\n",
       " 56,\n",
       " 64,\n",
       " 72,\n",
       " 9,\n",
       " 18,\n",
       " 27,\n",
       " 36,\n",
       " 45,\n",
       " 54,\n",
       " 63,\n",
       " 72,\n",
       " 81]"
      ]
     },
     "execution_count": 101,
     "metadata": {},
     "output_type": "execute_result"
    }
   ],
   "source": [
    "c=[i * j for j in range(2,10) for i in range(1,10)]\n",
    "c"
   ]
  },
  {
   "cell_type": "code",
   "execution_count": 109,
   "metadata": {},
   "outputs": [
    {
     "name": "stdout",
     "output_type": "stream",
     "text": [
      "입력하세요 숫자 : 5\n",
      "*****\n",
      "****\n",
      "***\n",
      "**\n",
      "*\n"
     ]
    }
   ],
   "source": [
    "star = \"*\"\n",
    "\n",
    "num = int(input(\"입력하세요 숫자 : \"))\n",
    "for i in range(num,0,-1):\n",
    "    print (star * i)"
   ]
  },
  {
   "cell_type": "code",
   "execution_count": 110,
   "metadata": {},
   "outputs": [
    {
     "name": "stdout",
     "output_type": "stream",
     "text": [
      "30\n",
      "60\n",
      "90\n",
      "200\n",
      "-70\n",
      "50\n",
      "[30, 60, 90, 200, -70, 50]\n"
     ]
    }
   ],
   "source": [
    "x= [3,6,9,20,-7,5]\n",
    "\n",
    "#코드 작성\n",
    "for i in range(len(x)):\n",
    "    x[i]*= 10\n",
    "    print(x[i])\n",
    "    \n",
    "print(x)"
   ]
  },
  {
   "cell_type": "code",
   "execution_count": 108,
   "metadata": {},
   "outputs": [
    {
     "data": {
      "text/plain": [
       "{'name': 'tom', 'age': '20', 'address': 'seoul'}"
      ]
     },
     "execution_count": 108,
     "metadata": {},
     "output_type": "execute_result"
    }
   ],
   "source": [
    "keys=['name','age','address']\n",
    "users = ['tom', '20', 'seoul']\n",
    "dicdic={keys[i]:users[i] for i in range(0,3)}\n",
    "dicdic"
   ]
  },
  {
   "cell_type": "code",
   "execution_count": 118,
   "metadata": {},
   "outputs": [
    {
     "name": "stdout",
     "output_type": "stream",
     "text": [
      "80\n",
      "302\n",
      "1009\n",
      "{'math': 80, 'science': 302, 'english': 1009}\n"
     ]
    }
   ],
   "source": [
    "y={\"math\":70, \"science\":292, \"english\":999}\n",
    "\n",
    "for i in y:\n",
    "    y[i]+=10\n",
    "    print(y[i])\n",
    "    \n",
    "print(y)"
   ]
  },
  {
   "cell_type": "code",
   "execution_count": 119,
   "metadata": {},
   "outputs": [
    {
     "name": "stdout",
     "output_type": "stream",
     "text": [
      "정수를 입력하세요 : 9\n",
      "9 * 1 = 9\n",
      "9 * 2 = 18\n",
      "9 * 3 = 27\n",
      "9 * 4 = 36\n",
      "9 * 5 = 45\n",
      "9 * 6 = 54\n",
      "9 * 7 = 63\n",
      "9 * 8 = 72\n",
      "9 * 9 = 81\n"
     ]
    }
   ],
   "source": [
    "num = int(input(\"정수를 입력하세요 : \"))\n",
    "\n",
    "for i in range(1, 10):\n",
    "    print(f\"{num} * {i} = {num*i}\")"
   ]
  },
  {
   "cell_type": "code",
   "execution_count": 124,
   "metadata": {},
   "outputs": [
    {
     "name": "stdout",
     "output_type": "stream",
     "text": [
      "{'name': 'TJ', 'age': '28', 'address': 'wonju'}\n",
      "[('name', 'TJ'), ('age', '28'), ('address', 'wonju')]\n",
      "{'name': 'TJ', 'age': '28', 'address': 'wonju'}\n"
     ]
    }
   ],
   "source": [
    "keys=[\"name\",\"age\",\"address\"]\n",
    "values=[\"TJ\",\"28\",\"wonju\"]\n",
    "\n",
    "dicdic=dict(zip(keys,values))\n",
    "print(dicdic)\n",
    "\n",
    "dicdic=list(zip(keys,values))\n",
    "print(dicdic)\n",
    "\n",
    "print(dict(dicdic))"
   ]
  },
  {
   "cell_type": "code",
   "execution_count": 125,
   "metadata": {},
   "outputs": [
    {
     "name": "stdout",
     "output_type": "stream",
     "text": [
      "['school', 'science', 'mountian']\n"
     ]
    }
   ],
   "source": [
    "word=[\"school\", \"game\",\"piano\",\"science\",\"hotel\",\"mountian\"]\n",
    "\n",
    "new_word=[i for i in word if len(i)>=6]\n",
    "print(new_word)"
   ]
  },
  {
   "cell_type": "code",
   "execution_count": 128,
   "metadata": {},
   "outputs": [
    {
     "name": "stdout",
     "output_type": "stream",
     "text": [
      "[6, 4, 5, 7, 5, 8]\n"
     ]
    }
   ],
   "source": [
    "word=[\"school\", \"game\",\"piano\",\"science\",\"hotel\",\"mountian\"]\n",
    "\n",
    "spell_count=[len(i) for i in word]\n",
    "print(spell_count)"
   ]
  },
  {
   "cell_type": "code",
   "execution_count": 133,
   "metadata": {},
   "outputs": [
    {
     "name": "stdout",
     "output_type": "stream",
     "text": [
      "[[10, 20, 10], [30, 40, 50], [50, 60, 1, 2]]\n",
      "[[10, 20, 10], [30, 40, 50], [50, 60, 1, 2]]\n"
     ]
    }
   ],
   "source": [
    "from pprint import pprint\n",
    "a=[[10,20],[30,40],[50,60]]\n",
    "a[0].append(10)\n",
    "a[1].append(50)\n",
    "a[2].extend([1,2])\n",
    "print(a)\n",
    "pprint(a)"
   ]
  },
  {
   "cell_type": "code",
   "execution_count": 135,
   "metadata": {},
   "outputs": [
    {
     "name": "stdout",
     "output_type": "stream",
     "text": [
      "10 20\n",
      "20 30\n",
      "30 40\n"
     ]
    }
   ],
   "source": [
    "a=[[10,20],[20,30],[30,40]]\n",
    "for x,y in a:\n",
    "    print(x,y)"
   ]
  },
  {
   "cell_type": "code",
   "execution_count": 136,
   "metadata": {},
   "outputs": [
    {
     "name": "stdout",
     "output_type": "stream",
     "text": [
      "10 20 \n",
      "20 30 \n",
      "30 40 \n"
     ]
    }
   ],
   "source": [
    "for i in a:\n",
    "    for j in i:\n",
    "        print(j, end=' ')\n",
    "    print()"
   ]
  },
  {
   "cell_type": "code",
   "execution_count": 137,
   "metadata": {},
   "outputs": [
    {
     "name": "stdout",
     "output_type": "stream",
     "text": [
      "10 20 \n",
      "20 30 \n",
      "30 40 \n"
     ]
    }
   ],
   "source": [
    "for i in range(len(a)):\n",
    "    for j in range(len(a[i])):\n",
    "        print(a[i][j], end=\" \")\n",
    "    print()"
   ]
  },
  {
   "cell_type": "code",
   "execution_count": 140,
   "metadata": {},
   "outputs": [
    {
     "name": "stdout",
     "output_type": "stream",
     "text": [
      "<class 'int'>\n",
      "0 0 10\n",
      "0 1 20\n",
      "<class 'int'>\n",
      "1 0 20\n",
      "1 1 30\n",
      "<class 'int'>\n",
      "2 0 30\n",
      "2 1 40\n"
     ]
    }
   ],
   "source": [
    "for idx, val in enumerate(a):\n",
    "    print(type(idx))\n",
    "    for idx2, val2 in enumerate(val):\n",
    "        print(idx, idx2, val2)"
   ]
  },
  {
   "cell_type": "code",
   "execution_count": 139,
   "metadata": {},
   "outputs": [
    {
     "name": "stdout",
     "output_type": "stream",
     "text": [
      "10 20\n",
      "20 30\n",
      "30 40\n"
     ]
    }
   ],
   "source": [
    "i=0\n",
    "while i<len(a):\n",
    "    x,y = a[i]\n",
    "    print(x,y)\n",
    "    i+=1"
   ]
  },
  {
   "cell_type": "code",
   "execution_count": 146,
   "metadata": {},
   "outputs": [
    {
     "name": "stdout",
     "output_type": "stream",
     "text": [
      "<class 'int'>\n"
     ]
    }
   ],
   "source": [
    "b=[(0,2),(1,3),(2,4)]\n",
    "x,y=b[0]\n",
    "print(type(x))"
   ]
  },
  {
   "cell_type": "code",
   "execution_count": 158,
   "metadata": {},
   "outputs": [
    {
     "name": "stdout",
     "output_type": "stream",
     "text": [
      "a 리스트 [0] 입력 (숫자 숫자) : 1,2\n",
      "a 리스트 [1] 입력 (숫자 숫자) : 3,4\n",
      "a 리스트 [2] 입력 (숫자 숫자) : 5,6\n",
      "b 리스트 [0] 입력 (숫자 숫자) : 1,2\n",
      "b 리스트 [1] 입력 (숫자 숫자) : 3,4\n",
      "b 리스트 [2] 입력 (숫자 숫자) : 5,6\n"
     ]
    },
    {
     "ename": "ValueError",
     "evalue": "not enough values to unpack (expected 2, got 1)",
     "output_type": "error",
     "traceback": [
      "\u001b[1;31m---------------------------------------------------------------------------\u001b[0m",
      "\u001b[1;31mValueError\u001b[0m                                Traceback (most recent call last)",
      "\u001b[1;32m<ipython-input-158-1dc75d3652bc>\u001b[0m in \u001b[0;36m<module>\u001b[1;34m()\u001b[0m\n\u001b[0;32m     14\u001b[0m \u001b[1;31m#a,b 리스트 결합\u001b[0m\u001b[1;33m\u001b[0m\u001b[1;33m\u001b[0m\u001b[0m\n\u001b[0;32m     15\u001b[0m \u001b[1;32mfor\u001b[0m \u001b[0mi\u001b[0m \u001b[1;32min\u001b[0m \u001b[0mrange\u001b[0m\u001b[1;33m(\u001b[0m\u001b[1;36m3\u001b[0m\u001b[1;33m)\u001b[0m\u001b[1;33m:\u001b[0m\u001b[1;33m\u001b[0m\u001b[0m\n\u001b[1;32m---> 16\u001b[1;33m     \u001b[0mx1\u001b[0m\u001b[1;33m,\u001b[0m\u001b[0my1\u001b[0m \u001b[1;33m=\u001b[0m \u001b[0ma\u001b[0m\u001b[1;33m[\u001b[0m\u001b[0mi\u001b[0m\u001b[1;33m]\u001b[0m\u001b[1;33m\u001b[0m\u001b[0m\n\u001b[0m\u001b[0;32m     17\u001b[0m     \u001b[0mx2\u001b[0m\u001b[1;33m,\u001b[0m\u001b[0my2\u001b[0m \u001b[1;33m=\u001b[0m \u001b[0mb\u001b[0m\u001b[1;33m[\u001b[0m\u001b[0mi\u001b[0m\u001b[1;33m]\u001b[0m\u001b[1;33m\u001b[0m\u001b[0m\n\u001b[0;32m     18\u001b[0m     \u001b[0mc\u001b[0m\u001b[1;33m.\u001b[0m\u001b[0mappend\u001b[0m\u001b[1;33m(\u001b[0m\u001b[1;33m[\u001b[0m\u001b[0mint\u001b[0m\u001b[1;33m(\u001b[0m\u001b[0mx1\u001b[0m\u001b[1;33m)\u001b[0m\u001b[1;33m*\u001b[0m\u001b[0mint\u001b[0m\u001b[1;33m(\u001b[0m\u001b[0mx2\u001b[0m\u001b[1;33m)\u001b[0m\u001b[1;33m,\u001b[0m \u001b[0mint\u001b[0m\u001b[1;33m(\u001b[0m\u001b[0my1\u001b[0m\u001b[1;33m)\u001b[0m\u001b[1;33m*\u001b[0m\u001b[0mint\u001b[0m\u001b[1;33m(\u001b[0m\u001b[0my2\u001b[0m\u001b[1;33m)\u001b[0m\u001b[1;33m]\u001b[0m\u001b[1;33m)\u001b[0m\u001b[1;33m\u001b[0m\u001b[0m\n",
      "\u001b[1;31mValueError\u001b[0m: not enough values to unpack (expected 2, got 1)"
     ]
    }
   ],
   "source": [
    "#변수 생성\n",
    "a=list()\n",
    "b=list()\n",
    "c=list()\n",
    "\n",
    "#a 리스트 생성\n",
    "for i in range(3):\n",
    "    a.append(input(f\"a 리스트 [{i}] 입력 (숫자 숫자) : \").split())\n",
    "\n",
    "#b 리스트 생성\n",
    "for i in range(3):\n",
    "    b.append(input(f\"b 리스트 [{i}] 입력 (숫자 숫자) : \").split())\n",
    "\n",
    "#a,b 리스트 결합\n",
    "for i in range(3):\n",
    "    x1,y1 = a[i]\n",
    "    x2,y2 = b[i]\n",
    "    c.append([int(x1)*int(x2), int(y1)*int(y2)])\n",
    "    \n",
    "\n",
    "print(c)"
   ]
  },
  {
   "cell_type": "code",
   "execution_count": 157,
   "metadata": {},
   "outputs": [
    {
     "name": "stdout",
     "output_type": "stream",
     "text": [
      "[[0, 0], [0, 0], [0, 0]]\n"
     ]
    }
   ],
   "source": [
    "a=[]\n",
    "for i in range(3):\n",
    "    line = []\n",
    "    for j in range(2):\n",
    "        line.append(0)\n",
    "    a.append(line)\n",
    "print(a)"
   ]
  },
  {
   "cell_type": "code",
   "execution_count": 161,
   "metadata": {},
   "outputs": [
    {
     "name": "stdout",
     "output_type": "stream",
     "text": [
      "[[1, 2], [3, 4], [5, 6]]\n"
     ]
    }
   ],
   "source": [
    "a=[]\n",
    "n=1\n",
    "for i in range(3):\n",
    "    line = []\n",
    "    for j in range(2):\n",
    "        line.append(n)\n",
    "        n+=1\n",
    "    a.append(line)\n",
    "\n",
    "print(a)"
   ]
  },
  {
   "cell_type": "code",
   "execution_count": 162,
   "metadata": {},
   "outputs": [
    {
     "name": "stdout",
     "output_type": "stream",
     "text": [
      "0 1 2 "
     ]
    }
   ],
   "source": [
    "for i in range(5):\n",
    "    if(i==3):\n",
    "        break\n",
    "    print(i, end=\" \")\n"
   ]
  },
  {
   "cell_type": "code",
   "execution_count": 163,
   "metadata": {},
   "outputs": [
    {
     "name": "stdout",
     "output_type": "stream",
     "text": [
      "0 1 2 4 "
     ]
    }
   ],
   "source": [
    "for i in range(5):\n",
    "    if(i==3):\n",
    "        continue\n",
    "    print(i, end=\" \")"
   ]
  },
  {
   "cell_type": "code",
   "execution_count": 164,
   "metadata": {},
   "outputs": [
    {
     "name": "stdout",
     "output_type": "stream",
     "text": [
      "0 1 2 3 4 5 6 7 8 9 10 11 12 13 14 15 16 17 18 19 "
     ]
    }
   ],
   "source": [
    "i=0\n",
    "while i < 30:\n",
    "    if i==20:\n",
    "        break\n",
    "    print(i, end=\" \")\n",
    "    i+=1"
   ]
  },
  {
   "cell_type": "code",
   "execution_count": 165,
   "metadata": {},
   "outputs": [
    {
     "name": "stdout",
     "output_type": "stream",
     "text": [
      "1 3 5 7 9 11 13 15 17 19 21 23 25 27 29 "
     ]
    }
   ],
   "source": [
    "i=0\n",
    "while i < 30:\n",
    "    i+=1\n",
    "    if i % 2 == 0:\n",
    "        continue\n",
    "    print(i, end=\" \")\n",
    "    "
   ]
  },
  {
   "cell_type": "code",
   "execution_count": 166,
   "metadata": {},
   "outputs": [
    {
     "name": "stdout",
     "output_type": "stream",
     "text": [
      "숫자를 입력하세요. : 10\n",
      "0 2 4 6 8 "
     ]
    }
   ],
   "source": [
    "num=int(input(\"숫자를 입력하세요. : \"))\n",
    "\n",
    "for i in range(num):\n",
    "    if i % 2 == 1:\n",
    "        continue\n",
    "    print(i, end=\" \")"
   ]
  },
  {
   "cell_type": "code",
   "execution_count": 171,
   "metadata": {},
   "outputs": [
    {
     "data": {
      "text/plain": [
       "[0, 1, 2, 3, 4, 5, 6, 7, 8]"
      ]
     },
     "execution_count": 171,
     "metadata": {},
     "output_type": "execute_result"
    }
   ],
   "source": [
    "a=list(range(0,9))\n",
    "a"
   ]
  },
  {
   "cell_type": "code",
   "execution_count": 172,
   "metadata": {},
   "outputs": [
    {
     "name": "stdout",
     "output_type": "stream",
     "text": [
      "출력할 문자를 입력하세요.\n",
      "hello-world-내이름\n"
     ]
    }
   ],
   "source": [
    "print(\"출력할 문자를 입력하세요.\")\n",
    "print(\"hello\",\"world\", \"%s\"%\"내이름\",sep=\"-\")"
   ]
  },
  {
   "cell_type": "code",
   "execution_count": 173,
   "metadata": {},
   "outputs": [],
   "source": [
    "file = open(\"file2.txt\",\"w\")\n",
    "file.write(\"First File \\n\")\n",
    "file.write(\"Second Line\")\n",
    "file.close()"
   ]
  },
  {
   "cell_type": "code",
   "execution_count": 174,
   "metadata": {},
   "outputs": [],
   "source": [
    "file = open(\"file.txt\",\"w\")\n",
    "file.write(\"First File \\n\")\n",
    "file.write(\"Second Line\")\n",
    "file.close()"
   ]
  },
  {
   "cell_type": "code",
   "execution_count": 175,
   "metadata": {},
   "outputs": [
    {
     "name": "stdout",
     "output_type": "stream",
     "text": [
      "First File \n",
      "Second Line\n"
     ]
    }
   ],
   "source": [
    "file=open(\"file.txt\",\"r\")\n",
    "text = file.read()\n",
    "print(text)\n",
    "file.close()"
   ]
  },
  {
   "cell_type": "code",
   "execution_count": 176,
   "metadata": {},
   "outputs": [
    {
     "name": "stdout",
     "output_type": "stream",
     "text": [
      "First File \n",
      "Second Line\n"
     ]
    }
   ],
   "source": [
    "with open(\"file.txt\",\"r\") as file:\n",
    "    text = file.read()\n",
    "    print(text)"
   ]
  },
  {
   "cell_type": "code",
   "execution_count": 184,
   "metadata": {},
   "outputs": [
    {
     "name": "stdout",
     "output_type": "stream",
     "text": [
      "First File \n",
      "\n",
      "Second Line\n"
     ]
    }
   ],
   "source": [
    "with open(\"file.txt\",\"r\") as file:\n",
    "    line=file.readline()\n",
    "    while line:\n",
    "        print(line)\n",
    "        line=file.readline()\n",
    "        "
   ]
  },
  {
   "cell_type": "code",
   "execution_count": 185,
   "metadata": {},
   "outputs": [
    {
     "name": "stdout",
     "output_type": "stream",
     "text": [
      "['First File \\n', 'Second Line']\n"
     ]
    }
   ],
   "source": [
    "with open(\"file.txt\",\"r\") as file:\n",
    "\n",
    "    lines=file.readlines()\n",
    "    print(lines)"
   ]
  },
  {
   "cell_type": "code",
   "execution_count": 186,
   "metadata": {},
   "outputs": [],
   "source": [
    "with open(\"file.txt\",\"r\") as file:\n",
    "    \n",
    "    text=file.readlines()\n",
    "    \n",
    "    with open(\"file3.txt\",\"w\") as file:\n",
    "        file.writelines(text)\n",
    "    "
   ]
  },
  {
   "cell_type": "code",
   "execution_count": 188,
   "metadata": {},
   "outputs": [
    {
     "name": "stdout",
     "output_type": "stream",
     "text": [
      "['school', 'science', 'mountian']\n"
     ]
    }
   ],
   "source": [
    "word=[\"school\",\"game\",\"piano\",\"science\",\"hotel\",\"mountian\"]\n",
    "new_word=[]\n",
    "\n",
    "for i in word:\n",
    "    if(len(i)>=6):\n",
    "        new_word.append(i)\n",
    "\n",
    "print(new_word)"
   ]
  },
  {
   "cell_type": "code",
   "execution_count": 38,
   "metadata": {},
   "outputs": [
    {
     "name": "stdout",
     "output_type": "stream",
     "text": [
      "정수를 입력하세요 : 8\n",
      "1 * 1 = 1\t2 * 1 = 2\t3 * 1 = 3\t4 * 1 = 4\t5 * 1 = 5\t6 * 1 = 6\t7 * 1 = 7\t8 * 1 = 8\t\n",
      "1 * 2 = 2\t2 * 2 = 4\t3 * 2 = 6\t4 * 2 = 8\t5 * 2 = 10\t6 * 2 = 12\t7 * 2 = 14\t8 * 2 = 16\t\n",
      "1 * 3 = 3\t2 * 3 = 6\t3 * 3 = 9\t4 * 3 = 12\t5 * 3 = 15\t6 * 3 = 18\t7 * 3 = 21\t8 * 3 = 24\t\n",
      "1 * 4 = 4\t2 * 4 = 8\t3 * 4 = 12\t4 * 4 = 16\t5 * 4 = 20\t6 * 4 = 24\t7 * 4 = 28\t8 * 4 = 32\t\n",
      "1 * 5 = 5\t2 * 5 = 10\t3 * 5 = 15\t4 * 5 = 20\t5 * 5 = 25\t6 * 5 = 30\t7 * 5 = 35\t8 * 5 = 40\t\n",
      "1 * 6 = 6\t2 * 6 = 12\t3 * 6 = 18\t4 * 6 = 24\t5 * 6 = 30\t6 * 6 = 36\t7 * 6 = 42\t8 * 6 = 48\t\n",
      "1 * 7 = 7\t2 * 7 = 14\t3 * 7 = 21\t4 * 7 = 28\t5 * 7 = 35\t6 * 7 = 42\t7 * 7 = 49\t8 * 7 = 56\t\n",
      "1 * 8 = 8\t2 * 8 = 16\t3 * 8 = 24\t4 * 8 = 32\t5 * 8 = 40\t6 * 8 = 48\t7 * 8 = 56\t8 * 8 = 64\t\n",
      "1 * 9 = 9\t2 * 9 = 18\t3 * 9 = 27\t4 * 9 = 36\t5 * 9 = 45\t6 * 9 = 54\t7 * 9 = 63\t8 * 9 = 72\t\n",
      "--------------------------------------------------------------------------------------------------------------------------------\n",
      "9 * 1 = 9\t\n",
      "9 * 2 = 18\t\n",
      "9 * 3 = 27\t\n",
      "9 * 4 = 36\t\n",
      "9 * 5 = 45\t\n",
      "9 * 6 = 54\t\n",
      "9 * 7 = 63\t\n",
      "9 * 8 = 72\t\n",
      "9 * 9 = 81\t\n",
      "----------------\n"
     ]
    }
   ],
   "source": [
    "#변수 선언\n",
    "i=0\n",
    "first_i=1\n",
    "last_i=0\n",
    "\n",
    "#숫자 입력\n",
    "num=int(input(\"정수를 입력하세요 : \"))\n",
    "\n",
    "#행 수 최대치 보정\n",
    "if num >=10 :\n",
    "    num = 9\n",
    "\n",
    "while i<9: #전체 행 만들기\n",
    "    \n",
    "    #행 수 보정\n",
    "    if i+num > 9 :\n",
    "        num=9-i\n",
    "    \n",
    "    #반복 횟수 갱신\n",
    "    i+=num\n",
    " \n",
    "    #숫자 리스트 중 마지막 숫자 갱신 및 보정\n",
    "    last_i=i\n",
    "    if last_i>9 :\n",
    "        last_i=9\n",
    "        \n",
    "    count=list(range(first_i,last_i+1)) #구구단 행 숫자 리스트 만들기\n",
    "\n",
    "        \n",
    "    #구구단 프린트\n",
    "    for k in range(1,10):\n",
    "        for l in range(num):\n",
    "            print(f\"%d * %d = %d\"%(count[l], k, count[l]*k),end=\"\\t\")\n",
    "            pass\n",
    "        print()\n",
    "        pass\n",
    "    print(\"----------------\"*num)\n",
    "    \n",
    "    #구구단 행 숫자 리스트 초기화\n",
    "    count.clear()\n",
    "    \n",
    "    #숫자 리스트 중 첫 숫자 갱신 및 보정\n",
    "    first_i +=num\n",
    "    if(first_i>9):\n",
    "        first_i=9\n",
    "        \n",
    "    pass\n",
    "\n",
    "  "
   ]
  },
  {
   "cell_type": "code",
   "execution_count": 45,
   "metadata": {},
   "outputs": [
    {
     "name": "stdout",
     "output_type": "stream",
     "text": [
      "숫자를 입력 하세요 : 20\n",
      "1\n",
      "2\n",
      "3 3의 배수\n",
      "4\n",
      "5 5의 배수\n",
      "6 3의 배수\n",
      "7\n",
      "8\n",
      "9 3의 배수\n",
      "10 5의 배수\n",
      "11\n",
      "12 3의 배수\n",
      "13\n",
      "14\n",
      "15 3과 5의 공배수\n",
      "16\n",
      "17\n",
      "18 3의 배수\n",
      "19\n",
      "20 5의 배수\n"
     ]
    }
   ],
   "source": [
    "num=int(input(\"숫자를 입력 하세요 : \"))\n",
    "\n",
    "for i in range(1,num+1):\n",
    "    if i % 3 == 0 and i %  5== 0:\n",
    "        print(i, '3과 5의 공배수')\n",
    "    elif i % 3 == 0:\n",
    "        print(i, '3의 배수')\n",
    "    elif i % 5 == 0:\n",
    "        print(i, '5의 배수')\n",
    "    else:\n",
    "        print(i)"
   ]
  },
  {
   "cell_type": "code",
   "execution_count": 2,
   "metadata": {},
   "outputs": [],
   "source": [
    "text= [\"First File\\n\", \"Second Line\"]\n",
    "\n",
    "with open(\"file.txt\",\"w\") as f:\n",
    "    f.writelines(text)"
   ]
  },
  {
   "cell_type": "code",
   "execution_count": 3,
   "metadata": {},
   "outputs": [
    {
     "name": "stdout",
     "output_type": "stream",
     "text": [
      "First File\n",
      "Second Line\n"
     ]
    }
   ],
   "source": [
    "!type file.txt"
   ]
  },
  {
   "cell_type": "code",
   "execution_count": 5,
   "metadata": {},
   "outputs": [
    {
     "name": "stdout",
     "output_type": "stream",
     "text": [
      "['First File\\n', 'Second Line']\n"
     ]
    }
   ],
   "source": [
    "with open(\"file.txt\",\"r\") as f:\n",
    "    lines=f.readlines()\n",
    "    print(lines)"
   ]
  },
  {
   "cell_type": "code",
   "execution_count": 12,
   "metadata": {},
   "outputs": [
    {
     "name": "stdout",
     "output_type": "stream",
     "text": [
      "information\n",
      "fantastic\n",
      "activity\n",
      "homeroom\n",
      "importance\n",
      "gossip\n",
      "dictionary\n",
      "artist\n",
      "grade\n",
      "useful\n",
      "allow\n",
      "website\n",
      "communicate"
     ]
    }
   ],
   "source": [
    "with open(\"vocaline.txt\", \"r\") as f:\n",
    "    line = f.readlines()\n",
    "    for voca in line:\n",
    "        if len(voca)>5:\n",
    "            print(voca, end=\"\")"
   ]
  },
  {
   "cell_type": "code",
   "execution_count": 26,
   "metadata": {},
   "outputs": [
    {
     "name": "stdout",
     "output_type": "stream",
     "text": [
      "이름을 입력하세요 : 이동재\n",
      "이미 존재하는 유저 입니다. 게임을 시작합니다.\n",
      "현재까지 결과는 (전체 : 6, 승리:3, 비김:1, 패배:2) 입니다.\n",
      "가위(1) 바위(2) 보(3) 입력 : 1\n",
      "유저 : 가위, 컴퓨터 : 보 \n",
      "가위(1) 바위(2) 보(3) 입력 : 2\n",
      "유저 : 바위, 컴퓨터 : 보 \n",
      "가위(1) 바위(2) 보(3) 입력 : 3\n",
      "유저 : 보, 컴퓨터 : 보 \n",
      "가위(1) 바위(2) 보(3) 입력 : 4\n",
      "게임 종료 (전체 : 9, 승리:4, 비김:2, 패배:3)\n"
     ]
    }
   ],
   "source": [
    "#유저 DB 생성\n",
    "\n",
    "user_name=input(\"이름을 입력하세요 : \")\n",
    "\n",
    "invest_name = 0 #변수 초기화\n",
    "user_nameDB=\"\"\n",
    "user_name_list=list()\n",
    "\n",
    "with open(\"rsp/user/userDB.txt\", \"r\") as f: #DB 중복 검증\n",
    "        user_nameDB=f.readline()\n",
    "        user_name_list=user_nameDB.split(',')\n",
    "        for name in user_name_list:\n",
    "            if name == user_name:\n",
    "                invest_name = 1\n",
    "            \n",
    "        \n",
    "    \n",
    "if invest_name == 1:\n",
    "    print(\"이미 존재하는 유저 입니다. 게임을 시작합니다.\")\n",
    "        \n",
    "else:\n",
    "    with open(\"rsp/user/userDB.txt\", \"w\") as f: #DB 추가\n",
    "        user_nameDB+=\",\"+user_name\n",
    "        f.write(user_nameDB)\n",
    "            \n",
    "    \n",
    "    with open(f\"rsp/user/{user_name}.txt\",\"w\") as f: #유저 전용 txt 생성\n",
    "        for i in range(3):\n",
    "            f.write('0\\n')\n",
    "            \n",
    "    print(\"계정을 생성하였습니다. 게임을 시작합니다.\")\n",
    "#DB 생성 종료\n",
    "\n",
    "#게임 시작\n",
    "\n",
    "import random\n",
    "\n",
    "count=list() #변수 초기화\n",
    "num=1\n",
    "word=[\"가위\",\"바위\",\"보\"]\n",
    "\n",
    "with open(f\"rsp/user/{user_name}.txt\",\"r\") as f:\n",
    "    for i in f:\n",
    "        count.append(int(i))\n",
    "        \n",
    "print(f\"현재까지 결과는 (전체 : {count[0]+count[1]+count[2]}, 승리:{count[0]}, 비김:{count[1]}, 패배:{count[2]}) 입니다.\")\n",
    "\n",
    "\n",
    "while num !=4:\n",
    "    com_num = random.randint(1,3)\n",
    "    num=int(input(\"가위(1) 바위(2) 보(3) 입력 : \"))\n",
    "    \n",
    "    if num !=4:\n",
    "        print(f\"유저 : {word[num-1]}, 컴퓨터 : {word[com_num-1]} \")\n",
    "        \n",
    "    #유저가 가위\n",
    "    if(num==1):\n",
    "        if(com_num == 1):\n",
    "            count[1] +=1\n",
    "        elif(com_num == 2):\n",
    "            count[2] +=1\n",
    "        elif(com_num == 3):\n",
    "            count[0] +=1\n",
    "    #유저가 바위\n",
    "    elif(num==2):\n",
    "        if(com_num == 1):\n",
    "            count[0] +=1\n",
    "        elif(com_num == 2):\n",
    "            count[1] +=1\n",
    "        elif(com_num == 3):\n",
    "            count[2] +=1\n",
    "    #유저가 보\n",
    "    elif(num==3):\n",
    "        if(com_num == 1):\n",
    "            count[2] +=1\n",
    "        elif(com_num == 2):\n",
    "            count[0] +=1\n",
    "        elif(com_num == 3):\n",
    "            count[1] +=1\n",
    "    \n",
    "print(f\"게임 종료 (전체 : {count[0]+count[1]+count[2]}, 승리:{count[0]}, 비김:{count[1]}, 패배:{count[2]})\")\n",
    "\n",
    "with open(f\"rsp/user/{user_name}.txt\",\"w\") as f:\n",
    "    for i in count:\n",
    "        f.write(str(i)+\"\\n\")\n",
    "    "
   ]
  },
  {
   "cell_type": "markdown",
   "metadata": {},
   "source": [
    "# 연습문제 5"
   ]
  },
  {
   "cell_type": "code",
   "execution_count": 9,
   "metadata": {
    "scrolled": true
   },
   "outputs": [
    {
     "name": "stdout",
     "output_type": "stream",
     "text": [
      "값을 입력해 주세요 : 20\n",
      "값을 입력해 주세요 : 30\n",
      "값을 입력해 주세요 : 50\n",
      "값을 입력해 주세요 : 20\n",
      "값을 입력해 주세요 : 10\n",
      "값을 입력해 주세요 : 20\n",
      "값을 입력해 주세요 : 30\n",
      "값을 입력해 주세요 : 0\n",
      "값을 입력해 주세요 : 40\n",
      "값을 입력해 주세요 : 20\n",
      "값을 입력해 주세요 : 30\n",
      "값을 입력해 주세요 : 10\n",
      "값을 입력해 주세요 : 20\n",
      "값을 입력해 주세요 : s\n",
      "합계는 ? 300\n"
     ]
    }
   ],
   "source": [
    "sum=0\n",
    "\n",
    "while True:\n",
    "    num=input(\"값을 입력해 주세요 : \")\n",
    "    if num == 's' or num == 'S' :\n",
    "        break\n",
    "    sum+=int(num)\n",
    "\n",
    "print(f\"합계는 ? {sum}\")"
   ]
  },
  {
   "cell_type": "markdown",
   "metadata": {},
   "source": [
    "# 연습문제 5 끝"
   ]
  },
  {
   "cell_type": "markdown",
   "metadata": {},
   "source": [
    "# 연습문제 6"
   ]
  },
  {
   "cell_type": "code",
   "execution_count": 2,
   "metadata": {},
   "outputs": [
    {
     "name": "stdout",
     "output_type": "stream",
     "text": [
      "가위(1) 바위(2) 보(3) 입력 : 1\n",
      "유저 : 가위, 컴퓨터 : 보 \n",
      "가위(1) 바위(2) 보(3) 입력 : 2\n",
      "유저 : 바위, 컴퓨터 : 보 \n",
      "가위(1) 바위(2) 보(3) 입력 : 3\n",
      "유저 : 보, 컴퓨터 : 보 \n",
      "가위(1) 바위(2) 보(3) 입력 : 1\n",
      "유저 : 가위, 컴퓨터 : 가위 \n",
      "가위(1) 바위(2) 보(3) 입력 : 2\n",
      "유저 : 바위, 컴퓨터 : 바위 \n",
      "가위(1) 바위(2) 보(3) 입력 : 3\n",
      "유저 : 보, 컴퓨터 : 가위 \n",
      "가위(1) 바위(2) 보(3) 입력 : 4\n",
      "게임 종료 (전체:6, 승리:1, 비김:3, 패배:2)\n"
     ]
    }
   ],
   "source": [
    "import random\n",
    "\n",
    "num=1\n",
    "win_count = 0\n",
    "lose_count= 0\n",
    "draw_count = 0\n",
    "word=[\"가위\",\"바위\",\"보\"]\n",
    "\n",
    "while num !=4:\n",
    "    com_num = random.randint(1,3)\n",
    "    num=int(input(\"가위(1) 바위(2) 보(3) 입력 : \"))\n",
    "    \n",
    "    if num !=4:\n",
    "        print(f\"유저 : {word[num-1]}, 컴퓨터 : {word[com_num-1]} \")\n",
    "        \n",
    "    #유저가 가위\n",
    "    if(num==1):\n",
    "        if(com_num == 1):\n",
    "            draw_count +=1\n",
    "        elif(com_num == 2):\n",
    "            lose_count +=1\n",
    "        elif(com_num == 3):\n",
    "            win_count +=1\n",
    "    #유저가 바위\n",
    "    elif(num==2):\n",
    "        if(com_num == 1):\n",
    "            win_count +=1\n",
    "        elif(com_num == 2):\n",
    "            draw_count +=1\n",
    "        elif(com_num == 3):\n",
    "            lose_count +=1\n",
    "    #유저가 보\n",
    "    elif(num==3):\n",
    "        if(com_num == 1):\n",
    "            lose_count +=1\n",
    "        elif(com_num == 2):\n",
    "            win_count +=1\n",
    "        elif(com_num == 3):\n",
    "            draw_count +=1\n",
    "    \n",
    "print(f\"게임 종료 (전체:{win_count+lose_count+draw_count}, 승리:{win_count}, 비김:{draw_count}, 패배:{lose_count})\")"
   ]
  },
  {
   "cell_type": "markdown",
   "metadata": {},
   "source": [
    "# 연습문제 6 끝"
   ]
  },
  {
   "cell_type": "code",
   "execution_count": 3,
   "metadata": {},
   "outputs": [
    {
     "name": "stdout",
     "output_type": "stream",
     "text": [
      "1\n",
      "2\n",
      "3\n"
     ]
    }
   ],
   "source": [
    "i=1\n",
    "\n",
    "while i in [1,2,3]:\n",
    "    print (i)\n",
    "    i+=1\n"
   ]
  },
  {
   "cell_type": "markdown",
   "metadata": {},
   "source": [
    "# 연습문제 7"
   ]
  },
  {
   "cell_type": "code",
   "execution_count": 18,
   "metadata": {},
   "outputs": [
    {
     "name": "stdout",
     "output_type": "stream",
     "text": [
      "988 49604\n"
     ]
    }
   ],
   "source": [
    "import random\n",
    "\n",
    "rand_list=list()\n",
    "sum = 0\n",
    "\n",
    "for i in range(100):\n",
    "    rand_list.append(random.randint(1,1000))\n",
    "    sum+=rand_list[i]\n",
    "\n",
    "rand_list.sort(reverse=True)\n",
    "print(rand_list[0], sum)"
   ]
  },
  {
   "cell_type": "markdown",
   "metadata": {},
   "source": [
    "# 연습문제 7 끝"
   ]
  },
  {
   "cell_type": "code",
   "execution_count": 14,
   "metadata": {},
   "outputs": [],
   "source": [
    "with open(\"test.txt\",\"w\") as f:\n",
    "    for i in range(3):\n",
    "        f.write('0\\n')"
   ]
  },
  {
   "cell_type": "code",
   "execution_count": 15,
   "metadata": {},
   "outputs": [
    {
     "name": "stdout",
     "output_type": "stream",
     "text": [
      "0\n",
      "0\n",
      "0\n"
     ]
    }
   ],
   "source": [
    "!type test.txt"
   ]
  },
  {
   "cell_type": "markdown",
   "metadata": {},
   "source": [
    "# 연습문제 8"
   ]
  },
  {
   "cell_type": "code",
   "execution_count": 27,
   "metadata": {},
   "outputs": [
    {
     "name": "stdout",
     "output_type": "stream",
     "text": [
      "['school', 'science', 'mountian']\n"
     ]
    }
   ],
   "source": [
    "word=[\"school\", \"game\", \"piano\", \"science\",\"hotel\",\"mountian\"]\n",
    "new_word=[i for i in word if len(i)>=6]\n",
    "print(new_word)"
   ]
  },
  {
   "cell_type": "code",
   "execution_count": 28,
   "metadata": {},
   "outputs": [
    {
     "name": "stdout",
     "output_type": "stream",
     "text": [
      "[6, 4, 5, 7, 5, 8]\n"
     ]
    }
   ],
   "source": [
    "word=[\"school\", \"game\", \"piano\", \"science\",\"hotel\",\"mountian\"]\n",
    "word_count=[len(i) for i in word]\n",
    "print(word_count)"
   ]
  },
  {
   "cell_type": "markdown",
   "metadata": {},
   "source": [
    "# 연습문제 8 끝"
   ]
  },
  {
   "cell_type": "markdown",
   "metadata": {},
   "source": [
    "# 연습문제 9"
   ]
  },
  {
   "cell_type": "code",
   "execution_count": 39,
   "metadata": {},
   "outputs": [
    {
     "name": "stdout",
     "output_type": "stream",
     "text": [
      "a 리스트 0번째 (숫자 숫자) : 10 20\n",
      "a 리스트 1번째 (숫자 숫자) : 30 40\n",
      "a 리스트 2번째 (숫자 숫자) : 50 60\n",
      "b 리스트 0번째 (숫자 숫자) : 1 2\n",
      "b 리스트 1번째 (숫자 숫자) : 3 4\n",
      "b 리스트 2번째 (숫자 숫자) : 5 6\n",
      "[[10, 40], [90, 160], [250, 360]]\n"
     ]
    }
   ],
   "source": [
    "a=list()\n",
    "b=list()\n",
    "c=list()\n",
    "\n",
    "for i in range(3):\n",
    "    a.append(input(f\"a 리스트 {i}번째 (숫자 숫자) : \").split())\n",
    "      \n",
    "for i in range(3):\n",
    "    b.append(input(f\"b 리스트 {i}번째 (숫자 숫자) : \").split())\n",
    "\n",
    "for i in range(3):\n",
    "    x1,y1=a[i]\n",
    "    x2,y2=b[i]\n",
    "    c.append([int(x1)*int(x2),int(y1)*int(y2)])\n",
    "\n",
    "print(c)"
   ]
  },
  {
   "cell_type": "markdown",
   "metadata": {},
   "source": [
    "# 연습문제 10"
   ]
  },
  {
   "cell_type": "code",
   "execution_count": 40,
   "metadata": {
    "scrolled": true
   },
   "outputs": [
    {
     "name": "stdout",
     "output_type": "stream",
     "text": [
      "[[1, 2], [3, 4], [5, 6]]\n"
     ]
    }
   ],
   "source": [
    "a=[]\n",
    "for i in range(3):\n",
    "    line = []\n",
    "    for j in range(2):\n",
    "        line.append((j+1)+(i*2))\n",
    "    a.append(line)\n",
    "print(a)"
   ]
  },
  {
   "cell_type": "markdown",
   "metadata": {},
   "source": [
    "# List Comprehension(중첩 리스트)"
   ]
  },
  {
   "cell_type": "code",
   "execution_count": 48,
   "metadata": {},
   "outputs": [
    {
     "name": "stdout",
     "output_type": "stream",
     "text": [
      "a 리스트 0번째 (숫자 숫자) : 20 20\n",
      "a 리스트 1번째 (숫자 숫자) : 30 30\n",
      "a 리스트 2번째 (숫자 숫자) : 40 40\n",
      "b 리스트 0번째 (숫자 숫자) : 1 2\n",
      "b 리스트 1번째 (숫자 숫자) : 2 3\n",
      "b 리스트 2번째 (숫자 숫자) : 3 4\n",
      "[[20, 40], [60, 90], [120, 160]]\n"
     ]
    }
   ],
   "source": [
    "a=list()\n",
    "b=list()\n",
    "c=list()\n",
    "\n",
    "for i in range(3):\n",
    "    a.append(input(f\"a 리스트 {i}번째 (숫자 숫자) : \").split())\n",
    "      \n",
    "for i in range(3):\n",
    "    b.append(input(f\"b 리스트 {i}번째 (숫자 숫자) : \").split())\n",
    "    \n",
    "c=[[int(a[i][j])*int(b[i][j]) for j in range(len(a[0]))] for i in range(len(a))]\n",
    "\n",
    "print(c)"
   ]
  },
  {
   "cell_type": "code",
   "execution_count": 49,
   "metadata": {},
   "outputs": [
    {
     "name": "stdout",
     "output_type": "stream",
     "text": [
      "함수입니다.\n",
      "3\n"
     ]
    }
   ],
   "source": [
    "def func(a,b):\n",
    "    print(\"함수입니다.\")\n",
    "    return a+b\n",
    "\n",
    "func_test=func(1,2)\n",
    "print(func_test)"
   ]
  },
  {
   "cell_type": "code",
   "execution_count": 50,
   "metadata": {},
   "outputs": [],
   "source": [
    "def func():\n",
    "    print(\"Hello, Function\")"
   ]
  },
  {
   "cell_type": "code",
   "execution_count": 51,
   "metadata": {},
   "outputs": [
    {
     "name": "stdout",
     "output_type": "stream",
     "text": [
      "Hello, Function\n"
     ]
    }
   ],
   "source": [
    "func()"
   ]
  },
  {
   "cell_type": "code",
   "execution_count": 52,
   "metadata": {},
   "outputs": [],
   "source": [
    "def func(name):\n",
    "    print(\"Hello, \"+ name)"
   ]
  },
  {
   "cell_type": "code",
   "execution_count": 53,
   "metadata": {},
   "outputs": [
    {
     "name": "stdout",
     "output_type": "stream",
     "text": [
      "Hello, world\n"
     ]
    }
   ],
   "source": [
    "func(\"world\")"
   ]
  },
  {
   "cell_type": "code",
   "execution_count": 55,
   "metadata": {},
   "outputs": [],
   "source": [
    "def func(a,b):\n",
    "    return a+b"
   ]
  },
  {
   "cell_type": "code",
   "execution_count": 56,
   "metadata": {},
   "outputs": [
    {
     "data": {
      "text/plain": [
       "5"
      ]
     },
     "execution_count": 56,
     "metadata": {},
     "output_type": "execute_result"
    }
   ],
   "source": [
    "func(2,3)"
   ]
  },
  {
   "cell_type": "code",
   "execution_count": 57,
   "metadata": {},
   "outputs": [],
   "source": [
    "def func(a,b):\n",
    "    return a+b, a-b"
   ]
  },
  {
   "cell_type": "code",
   "execution_count": 58,
   "metadata": {},
   "outputs": [
    {
     "data": {
      "text/plain": [
       "tuple"
      ]
     },
     "execution_count": 58,
     "metadata": {},
     "output_type": "execute_result"
    }
   ],
   "source": [
    "type(func(2,3))"
   ]
  },
  {
   "cell_type": "code",
   "execution_count": 59,
   "metadata": {},
   "outputs": [
    {
     "name": "stdout",
     "output_type": "stream",
     "text": [
      "1\n",
      "5\n"
     ]
    }
   ],
   "source": [
    "a=5\n",
    "\n",
    "def func1():\n",
    "    a=1\n",
    "    print(a)\n",
    "    \n",
    "func1()\n",
    "print(a)"
   ]
  },
  {
   "cell_type": "code",
   "execution_count": 60,
   "metadata": {},
   "outputs": [
    {
     "name": "stdout",
     "output_type": "stream",
     "text": [
      "5\n"
     ]
    }
   ],
   "source": [
    "def func2():\n",
    "    print(a)\n",
    "    \n",
    "func2()"
   ]
  },
  {
   "cell_type": "code",
   "execution_count": 61,
   "metadata": {},
   "outputs": [
    {
     "name": "stdout",
     "output_type": "stream",
     "text": [
      "1\n",
      "1\n"
     ]
    }
   ],
   "source": [
    "def func3():\n",
    "    global a\n",
    "    a=1\n",
    "    print(a)\n",
    "    \n",
    "func3()\n",
    "print(a)"
   ]
  },
  {
   "cell_type": "code",
   "execution_count": 75,
   "metadata": {},
   "outputs": [
    {
     "name": "stdout",
     "output_type": "stream",
     "text": [
      "숫자 1: 50\n",
      "숫자 2: 20\n",
      "70 30 1000 2.5\n"
     ]
    }
   ],
   "source": [
    "#사칙연산 함수\n",
    "def calc(num1,num2):\n",
    "    #사칙연산 계산, 출력\n",
    "    print(num1+num2,num1-num2,num1*num2,float(num1/num2))\n",
    "    \n",
    "#값 받기\n",
    "num1=int(input(\"숫자 1: \"))\n",
    "num2=int(input(\"숫자 2: \"))\n",
    "\n",
    "calc(num1, num2)"
   ]
  },
  {
   "cell_type": "markdown",
   "metadata": {},
   "source": [
    "# 연습문제 11"
   ]
  },
  {
   "cell_type": "code",
   "execution_count": 64,
   "metadata": {},
   "outputs": [
    {
     "name": "stdout",
     "output_type": "stream",
     "text": [
      "숫자 입력 : 10\n",
      "hi\n",
      "hi\n",
      "hi\n",
      "hi\n",
      "hi\n",
      "hi\n",
      "hi\n",
      "hi\n",
      "hi\n",
      "hi\n"
     ]
    }
   ],
   "source": [
    "num=int(input(\"숫자 입력 : \"))\n",
    "i=0\n",
    "while True:\n",
    "    if(num == i):\n",
    "        break\n",
    "    \n",
    "    print(\"hi\")\n",
    "    i+=1 "
   ]
  },
  {
   "cell_type": "code",
   "execution_count": 66,
   "metadata": {},
   "outputs": [
    {
     "name": "stdout",
     "output_type": "stream",
     "text": [
      "숫자 입력 : 50\n",
      "2\n",
      "4\n",
      "6\n",
      "8\n",
      "10\n",
      "12\n",
      "14\n",
      "16\n",
      "18\n",
      "20\n",
      "22\n",
      "24\n",
      "26\n",
      "28\n",
      "30\n",
      "32\n",
      "34\n",
      "36\n",
      "38\n",
      "40\n",
      "42\n",
      "44\n",
      "46\n",
      "48\n",
      "50\n"
     ]
    }
   ],
   "source": [
    "num=int(input(\"숫자 입력 : \"))\n",
    "\n",
    "for i in range(1,num+1):\n",
    "    if i%2==1:\n",
    "        continue\n",
    "    print(i)"
   ]
  },
  {
   "cell_type": "code",
   "execution_count": 72,
   "metadata": {},
   "outputs": [
    {
     "name": "stdout",
     "output_type": "stream",
     "text": [
      "[0, 4, 6]\n"
     ]
    }
   ],
   "source": [
    "def allindex(lis, num):\n",
    "    \n",
    "    count=0\n",
    "    \n",
    "    for i in lis:\n",
    "        if i==num:\n",
    "            return_list.append(count)\n",
    "            \n",
    "        count+=1;\n",
    "    \n",
    "    return return_list\n",
    "        \n",
    "lis=[1,2,3,4,1,2,1]\n",
    "return_list=list()\n",
    "\n",
    "print(allindex(lis,1))"
   ]
  },
  {
   "cell_type": "code",
   "execution_count": 76,
   "metadata": {},
   "outputs": [
    {
     "data": {
      "text/plain": [
       "9"
      ]
     },
     "execution_count": 76,
     "metadata": {},
     "output_type": "execute_result"
    }
   ],
   "source": [
    "(lambda x:x**2)(3)"
   ]
  },
  {
   "cell_type": "code",
   "execution_count": 78,
   "metadata": {},
   "outputs": [
    {
     "data": {
      "text/plain": [
       "27"
      ]
     },
     "execution_count": 78,
     "metadata": {},
     "output_type": "execute_result"
    }
   ],
   "source": [
    "temp_func=lambda x,y:x*y\n",
    "\n",
    "temp_func(3,9)"
   ]
  },
  {
   "cell_type": "code",
   "execution_count": 79,
   "metadata": {},
   "outputs": [
    {
     "name": "stdout",
     "output_type": "stream",
     "text": [
      "1 2 3\n"
     ]
    }
   ],
   "source": [
    "def func(a,b,c):\n",
    "    print(a,b,c)\n",
    "\n",
    "x=[1,2,3]\n",
    "func(*x)"
   ]
  },
  {
   "cell_type": "code",
   "execution_count": 80,
   "metadata": {},
   "outputs": [
    {
     "name": "stdout",
     "output_type": "stream",
     "text": [
      "1\n",
      "1\n",
      "2\n",
      "3\n",
      "4\n",
      "5\n"
     ]
    }
   ],
   "source": [
    "def func(*args):\n",
    "    for arg in args:\n",
    "        print(arg)\n",
    "        \n",
    "func(1)\n",
    "func(1,2,3,4,5)"
   ]
  },
  {
   "cell_type": "code",
   "execution_count": 81,
   "metadata": {},
   "outputs": [
    {
     "name": "stdout",
     "output_type": "stream",
     "text": [
      "100\n",
      "1234567"
     ]
    }
   ],
   "source": [
    "def func(a, *args):\n",
    "    print(a)\n",
    "    for arg in args:\n",
    "        print(arg, end=\"\")\n",
    "\n",
    "func(100,1,2,3,4,5,6,7)"
   ]
  },
  {
   "cell_type": "code",
   "execution_count": 82,
   "metadata": {},
   "outputs": [
    {
     "name": "stdout",
     "output_type": "stream",
     "text": [
      "이메일 :  aa@aa.com\n",
      "이름 :  tom\n",
      "이메일 :  aa@aa.com\n",
      "이름 :  tom\n"
     ]
    }
   ],
   "source": [
    "def func(email, name):\n",
    "    print(\"이메일 : \",email)\n",
    "    print(\"이름 : \",name)\n",
    "    \n",
    "func(email=\"aa@aa.com\", name=\"tom\")\n",
    "x={\"email\":\"aa@aa.com\",\"name\":\"tom\"}\n",
    "func(**x)"
   ]
  },
  {
   "cell_type": "code",
   "execution_count": 86,
   "metadata": {},
   "outputs": [],
   "source": [
    "with open(\"fff.txt\",\"w\") as f:\n",
    "    f.write(\"hello world\")"
   ]
  },
  {
   "cell_type": "code",
   "execution_count": 88,
   "metadata": {},
   "outputs": [
    {
     "name": "stdout",
     "output_type": "stream",
     "text": [
      "hello world\n",
      "\n"
     ]
    }
   ],
   "source": [
    "with open(\"fff.txt\",\"r+\") as f:\n",
    "    print(f.read())\n",
    "    f.write(\"hi\")\n",
    "    print(f.read())"
   ]
  },
  {
   "cell_type": "code",
   "execution_count": 98,
   "metadata": {},
   "outputs": [
    {
     "name": "stdout",
     "output_type": "stream",
     "text": [
      "이메일 :  aa.com\n",
      "이름 :  tom\n",
      "나이 :  20\n",
      "이메일 :  aa@com\n",
      "이름 :  tom\n",
      "나이 :  22\n"
     ]
    }
   ],
   "source": [
    "def func(email, name, age=20):\n",
    "    print(\"이메일 : \", email)\n",
    "    print(\"이름 : \", name)\n",
    "    print(\"나이 : \", age)\n",
    "    \n",
    "func(email=\"aa.com\", name=\"tom\")\n",
    "func(email=\"aa@com\", name=\"tom\", age=22)"
   ]
  },
  {
   "cell_type": "code",
   "execution_count": 103,
   "metadata": {},
   "outputs": [
    {
     "name": "stdout",
     "output_type": "stream",
     "text": [
      "1024\n"
     ]
    }
   ],
   "source": [
    "def calc(calc_sign, *args):\n",
    "    result=0\n",
    "    #더하기\n",
    "    if calc_sign == \"+\":\n",
    "        for arg in args:\n",
    "            result+=arg\n",
    "    #빼기\n",
    "    if calc_sign == \"-\":\n",
    "        for arg_idx, arg_val in enumerate(args):\n",
    "            if arg_idx==0: #첫번째 데이터 처리\n",
    "                result=arg_val\n",
    "                continue\n",
    "            result-=arg_val\n",
    "    #곱하기\n",
    "    if calc_sign == \"*\":\n",
    "        for arg_idx, arg_val in enumerate(args):\n",
    "            if arg_idx==0: #첫번째 데이터 처리\n",
    "                result=arg_val\n",
    "                continue\n",
    "            result*=arg_val\n",
    "    \n",
    "    return result\n",
    "\n",
    "print(calc(\"*\",2,2,2,2,2,2,2,2,2,2))"
   ]
  },
  {
   "cell_type": "markdown",
   "metadata": {},
   "source": [
    "# 객체와 클래스"
   ]
  },
  {
   "cell_type": "code",
   "execution_count": 7,
   "metadata": {},
   "outputs": [],
   "source": [
    "class Dog:\n",
    "    def __init__(self, name, color):\n",
    "        self.__hungry=0\n",
    "        self.name=name\n",
    "        self.color=color\n",
    "    \n",
    "    def eat(self):\n",
    "        self.__hungry -=10\n",
    "        print(\"밥먹음\", self.__hungry)\n",
    "    \n",
    "    def walk(self):\n",
    "        self.__hungry += 10\n",
    "        print(\"산책\", self.__hungry)"
   ]
  },
  {
   "cell_type": "code",
   "execution_count": 8,
   "metadata": {},
   "outputs": [],
   "source": [
    "choco = Dog(\"choco\",\"black\")\n",
    "jjong = Dog(\"jjong\",\"white\")"
   ]
  },
  {
   "cell_type": "code",
   "execution_count": 11,
   "metadata": {},
   "outputs": [
    {
     "name": "stdout",
     "output_type": "stream",
     "text": [
      "밥먹음 -30\n",
      "밥먹음 -40\n",
      "산책 -30\n"
     ]
    },
    {
     "ename": "AttributeError",
     "evalue": "'Dog' object has no attribute '__hungry'",
     "output_type": "error",
     "traceback": [
      "\u001b[1;31m---------------------------------------------------------------------------\u001b[0m",
      "\u001b[1;31mAttributeError\u001b[0m                            Traceback (most recent call last)",
      "\u001b[1;32m<ipython-input-11-9779f13f77e2>\u001b[0m in \u001b[0;36m<module>\u001b[1;34m()\u001b[0m\n\u001b[0;32m      2\u001b[0m \u001b[0mchoco\u001b[0m\u001b[1;33m.\u001b[0m\u001b[0meat\u001b[0m\u001b[1;33m(\u001b[0m\u001b[1;33m)\u001b[0m\u001b[1;33m\u001b[0m\u001b[0m\n\u001b[0;32m      3\u001b[0m \u001b[0mchoco\u001b[0m\u001b[1;33m.\u001b[0m\u001b[0mwalk\u001b[0m\u001b[1;33m(\u001b[0m\u001b[1;33m)\u001b[0m\u001b[1;33m\u001b[0m\u001b[0m\n\u001b[1;32m----> 4\u001b[1;33m \u001b[0mprint\u001b[0m\u001b[1;33m(\u001b[0m\u001b[0mchoco\u001b[0m\u001b[1;33m.\u001b[0m\u001b[0m__hungry\u001b[0m\u001b[1;33m)\u001b[0m\u001b[1;33m\u001b[0m\u001b[0m\n\u001b[0m\u001b[0;32m      5\u001b[0m \u001b[0mprint\u001b[0m\u001b[1;33m(\u001b[0m\u001b[0mjjong\u001b[0m\u001b[1;33m.\u001b[0m\u001b[0m__hungry\u001b[0m\u001b[1;33m)\u001b[0m\u001b[1;33m\u001b[0m\u001b[0m\n",
      "\u001b[1;31mAttributeError\u001b[0m: 'Dog' object has no attribute '__hungry'"
     ]
    }
   ],
   "source": [
    "choco.eat()\n",
    "choco.eat()\n",
    "choco.walk()\n"
   ]
  },
  {
   "cell_type": "code",
   "execution_count": 10,
   "metadata": {},
   "outputs": [],
   "source": [
    "class Car(object):\n",
    "    total_num = 0\n",
    "    \n",
    "    def __init__(self, model, engine_rank):\n",
    "        self.model = model\n",
    "        self.engine_rank = engine_rank\n",
    "        self.__speed = 0\n",
    "        self.maxSpeed = 1000\n",
    "        \n",
    "    def accelerate(self):\n",
    "        self.__speed+=10\n",
    "        return True\n",
    "    \n",
    "    def push_break(self):\n",
    "        self.__speed -=10\n",
    "        return True\n",
    "    "
   ]
  },
  {
   "cell_type": "code",
   "execution_count": 62,
   "metadata": {},
   "outputs": [],
   "source": [
    "class BMWCar(Car):\n",
    "    pass"
   ]
  },
  {
   "cell_type": "code",
   "execution_count": 63,
   "metadata": {},
   "outputs": [],
   "source": [
    "my_car = Car(\"Toyota\", 'A')"
   ]
  },
  {
   "cell_type": "code",
   "execution_count": 65,
   "metadata": {},
   "outputs": [
    {
     "ename": "AttributeError",
     "evalue": "'Car' object has no attribute '__speed'",
     "output_type": "error",
     "traceback": [
      "\u001b[1;31m---------------------------------------------------------------------------\u001b[0m",
      "\u001b[1;31mAttributeError\u001b[0m                            Traceback (most recent call last)",
      "\u001b[1;32m<ipython-input-65-be7c720d769e>\u001b[0m in \u001b[0;36m<module>\u001b[1;34m()\u001b[0m\n\u001b[1;32m----> 1\u001b[1;33m \u001b[0mmy_car\u001b[0m\u001b[1;33m.\u001b[0m\u001b[0m__speed\u001b[0m\u001b[1;33m\u001b[0m\u001b[0m\n\u001b[0m",
      "\u001b[1;31mAttributeError\u001b[0m: 'Car' object has no attribute '__speed'"
     ]
    }
   ],
   "source": [
    "my_car.__speed"
   ]
  },
  {
   "cell_type": "code",
   "execution_count": 50,
   "metadata": {},
   "outputs": [
    {
     "data": {
      "text/plain": [
       "True"
      ]
     },
     "execution_count": 50,
     "metadata": {},
     "output_type": "execute_result"
    }
   ],
   "source": [
    "my_car.accelerate()"
   ]
  },
  {
   "cell_type": "code",
   "execution_count": 51,
   "metadata": {},
   "outputs": [
    {
     "data": {
      "text/plain": [
       "'Toyota'"
      ]
     },
     "execution_count": 51,
     "metadata": {},
     "output_type": "execute_result"
    }
   ],
   "source": [
    "my_car.model"
   ]
  },
  {
   "cell_type": "code",
   "execution_count": 52,
   "metadata": {},
   "outputs": [
    {
     "data": {
      "text/plain": [
       "'A'"
      ]
     },
     "execution_count": 52,
     "metadata": {},
     "output_type": "execute_result"
    }
   ],
   "source": [
    "my_car.engine_rank"
   ]
  },
  {
   "cell_type": "code",
   "execution_count": 53,
   "metadata": {},
   "outputs": [
    {
     "data": {
      "text/plain": [
       "10"
      ]
     },
     "execution_count": 53,
     "metadata": {},
     "output_type": "execute_result"
    }
   ],
   "source": [
    "my_car.speed"
   ]
  },
  {
   "cell_type": "code",
   "execution_count": 54,
   "metadata": {},
   "outputs": [
    {
     "data": {
      "text/plain": [
       "__main__.BMWCar"
      ]
     },
     "execution_count": 54,
     "metadata": {},
     "output_type": "execute_result"
    }
   ],
   "source": [
    "new_car=BMWCar(\"BMW\",\"S\")\n",
    "type(new_car)"
   ]
  },
  {
   "cell_type": "code",
   "execution_count": 56,
   "metadata": {},
   "outputs": [
    {
     "data": {
      "text/plain": [
       "0"
      ]
     },
     "execution_count": 56,
     "metadata": {},
     "output_type": "execute_result"
    }
   ],
   "source": [
    "new_car.speed"
   ]
  },
  {
   "cell_type": "code",
   "execution_count": 57,
   "metadata": {},
   "outputs": [
    {
     "data": {
      "text/plain": [
       "True"
      ]
     },
     "execution_count": 57,
     "metadata": {},
     "output_type": "execute_result"
    }
   ],
   "source": [
    "new_car.accelerate()"
   ]
  },
  {
   "cell_type": "code",
   "execution_count": 58,
   "metadata": {},
   "outputs": [
    {
     "data": {
      "text/plain": [
       "10"
      ]
     },
     "execution_count": 58,
     "metadata": {},
     "output_type": "execute_result"
    }
   ],
   "source": [
    "new_car.speed"
   ]
  },
  {
   "cell_type": "code",
   "execution_count": 60,
   "metadata": {
    "scrolled": true
   },
   "outputs": [
    {
     "data": {
      "text/plain": [
       "2"
      ]
     },
     "execution_count": 60,
     "metadata": {},
     "output_type": "execute_result"
    }
   ],
   "source": [
    "1+1"
   ]
  },
  {
   "cell_type": "code",
   "execution_count": 68,
   "metadata": {},
   "outputs": [
    {
     "name": "stdout",
     "output_type": "stream",
     "text": [
      "Collecting jupyterthemes\n",
      "  Downloading https://files.pythonhosted.org/packages/8a/08/9dee6dfd7f2aad6c30282d55c8f495b4dc1e4747b4e2bdbeb80572ddf312/jupyterthemes-0.20.0-py2.py3-none-any.whl (7.0MB)\n",
      "Requirement already satisfied: ipython>=5.4.1 in c:\\users\\tjlee\\anaconda3\\lib\\site-packages (from jupyterthemes) (6.5.0)\n",
      "Requirement already satisfied: notebook>=5.6.0 in c:\\users\\tjlee\\anaconda3\\lib\\site-packages (from jupyterthemes) (5.6.0)\n",
      "Requirement already satisfied: jupyter-core in c:\\users\\tjlee\\anaconda3\\lib\\site-packages (from jupyterthemes) (4.4.0)\n",
      "Requirement already satisfied: matplotlib>=1.4.3 in c:\\users\\tjlee\\anaconda3\\lib\\site-packages (from jupyterthemes) (2.2.3)\n",
      "Collecting lesscpy>=0.11.2 (from jupyterthemes)\n",
      "  Downloading https://files.pythonhosted.org/packages/10/d0/fdd9874972e07ae8727a3d26b433891d8605b96999ea99bbf506e756a7b1/lesscpy-0.13.0-py2.py3-none-any.whl (48kB)\n",
      "Requirement already satisfied: traitlets>=4.2 in c:\\users\\tjlee\\anaconda3\\lib\\site-packages (from ipython>=5.4.1->jupyterthemes) (4.3.2)\n",
      "Requirement already satisfied: jedi>=0.10 in c:\\users\\tjlee\\anaconda3\\lib\\site-packages (from ipython>=5.4.1->jupyterthemes) (0.12.1)\n",
      "Requirement already satisfied: pickleshare in c:\\users\\tjlee\\anaconda3\\lib\\site-packages (from ipython>=5.4.1->jupyterthemes) (0.7.4)\n",
      "Requirement already satisfied: simplegeneric>0.8 in c:\\users\\tjlee\\anaconda3\\lib\\site-packages (from ipython>=5.4.1->jupyterthemes) (0.8.1)\n",
      "Requirement already satisfied: setuptools>=18.5 in c:\\users\\tjlee\\anaconda3\\lib\\site-packages (from ipython>=5.4.1->jupyterthemes) (39.1.0)\n",
      "Requirement already satisfied: pygments in c:\\users\\tjlee\\anaconda3\\lib\\site-packages (from ipython>=5.4.1->jupyterthemes) (2.2.0)\n",
      "Requirement already satisfied: colorama; sys_platform == \"win32\" in c:\\users\\tjlee\\anaconda3\\lib\\site-packages (from ipython>=5.4.1->jupyterthemes) (0.3.9)\n",
      "Requirement already satisfied: decorator in c:\\users\\tjlee\\anaconda3\\lib\\site-packages (from ipython>=5.4.1->jupyterthemes) (4.3.0)\n",
      "Requirement already satisfied: backcall in c:\\users\\tjlee\\anaconda3\\lib\\site-packages (from ipython>=5.4.1->jupyterthemes) (0.1.0)\n",
      "Requirement already satisfied: prompt-toolkit<2.0.0,>=1.0.15 in c:\\users\\tjlee\\anaconda3\\lib\\site-packages (from ipython>=5.4.1->jupyterthemes) (1.0.15)\n",
      "Requirement already satisfied: ipython-genutils in c:\\users\\tjlee\\anaconda3\\lib\\site-packages (from notebook>=5.6.0->jupyterthemes) (0.2.0)\n",
      "Requirement already satisfied: nbformat in c:\\users\\tjlee\\anaconda3\\lib\\site-packages (from notebook>=5.6.0->jupyterthemes) (4.4.0)\n",
      "Requirement already satisfied: ipykernel in c:\\users\\tjlee\\anaconda3\\lib\\site-packages (from notebook>=5.6.0->jupyterthemes) (4.8.2)\n",
      "Requirement already satisfied: prometheus-client in c:\\users\\tjlee\\anaconda3\\lib\\site-packages (from notebook>=5.6.0->jupyterthemes) (0.3.1)\n",
      "Requirement already satisfied: jupyter-client>=5.2.0 in c:\\users\\tjlee\\anaconda3\\lib\\site-packages (from notebook>=5.6.0->jupyterthemes) (5.2.3)\n",
      "Requirement already satisfied: nbconvert in c:\\users\\tjlee\\anaconda3\\lib\\site-packages (from notebook>=5.6.0->jupyterthemes) (5.3.1)\n",
      "Requirement already satisfied: Send2Trash in c:\\users\\tjlee\\anaconda3\\lib\\site-packages (from notebook>=5.6.0->jupyterthemes) (1.5.0)\n",
      "Requirement already satisfied: tornado>=4 in c:\\users\\tjlee\\anaconda3\\lib\\site-packages (from notebook>=5.6.0->jupyterthemes) (5.1)\n",
      "Requirement already satisfied: pyzmq>=17 in c:\\users\\tjlee\\anaconda3\\lib\\site-packages (from notebook>=5.6.0->jupyterthemes) (17.1.2)\n",
      "Requirement already satisfied: jinja2 in c:\\users\\tjlee\\anaconda3\\lib\\site-packages (from notebook>=5.6.0->jupyterthemes) (2.10)\n",
      "Requirement already satisfied: terminado>=0.8.1 in c:\\users\\tjlee\\anaconda3\\lib\\site-packages (from notebook>=5.6.0->jupyterthemes) (0.8.1)\n",
      "Requirement already satisfied: numpy>=1.7.1 in c:\\users\\tjlee\\anaconda3\\lib\\site-packages (from matplotlib>=1.4.3->jupyterthemes) (1.14.5)\n",
      "Requirement already satisfied: cycler>=0.10 in c:\\users\\tjlee\\anaconda3\\lib\\site-packages (from matplotlib>=1.4.3->jupyterthemes) (0.10.0)\n",
      "Requirement already satisfied: pyparsing!=2.0.4,!=2.1.2,!=2.1.6,>=2.0.1 in c:\\users\\tjlee\\anaconda3\\lib\\site-packages (from matplotlib>=1.4.3->jupyterthemes) (2.2.0)\n",
      "Requirement already satisfied: python-dateutil>=2.1 in c:\\users\\tjlee\\anaconda3\\lib\\site-packages (from matplotlib>=1.4.3->jupyterthemes) (2.7.3)\n",
      "Requirement already satisfied: pytz in c:\\users\\tjlee\\anaconda3\\lib\\site-packages (from matplotlib>=1.4.3->jupyterthemes) (2018.5)\n",
      "Requirement already satisfied: six>=1.10 in c:\\users\\tjlee\\anaconda3\\lib\\site-packages (from matplotlib>=1.4.3->jupyterthemes) (1.11.0)\n",
      "Requirement already satisfied: kiwisolver>=1.0.1 in c:\\users\\tjlee\\anaconda3\\lib\\site-packages (from matplotlib>=1.4.3->jupyterthemes) (1.0.1)\n",
      "Requirement already satisfied: ply in c:\\users\\tjlee\\anaconda3\\lib\\site-packages (from lesscpy>=0.11.2->jupyterthemes) (3.11)\n",
      "Requirement already satisfied: parso>=0.3.0 in c:\\users\\tjlee\\anaconda3\\lib\\site-packages (from jedi>=0.10->ipython>=5.4.1->jupyterthemes) (0.3.1)\n",
      "Requirement already satisfied: wcwidth in c:\\users\\tjlee\\anaconda3\\lib\\site-packages (from prompt-toolkit<2.0.0,>=1.0.15->ipython>=5.4.1->jupyterthemes) (0.1.7)\n",
      "Requirement already satisfied: jsonschema!=2.5.0,>=2.4 in c:\\users\\tjlee\\anaconda3\\lib\\site-packages (from nbformat->notebook>=5.6.0->jupyterthemes) (2.6.0)\n",
      "Requirement already satisfied: mistune>=0.7.4 in c:\\users\\tjlee\\anaconda3\\lib\\site-packages (from nbconvert->notebook>=5.6.0->jupyterthemes) (0.8.3)\n",
      "Requirement already satisfied: entrypoints>=0.2.2 in c:\\users\\tjlee\\anaconda3\\lib\\site-packages (from nbconvert->notebook>=5.6.0->jupyterthemes) (0.2.3)\n",
      "Requirement already satisfied: pandocfilters>=1.4.1 in c:\\users\\tjlee\\anaconda3\\lib\\site-packages (from nbconvert->notebook>=5.6.0->jupyterthemes) (1.4.2)\n",
      "Requirement already satisfied: bleach in c:\\users\\tjlee\\anaconda3\\lib\\site-packages (from nbconvert->notebook>=5.6.0->jupyterthemes) (2.1.3)\n",
      "Requirement already satisfied: testpath in c:\\users\\tjlee\\anaconda3\\lib\\site-packages (from nbconvert->notebook>=5.6.0->jupyterthemes) (0.3.1)\n",
      "Requirement already satisfied: MarkupSafe>=0.23 in c:\\users\\tjlee\\anaconda3\\lib\\site-packages (from jinja2->notebook>=5.6.0->jupyterthemes) (1.0)\n",
      "Requirement already satisfied: html5lib!=1.0b1,!=1.0b2,!=1.0b3,!=1.0b4,!=1.0b5,!=1.0b6,!=1.0b7,!=1.0b8,>=0.99999999pre in c:\\users\\tjlee\\anaconda3\\lib\\site-packages (from bleach->nbconvert->notebook>=5.6.0->jupyterthemes) (1.0.1)\n",
      "Requirement already satisfied: webencodings in c:\\users\\tjlee\\anaconda3\\lib\\site-packages (from html5lib!=1.0b1,!=1.0b2,!=1.0b3,!=1.0b4,!=1.0b5,!=1.0b6,!=1.0b7,!=1.0b8,>=0.99999999pre->bleach->nbconvert->notebook>=5.6.0->jupyterthemes) (0.5.1)\n",
      "Installing collected packages: lesscpy, jupyterthemes\n",
      "Successfully installed jupyterthemes-0.20.0 lesscpy-0.13.0\n"
     ]
    },
    {
     "name": "stderr",
     "output_type": "stream",
     "text": [
      "You are using pip version 18.0, however version 19.1.1 is available.\n",
      "You should consider upgrading via the 'python -m pip install --upgrade pip' command.\n"
     ]
    }
   ],
   "source": [
    "!pip install jupyterthemes"
   ]
  },
  {
   "cell_type": "code",
   "execution_count": 7,
   "metadata": {},
   "outputs": [],
   "source": [
    "so_car=Car(\"Toyota\",\"B\")"
   ]
  },
  {
   "cell_type": "code",
   "execution_count": 11,
   "metadata": {},
   "outputs": [
    {
     "data": {
      "text/plain": [
       "0"
      ]
     },
     "execution_count": 11,
     "metadata": {},
     "output_type": "execute_result"
    }
   ],
   "source": [
    "Car.total_num"
   ]
  },
  {
   "cell_type": "code",
   "execution_count": 58,
   "metadata": {},
   "outputs": [],
   "source": [
    "class Car(object):\n",
    "    total_num = 0\n",
    "    \n",
    "    @staticmethod\n",
    "    def call_119():\n",
    "        return \"119\"\n",
    "    \n",
    "    @classmethod\n",
    "    def get_total_car(cls):\n",
    "        return cls.total_num\n",
    "    \n",
    "    def __init__(self, model, engine_rank):\n",
    "        self.model = model\n",
    "        self.engine_rank = engine_rank\n",
    "        self.speed = 0\n",
    "        self.maxSpeed = 1000\n",
    "        \n",
    "        Car.total_num +=1\n",
    "        \n",
    "    def accelerate(self):\n",
    "        self.speed+=10\n",
    "        return True\n",
    "    \n",
    "    def push_break(self):\n",
    "        self.speed -=10\n",
    "        return True\n",
    "    "
   ]
  },
  {
   "cell_type": "code",
   "execution_count": 59,
   "metadata": {},
   "outputs": [],
   "source": [
    "car1=Car(\"1\",\"2\")\n",
    "car2=Car(\"1\",\"2\")\n",
    "car3=Car(\"1\",\"2\")\n"
   ]
  },
  {
   "cell_type": "code",
   "execution_count": 60,
   "metadata": {},
   "outputs": [
    {
     "data": {
      "text/plain": [
       "3"
      ]
     },
     "execution_count": 60,
     "metadata": {},
     "output_type": "execute_result"
    }
   ],
   "source": [
    "Car.total_num"
   ]
  },
  {
   "cell_type": "code",
   "execution_count": 61,
   "metadata": {},
   "outputs": [
    {
     "data": {
      "text/plain": [
       "'119'"
      ]
     },
     "execution_count": 61,
     "metadata": {},
     "output_type": "execute_result"
    }
   ],
   "source": [
    "Car.call_119()"
   ]
  },
  {
   "cell_type": "code",
   "execution_count": 62,
   "metadata": {},
   "outputs": [
    {
     "data": {
      "text/plain": [
       "'119'"
      ]
     },
     "execution_count": 62,
     "metadata": {},
     "output_type": "execute_result"
    }
   ],
   "source": [
    "car1.call_119()"
   ]
  },
  {
   "cell_type": "code",
   "execution_count": 65,
   "metadata": {},
   "outputs": [
    {
     "data": {
      "text/plain": [
       "3"
      ]
     },
     "execution_count": 65,
     "metadata": {},
     "output_type": "execute_result"
    }
   ],
   "source": [
    "Car.get_total_car()"
   ]
  },
  {
   "cell_type": "code",
   "execution_count": 51,
   "metadata": {},
   "outputs": [],
   "source": [
    "class BMWCar(Car):\n",
    "    def accelerate(self):\n",
    "        self.speed+=100\n",
    "        \n",
    "        super().accelerate()"
   ]
  },
  {
   "cell_type": "code",
   "execution_count": 52,
   "metadata": {},
   "outputs": [],
   "source": [
    "wcar=BMWCar(\"hello\",\"world\")"
   ]
  },
  {
   "cell_type": "code",
   "execution_count": 53,
   "metadata": {},
   "outputs": [],
   "source": [
    "wcar.accelerate()"
   ]
  },
  {
   "cell_type": "code",
   "execution_count": 54,
   "metadata": {},
   "outputs": [
    {
     "data": {
      "text/plain": [
       "110"
      ]
     },
     "execution_count": 54,
     "metadata": {},
     "output_type": "execute_result"
    }
   ],
   "source": [
    "wcar.speed"
   ]
  },
  {
   "cell_type": "code",
   "execution_count": null,
   "metadata": {},
   "outputs": [],
   "source": []
  }
 ],
 "metadata": {
  "kernelspec": {
   "display_name": "Python 3",
   "language": "python",
   "name": "python3"
  },
  "language_info": {
   "codemirror_mode": {
    "name": "ipython",
    "version": 3
   },
   "file_extension": ".py",
   "mimetype": "text/x-python",
   "name": "python",
   "nbconvert_exporter": "python",
   "pygments_lexer": "ipython3",
   "version": "3.6.6"
  }
 },
 "nbformat": 4,
 "nbformat_minor": 2
}
