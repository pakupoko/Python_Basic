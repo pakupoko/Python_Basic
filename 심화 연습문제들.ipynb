{
 "cells": [
  {
   "cell_type": "markdown",
   "metadata": {},
   "source": [
    "# 연습문제 개미수열"
   ]
  },
  {
   "cell_type": "code",
   "execution_count": 167,
   "metadata": {},
   "outputs": [
    {
     "name": "stdout",
     "output_type": "stream",
     "text": [
      "몇 번째 위치의 수열을 찾으십니까? : 4\n",
      "1121\n"
     ]
    }
   ],
   "source": [
    "num=int(input(\"몇 번째 위치의 수열을 찾으십니까? : \"))\n",
    "ant_seq=\"\"\n",
    "\n",
    "num_list = [1]\n",
    "\n",
    "for i in range(num-1):\n",
    "    j=0\n",
    "    count = 1\n",
    "    temp_list=list()\n",
    "    while True:\n",
    "        try:\n",
    "            if num_list[j] == num_list[j+1] :\n",
    "                count+=1\n",
    "            else:\n",
    "                temp_list.append(num_list[j])\n",
    "                temp_list.append(count)\n",
    "                count=1\n",
    "\n",
    "        except IndexError as e:\n",
    "            temp_list.append(num_list[j])\n",
    "            if count >=2 :\n",
    "                temp_list.append(count)\n",
    "            else:\n",
    "                temp_list.append(1)\n",
    "            break\n",
    "\n",
    "        j+=1\n",
    "\n",
    "    num_list=temp_list.copy()\n",
    "\n",
    "for i in num_list:\n",
    "    ant_seq+=str(i)\n",
    "\n",
    "print(ant_seq)\n",
    "                \n",
    "                \n",
    "            \n",
    "                \n"
   ]
  },
  {
   "cell_type": "code",
   "execution_count": null,
   "metadata": {},
   "outputs": [],
   "source": []
  },
  {
   "cell_type": "markdown",
   "metadata": {},
   "source": [
    "# 연습문제 피보나치 수열"
   ]
  },
  {
   "cell_type": "code",
   "execution_count": 163,
   "metadata": {},
   "outputs": [
    {
     "name": "stdout",
     "output_type": "stream",
     "text": [
      "몇 번째 까지의 수열을 찾으십니까? : 6\n",
      "1 1 2 3 5 8 \n"
     ]
    }
   ],
   "source": [
    "num=int(input(\"몇 번째 까지의 수열을 찾으십니까? : \"))\n",
    "fibonacci_seq=\"\"\n",
    "\n",
    "if num == 1:\n",
    "    print(num)\n",
    "\n",
    "else:\n",
    "    temp_list=[1,1]\n",
    "    j=1\n",
    "    while j<num-1:\n",
    "        temp_list.append(temp_list[j]+temp_list[j-1])\n",
    "        j+=1\n",
    "        \n",
    "    for i in temp_list:\n",
    "        fibonacci_seq+=str(i)+\" \"\n",
    "\n",
    "    print(fibonacci_seq)\n",
    "\n",
    "                \n",
    "        "
   ]
  },
  {
   "cell_type": "code",
   "execution_count": 154,
   "metadata": {},
   "outputs": [
    {
     "name": "stdout",
     "output_type": "stream",
     "text": [
      "몇 번째의 값을 찾으십니까?(피보나치 수열) : 10\n",
      "55 \t----10\n"
     ]
    }
   ],
   "source": [
    "num=int(input(\"몇 번째의 값을 찾으십니까?(피보나치 수열) : \"))\n",
    "\n",
    "fibonacci_seq=1\n",
    "temp_num1=0\n",
    "temp_num2=0\n",
    "for i in range(num):\n",
    "    fibonacci_seq+=temp_num1\n",
    "    temp_num1=temp_num2\n",
    "    temp_num2=fibonacci_seq\n",
    "    \n",
    "\n",
    "print(fibonacci_seq,f\"\\t----{num}\")"
   ]
  },
  {
   "cell_type": "code",
   "execution_count": null,
   "metadata": {},
   "outputs": [],
   "source": []
  },
  {
   "cell_type": "code",
   "execution_count": null,
   "metadata": {},
   "outputs": [],
   "source": []
  }
 ],
 "metadata": {
  "kernelspec": {
   "display_name": "Python 3",
   "language": "python",
   "name": "python3"
  }
 },
 "nbformat": 4,
 "nbformat_minor": 2
}
